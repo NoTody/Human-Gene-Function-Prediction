{
 "cells": [
  {
   "cell_type": "code",
   "execution_count": 104,
   "metadata": {},
   "outputs": [],
   "source": [
    "import pandas as pd\n",
    "import numpy as np\n",
    "import matplotlib.pyplot as plt\n",
    "\n",
    "from sklearn.model_selection import train_test_split\n",
    "from sklearn.model_selection import RandomizedSearchCV\n",
    "from sklearn.model_selection import KFold\n",
    "from sklearn.model_selection import cross_val_predict,cross_val_score\n",
    "from sklearn.ensemble import RandomForestClassifier, AdaBoostClassifier\n",
    "from sklearn.metrics import roc_auc_score\n",
    "\n",
    "import tensorflow as tf"
   ]
  },
  {
   "cell_type": "code",
   "execution_count": 2,
   "metadata": {},
   "outputs": [
    {
     "data": {
      "text/plain": [
       "(6154, 625)"
      ]
     },
     "execution_count": 2,
     "metadata": {},
     "output_type": "execute_result"
    }
   ],
   "source": [
    "X_train = pd.read_csv(\"/Users/haoxuhuang/Desktop/CSCI5461/csci5461spring2020/X_train.csv\", index_col=0)\n",
    "X_train.head()\n",
    "X_train.shape"
   ]
  },
  {
   "cell_type": "code",
   "execution_count": 3,
   "metadata": {},
   "outputs": [
    {
     "data": {
      "text/html": [
       "<div>\n",
       "<style scoped>\n",
       "    .dataframe tbody tr th:only-of-type {\n",
       "        vertical-align: middle;\n",
       "    }\n",
       "\n",
       "    .dataframe tbody tr th {\n",
       "        vertical-align: top;\n",
       "    }\n",
       "\n",
       "    .dataframe thead th {\n",
       "        text-align: right;\n",
       "    }\n",
       "</style>\n",
       "<table border=\"1\" class=\"dataframe\">\n",
       "  <thead>\n",
       "    <tr style=\"text-align: right;\">\n",
       "      <th></th>\n",
       "      <th>ACH.000681</th>\n",
       "      <th>ACH.000889</th>\n",
       "      <th>ACH.000085</th>\n",
       "      <th>ACH.000045</th>\n",
       "      <th>ACH.000272</th>\n",
       "      <th>ACH.000422</th>\n",
       "      <th>ACH.000965</th>\n",
       "      <th>ACH.000182</th>\n",
       "      <th>ACH.000771</th>\n",
       "      <th>ACH.001197</th>\n",
       "      <th>...</th>\n",
       "      <th>ACH.000260</th>\n",
       "      <th>ACH.001190</th>\n",
       "      <th>ACH.000041</th>\n",
       "      <th>ACH.001654</th>\n",
       "      <th>ACH.000450</th>\n",
       "      <th>ACH.000070</th>\n",
       "      <th>ACH.000142</th>\n",
       "      <th>ACH.000047</th>\n",
       "      <th>ACH.001048</th>\n",
       "      <th>ACH.000577</th>\n",
       "    </tr>\n",
       "    <tr>\n",
       "      <th>id</th>\n",
       "      <th></th>\n",
       "      <th></th>\n",
       "      <th></th>\n",
       "      <th></th>\n",
       "      <th></th>\n",
       "      <th></th>\n",
       "      <th></th>\n",
       "      <th></th>\n",
       "      <th></th>\n",
       "      <th></th>\n",
       "      <th></th>\n",
       "      <th></th>\n",
       "      <th></th>\n",
       "      <th></th>\n",
       "      <th></th>\n",
       "      <th></th>\n",
       "      <th></th>\n",
       "      <th></th>\n",
       "      <th></th>\n",
       "      <th></th>\n",
       "      <th></th>\n",
       "    </tr>\n",
       "  </thead>\n",
       "  <tbody>\n",
       "    <tr>\n",
       "      <th>ADAM12</th>\n",
       "      <td>0.059848</td>\n",
       "      <td>-0.053661</td>\n",
       "      <td>-0.091688</td>\n",
       "      <td>-0.068956</td>\n",
       "      <td>-0.152298</td>\n",
       "      <td>-0.088696</td>\n",
       "      <td>-0.128184</td>\n",
       "      <td>-0.285314</td>\n",
       "      <td>0.032311</td>\n",
       "      <td>-0.425669</td>\n",
       "      <td>...</td>\n",
       "      <td>-0.087220</td>\n",
       "      <td>-0.273373</td>\n",
       "      <td>-0.182057</td>\n",
       "      <td>-0.150483</td>\n",
       "      <td>-0.230742</td>\n",
       "      <td>-0.264071</td>\n",
       "      <td>-0.086457</td>\n",
       "      <td>0.000345</td>\n",
       "      <td>0.070497</td>\n",
       "      <td>-0.218662</td>\n",
       "    </tr>\n",
       "    <tr>\n",
       "      <th>ASCL2</th>\n",
       "      <td>0.093353</td>\n",
       "      <td>0.276959</td>\n",
       "      <td>-0.185533</td>\n",
       "      <td>0.125729</td>\n",
       "      <td>0.175377</td>\n",
       "      <td>0.017200</td>\n",
       "      <td>0.035373</td>\n",
       "      <td>0.071974</td>\n",
       "      <td>0.032111</td>\n",
       "      <td>0.092091</td>\n",
       "      <td>...</td>\n",
       "      <td>-0.044362</td>\n",
       "      <td>0.147615</td>\n",
       "      <td>0.260828</td>\n",
       "      <td>0.046438</td>\n",
       "      <td>0.088017</td>\n",
       "      <td>0.059690</td>\n",
       "      <td>0.104963</td>\n",
       "      <td>0.065113</td>\n",
       "      <td>0.174177</td>\n",
       "      <td>-0.105719</td>\n",
       "    </tr>\n",
       "    <tr>\n",
       "      <th>CLDN9</th>\n",
       "      <td>-0.038010</td>\n",
       "      <td>0.015903</td>\n",
       "      <td>-0.014372</td>\n",
       "      <td>-0.217112</td>\n",
       "      <td>-0.146029</td>\n",
       "      <td>-0.193692</td>\n",
       "      <td>-0.242332</td>\n",
       "      <td>-0.235526</td>\n",
       "      <td>0.041940</td>\n",
       "      <td>-0.429223</td>\n",
       "      <td>...</td>\n",
       "      <td>-0.133552</td>\n",
       "      <td>-0.178062</td>\n",
       "      <td>0.018662</td>\n",
       "      <td>-0.060168</td>\n",
       "      <td>0.032538</td>\n",
       "      <td>-0.161255</td>\n",
       "      <td>-0.301312</td>\n",
       "      <td>-0.171753</td>\n",
       "      <td>0.055067</td>\n",
       "      <td>-0.332369</td>\n",
       "    </tr>\n",
       "    <tr>\n",
       "      <th>RASL10A</th>\n",
       "      <td>-0.185151</td>\n",
       "      <td>-0.236928</td>\n",
       "      <td>-0.352355</td>\n",
       "      <td>-0.206573</td>\n",
       "      <td>-0.306400</td>\n",
       "      <td>-0.228536</td>\n",
       "      <td>-0.257675</td>\n",
       "      <td>-0.156477</td>\n",
       "      <td>-0.346809</td>\n",
       "      <td>-0.243910</td>\n",
       "      <td>...</td>\n",
       "      <td>-0.198335</td>\n",
       "      <td>0.055731</td>\n",
       "      <td>-0.213767</td>\n",
       "      <td>-0.297809</td>\n",
       "      <td>-0.512565</td>\n",
       "      <td>-0.168426</td>\n",
       "      <td>-0.359277</td>\n",
       "      <td>-0.273639</td>\n",
       "      <td>-0.268021</td>\n",
       "      <td>0.061375</td>\n",
       "    </tr>\n",
       "    <tr>\n",
       "      <th>CD5</th>\n",
       "      <td>-0.294807</td>\n",
       "      <td>-0.192580</td>\n",
       "      <td>-0.229294</td>\n",
       "      <td>-0.329013</td>\n",
       "      <td>-0.226258</td>\n",
       "      <td>-0.380718</td>\n",
       "      <td>-0.189461</td>\n",
       "      <td>-0.351066</td>\n",
       "      <td>-0.287450</td>\n",
       "      <td>-0.109523</td>\n",
       "      <td>...</td>\n",
       "      <td>-0.284807</td>\n",
       "      <td>-0.486690</td>\n",
       "      <td>-0.113514</td>\n",
       "      <td>-0.265717</td>\n",
       "      <td>-0.324331</td>\n",
       "      <td>-0.346739</td>\n",
       "      <td>-0.357096</td>\n",
       "      <td>-0.209632</td>\n",
       "      <td>-0.323761</td>\n",
       "      <td>-0.399769</td>\n",
       "    </tr>\n",
       "  </tbody>\n",
       "</table>\n",
       "<p>5 rows × 625 columns</p>\n",
       "</div>"
      ],
      "text/plain": [
       "         ACH.000681  ACH.000889  ACH.000085  ACH.000045  ACH.000272  \\\n",
       "id                                                                    \n",
       "ADAM12     0.059848   -0.053661   -0.091688   -0.068956   -0.152298   \n",
       "ASCL2      0.093353    0.276959   -0.185533    0.125729    0.175377   \n",
       "CLDN9     -0.038010    0.015903   -0.014372   -0.217112   -0.146029   \n",
       "RASL10A   -0.185151   -0.236928   -0.352355   -0.206573   -0.306400   \n",
       "CD5       -0.294807   -0.192580   -0.229294   -0.329013   -0.226258   \n",
       "\n",
       "         ACH.000422  ACH.000965  ACH.000182  ACH.000771  ACH.001197  ...  \\\n",
       "id                                                                   ...   \n",
       "ADAM12    -0.088696   -0.128184   -0.285314    0.032311   -0.425669  ...   \n",
       "ASCL2      0.017200    0.035373    0.071974    0.032111    0.092091  ...   \n",
       "CLDN9     -0.193692   -0.242332   -0.235526    0.041940   -0.429223  ...   \n",
       "RASL10A   -0.228536   -0.257675   -0.156477   -0.346809   -0.243910  ...   \n",
       "CD5       -0.380718   -0.189461   -0.351066   -0.287450   -0.109523  ...   \n",
       "\n",
       "         ACH.000260  ACH.001190  ACH.000041  ACH.001654  ACH.000450  \\\n",
       "id                                                                    \n",
       "ADAM12    -0.087220   -0.273373   -0.182057   -0.150483   -0.230742   \n",
       "ASCL2     -0.044362    0.147615    0.260828    0.046438    0.088017   \n",
       "CLDN9     -0.133552   -0.178062    0.018662   -0.060168    0.032538   \n",
       "RASL10A   -0.198335    0.055731   -0.213767   -0.297809   -0.512565   \n",
       "CD5       -0.284807   -0.486690   -0.113514   -0.265717   -0.324331   \n",
       "\n",
       "         ACH.000070  ACH.000142  ACH.000047  ACH.001048  ACH.000577  \n",
       "id                                                                   \n",
       "ADAM12    -0.264071   -0.086457    0.000345    0.070497   -0.218662  \n",
       "ASCL2      0.059690    0.104963    0.065113    0.174177   -0.105719  \n",
       "CLDN9     -0.161255   -0.301312   -0.171753    0.055067   -0.332369  \n",
       "RASL10A   -0.168426   -0.359277   -0.273639   -0.268021    0.061375  \n",
       "CD5       -0.346739   -0.357096   -0.209632   -0.323761   -0.399769  \n",
       "\n",
       "[5 rows x 625 columns]"
      ]
     },
     "execution_count": 3,
     "metadata": {},
     "output_type": "execute_result"
    }
   ],
   "source": [
    "X_train.head()"
   ]
  },
  {
   "cell_type": "code",
   "execution_count": 4,
   "metadata": {},
   "outputs": [
    {
     "data": {
      "text/plain": [
       "(6154, 200)"
      ]
     },
     "execution_count": 4,
     "metadata": {},
     "output_type": "execute_result"
    }
   ],
   "source": [
    "y_train = pd.read_csv(\"/Users/haoxuhuang/Desktop/CSCI5461/csci5461spring2020/y_train.csv\", index_col=0)\n",
    "y_train.head()\n",
    "y_train.shape"
   ]
  },
  {
   "cell_type": "code",
   "execution_count": 5,
   "metadata": {},
   "outputs": [
    {
     "data": {
      "text/html": [
       "<div>\n",
       "<style scoped>\n",
       "    .dataframe tbody tr th:only-of-type {\n",
       "        vertical-align: middle;\n",
       "    }\n",
       "\n",
       "    .dataframe tbody tr th {\n",
       "        vertical-align: top;\n",
       "    }\n",
       "\n",
       "    .dataframe thead th {\n",
       "        text-align: right;\n",
       "    }\n",
       "</style>\n",
       "<table border=\"1\" class=\"dataframe\">\n",
       "  <thead>\n",
       "    <tr style=\"text-align: right;\">\n",
       "      <th></th>\n",
       "      <th>GO:0007204</th>\n",
       "      <th>GO:0031146</th>\n",
       "      <th>GO:0019216</th>\n",
       "      <th>GO:0033209</th>\n",
       "      <th>GO:0009617</th>\n",
       "      <th>GO:0042391</th>\n",
       "      <th>GO:0032869</th>\n",
       "      <th>GO:0098609</th>\n",
       "      <th>GO:0000902</th>\n",
       "      <th>GO:0034765</th>\n",
       "      <th>...</th>\n",
       "      <th>GO:0030182</th>\n",
       "      <th>GO:0006338</th>\n",
       "      <th>GO:0097711</th>\n",
       "      <th>GO:0007218</th>\n",
       "      <th>GO:0006406</th>\n",
       "      <th>GO:1902476</th>\n",
       "      <th>GO:0006464</th>\n",
       "      <th>GO:0035335</th>\n",
       "      <th>GO:0030593</th>\n",
       "      <th>GO:0016055</th>\n",
       "    </tr>\n",
       "    <tr>\n",
       "      <th>id</th>\n",
       "      <th></th>\n",
       "      <th></th>\n",
       "      <th></th>\n",
       "      <th></th>\n",
       "      <th></th>\n",
       "      <th></th>\n",
       "      <th></th>\n",
       "      <th></th>\n",
       "      <th></th>\n",
       "      <th></th>\n",
       "      <th></th>\n",
       "      <th></th>\n",
       "      <th></th>\n",
       "      <th></th>\n",
       "      <th></th>\n",
       "      <th></th>\n",
       "      <th></th>\n",
       "      <th></th>\n",
       "      <th></th>\n",
       "      <th></th>\n",
       "      <th></th>\n",
       "    </tr>\n",
       "  </thead>\n",
       "  <tbody>\n",
       "    <tr>\n",
       "      <th>ADAM12</th>\n",
       "      <td>0</td>\n",
       "      <td>0</td>\n",
       "      <td>0</td>\n",
       "      <td>0</td>\n",
       "      <td>0</td>\n",
       "      <td>0</td>\n",
       "      <td>0</td>\n",
       "      <td>0</td>\n",
       "      <td>0</td>\n",
       "      <td>0</td>\n",
       "      <td>...</td>\n",
       "      <td>0</td>\n",
       "      <td>0</td>\n",
       "      <td>0</td>\n",
       "      <td>0</td>\n",
       "      <td>0</td>\n",
       "      <td>0</td>\n",
       "      <td>0</td>\n",
       "      <td>0</td>\n",
       "      <td>0</td>\n",
       "      <td>0</td>\n",
       "    </tr>\n",
       "    <tr>\n",
       "      <th>ASCL2</th>\n",
       "      <td>0</td>\n",
       "      <td>0</td>\n",
       "      <td>0</td>\n",
       "      <td>0</td>\n",
       "      <td>0</td>\n",
       "      <td>0</td>\n",
       "      <td>0</td>\n",
       "      <td>0</td>\n",
       "      <td>0</td>\n",
       "      <td>0</td>\n",
       "      <td>...</td>\n",
       "      <td>1</td>\n",
       "      <td>0</td>\n",
       "      <td>0</td>\n",
       "      <td>0</td>\n",
       "      <td>0</td>\n",
       "      <td>0</td>\n",
       "      <td>0</td>\n",
       "      <td>0</td>\n",
       "      <td>0</td>\n",
       "      <td>0</td>\n",
       "    </tr>\n",
       "    <tr>\n",
       "      <th>CLDN9</th>\n",
       "      <td>0</td>\n",
       "      <td>0</td>\n",
       "      <td>0</td>\n",
       "      <td>0</td>\n",
       "      <td>0</td>\n",
       "      <td>0</td>\n",
       "      <td>0</td>\n",
       "      <td>0</td>\n",
       "      <td>0</td>\n",
       "      <td>0</td>\n",
       "      <td>...</td>\n",
       "      <td>0</td>\n",
       "      <td>0</td>\n",
       "      <td>0</td>\n",
       "      <td>0</td>\n",
       "      <td>0</td>\n",
       "      <td>0</td>\n",
       "      <td>0</td>\n",
       "      <td>0</td>\n",
       "      <td>0</td>\n",
       "      <td>0</td>\n",
       "    </tr>\n",
       "    <tr>\n",
       "      <th>RASL10A</th>\n",
       "      <td>0</td>\n",
       "      <td>0</td>\n",
       "      <td>0</td>\n",
       "      <td>0</td>\n",
       "      <td>0</td>\n",
       "      <td>0</td>\n",
       "      <td>0</td>\n",
       "      <td>0</td>\n",
       "      <td>0</td>\n",
       "      <td>0</td>\n",
       "      <td>...</td>\n",
       "      <td>0</td>\n",
       "      <td>0</td>\n",
       "      <td>0</td>\n",
       "      <td>0</td>\n",
       "      <td>0</td>\n",
       "      <td>0</td>\n",
       "      <td>0</td>\n",
       "      <td>0</td>\n",
       "      <td>0</td>\n",
       "      <td>0</td>\n",
       "    </tr>\n",
       "    <tr>\n",
       "      <th>CD5</th>\n",
       "      <td>0</td>\n",
       "      <td>0</td>\n",
       "      <td>0</td>\n",
       "      <td>0</td>\n",
       "      <td>0</td>\n",
       "      <td>0</td>\n",
       "      <td>0</td>\n",
       "      <td>0</td>\n",
       "      <td>0</td>\n",
       "      <td>0</td>\n",
       "      <td>...</td>\n",
       "      <td>0</td>\n",
       "      <td>0</td>\n",
       "      <td>0</td>\n",
       "      <td>0</td>\n",
       "      <td>0</td>\n",
       "      <td>0</td>\n",
       "      <td>0</td>\n",
       "      <td>0</td>\n",
       "      <td>0</td>\n",
       "      <td>0</td>\n",
       "    </tr>\n",
       "  </tbody>\n",
       "</table>\n",
       "<p>5 rows × 200 columns</p>\n",
       "</div>"
      ],
      "text/plain": [
       "         GO:0007204  GO:0031146  GO:0019216  GO:0033209  GO:0009617  \\\n",
       "id                                                                    \n",
       "ADAM12            0           0           0           0           0   \n",
       "ASCL2             0           0           0           0           0   \n",
       "CLDN9             0           0           0           0           0   \n",
       "RASL10A           0           0           0           0           0   \n",
       "CD5               0           0           0           0           0   \n",
       "\n",
       "         GO:0042391  GO:0032869  GO:0098609  GO:0000902  GO:0034765  ...  \\\n",
       "id                                                                   ...   \n",
       "ADAM12            0           0           0           0           0  ...   \n",
       "ASCL2             0           0           0           0           0  ...   \n",
       "CLDN9             0           0           0           0           0  ...   \n",
       "RASL10A           0           0           0           0           0  ...   \n",
       "CD5               0           0           0           0           0  ...   \n",
       "\n",
       "         GO:0030182  GO:0006338  GO:0097711  GO:0007218  GO:0006406  \\\n",
       "id                                                                    \n",
       "ADAM12            0           0           0           0           0   \n",
       "ASCL2             1           0           0           0           0   \n",
       "CLDN9             0           0           0           0           0   \n",
       "RASL10A           0           0           0           0           0   \n",
       "CD5               0           0           0           0           0   \n",
       "\n",
       "         GO:1902476  GO:0006464  GO:0035335  GO:0030593  GO:0016055  \n",
       "id                                                                   \n",
       "ADAM12            0           0           0           0           0  \n",
       "ASCL2             0           0           0           0           0  \n",
       "CLDN9             0           0           0           0           0  \n",
       "RASL10A           0           0           0           0           0  \n",
       "CD5               0           0           0           0           0  \n",
       "\n",
       "[5 rows x 200 columns]"
      ]
     },
     "execution_count": 5,
     "metadata": {},
     "output_type": "execute_result"
    }
   ],
   "source": [
    "y_train.head()"
   ]
  },
  {
   "cell_type": "code",
   "execution_count": 6,
   "metadata": {},
   "outputs": [
    {
     "data": {
      "text/plain": [
       "1      -2.438735\n",
       "2      -2.304550\n",
       "3      -2.243859\n",
       "4      -2.200964\n",
       "5      -2.166120\n",
       "          ...   \n",
       "6150    0.610317\n",
       "6151    0.647893\n",
       "6152    0.702511\n",
       "6153    0.804925\n",
       "6154    1.087970\n",
       "Length: 6154, dtype: float64"
      ]
     },
     "execution_count": 6,
     "metadata": {},
     "output_type": "execute_result"
    }
   ],
   "source": [
    "# quantile normalization\n",
    "rank_mean = X_train.stack().groupby(X_train.rank(method='first').stack().astype(int)).mean()\n",
    "rank_mean"
   ]
  },
  {
   "cell_type": "code",
   "execution_count": 7,
   "metadata": {},
   "outputs": [
    {
     "data": {
      "text/html": [
       "<div>\n",
       "<style scoped>\n",
       "    .dataframe tbody tr th:only-of-type {\n",
       "        vertical-align: middle;\n",
       "    }\n",
       "\n",
       "    .dataframe tbody tr th {\n",
       "        vertical-align: top;\n",
       "    }\n",
       "\n",
       "    .dataframe thead th {\n",
       "        text-align: right;\n",
       "    }\n",
       "</style>\n",
       "<table border=\"1\" class=\"dataframe\">\n",
       "  <thead>\n",
       "    <tr style=\"text-align: right;\">\n",
       "      <th></th>\n",
       "      <th>ACH.000681</th>\n",
       "      <th>ACH.000889</th>\n",
       "      <th>ACH.000085</th>\n",
       "      <th>ACH.000045</th>\n",
       "      <th>ACH.000272</th>\n",
       "      <th>ACH.000422</th>\n",
       "      <th>ACH.000965</th>\n",
       "      <th>ACH.000182</th>\n",
       "      <th>ACH.000771</th>\n",
       "      <th>ACH.001197</th>\n",
       "      <th>...</th>\n",
       "      <th>ACH.000260</th>\n",
       "      <th>ACH.001190</th>\n",
       "      <th>ACH.000041</th>\n",
       "      <th>ACH.001654</th>\n",
       "      <th>ACH.000450</th>\n",
       "      <th>ACH.000070</th>\n",
       "      <th>ACH.000142</th>\n",
       "      <th>ACH.000047</th>\n",
       "      <th>ACH.001048</th>\n",
       "      <th>ACH.000577</th>\n",
       "    </tr>\n",
       "    <tr>\n",
       "      <th>id</th>\n",
       "      <th></th>\n",
       "      <th></th>\n",
       "      <th></th>\n",
       "      <th></th>\n",
       "      <th></th>\n",
       "      <th></th>\n",
       "      <th></th>\n",
       "      <th></th>\n",
       "      <th></th>\n",
       "      <th></th>\n",
       "      <th></th>\n",
       "      <th></th>\n",
       "      <th></th>\n",
       "      <th></th>\n",
       "      <th></th>\n",
       "      <th></th>\n",
       "      <th></th>\n",
       "      <th></th>\n",
       "      <th></th>\n",
       "      <th></th>\n",
       "      <th></th>\n",
       "    </tr>\n",
       "  </thead>\n",
       "  <tbody>\n",
       "    <tr>\n",
       "      <th>ADAM12</th>\n",
       "      <td>0.049470</td>\n",
       "      <td>-0.061936</td>\n",
       "      <td>-0.081134</td>\n",
       "      <td>-0.083111</td>\n",
       "      <td>-0.162334</td>\n",
       "      <td>-0.097121</td>\n",
       "      <td>-0.141125</td>\n",
       "      <td>-0.330553</td>\n",
       "      <td>0.030718</td>\n",
       "      <td>-0.375188</td>\n",
       "      <td>...</td>\n",
       "      <td>-0.093551</td>\n",
       "      <td>-0.233282</td>\n",
       "      <td>-0.177358</td>\n",
       "      <td>-0.165659</td>\n",
       "      <td>-0.214362</td>\n",
       "      <td>-0.262129</td>\n",
       "      <td>-0.069274</td>\n",
       "      <td>-0.005070</td>\n",
       "      <td>0.083957</td>\n",
       "      <td>-0.169024</td>\n",
       "    </tr>\n",
       "    <tr>\n",
       "      <th>ASCL2</th>\n",
       "      <td>0.080002</td>\n",
       "      <td>0.319534</td>\n",
       "      <td>-0.161737</td>\n",
       "      <td>0.120212</td>\n",
       "      <td>0.196878</td>\n",
       "      <td>0.017875</td>\n",
       "      <td>0.049284</td>\n",
       "      <td>0.075813</td>\n",
       "      <td>0.030633</td>\n",
       "      <td>0.099817</td>\n",
       "      <td>...</td>\n",
       "      <td>-0.042781</td>\n",
       "      <td>0.160946</td>\n",
       "      <td>0.255472</td>\n",
       "      <td>0.066987</td>\n",
       "      <td>0.060236</td>\n",
       "      <td>0.044964</td>\n",
       "      <td>0.110916</td>\n",
       "      <td>0.067383</td>\n",
       "      <td>0.196324</td>\n",
       "      <td>-0.079529</td>\n",
       "    </tr>\n",
       "    <tr>\n",
       "      <th>CLDN9</th>\n",
       "      <td>-0.051569</td>\n",
       "      <td>0.016103</td>\n",
       "      <td>-0.011770</td>\n",
       "      <td>-0.236261</td>\n",
       "      <td>-0.155064</td>\n",
       "      <td>-0.201608</td>\n",
       "      <td>-0.258831</td>\n",
       "      <td>-0.271264</td>\n",
       "      <td>0.042067</td>\n",
       "      <td>-0.376674</td>\n",
       "      <td>...</td>\n",
       "      <td>-0.150467</td>\n",
       "      <td>-0.149178</td>\n",
       "      <td>0.021935</td>\n",
       "      <td>-0.058187</td>\n",
       "      <td>0.013508</td>\n",
       "      <td>-0.165409</td>\n",
       "      <td>-0.279909</td>\n",
       "      <td>-0.194765</td>\n",
       "      <td>0.069624</td>\n",
       "      <td>-0.263711</td>\n",
       "    </tr>\n",
       "    <tr>\n",
       "      <th>RASL10A</th>\n",
       "      <td>-0.205148</td>\n",
       "      <td>-0.253268</td>\n",
       "      <td>-0.324452</td>\n",
       "      <td>-0.223365</td>\n",
       "      <td>-0.321478</td>\n",
       "      <td>-0.241303</td>\n",
       "      <td>-0.278393</td>\n",
       "      <td>-0.182117</td>\n",
       "      <td>-0.361728</td>\n",
       "      <td>-0.213585</td>\n",
       "      <td>...</td>\n",
       "      <td>-0.224337</td>\n",
       "      <td>0.069238</td>\n",
       "      <td>-0.210847</td>\n",
       "      <td>-0.325018</td>\n",
       "      <td>-0.485039</td>\n",
       "      <td>-0.171942</td>\n",
       "      <td>-0.337714</td>\n",
       "      <td>-0.301928</td>\n",
       "      <td>-0.291186</td>\n",
       "      <td>0.046798</td>\n",
       "    </tr>\n",
       "    <tr>\n",
       "      <th>CD5</th>\n",
       "      <td>-0.316651</td>\n",
       "      <td>-0.207529</td>\n",
       "      <td>-0.204545</td>\n",
       "      <td>-0.342141</td>\n",
       "      <td>-0.240257</td>\n",
       "      <td>-0.392360</td>\n",
       "      <td>-0.204545</td>\n",
       "      <td>-0.397942</td>\n",
       "      <td>-0.306318</td>\n",
       "      <td>-0.092962</td>\n",
       "      <td>...</td>\n",
       "      <td>-0.317986</td>\n",
       "      <td>-0.457130</td>\n",
       "      <td>-0.109173</td>\n",
       "      <td>-0.296243</td>\n",
       "      <td>-0.297633</td>\n",
       "      <td>-0.336548</td>\n",
       "      <td>-0.334561</td>\n",
       "      <td>-0.235778</td>\n",
       "      <td>-0.353900</td>\n",
       "      <td>-0.322826</td>\n",
       "    </tr>\n",
       "  </tbody>\n",
       "</table>\n",
       "<p>5 rows × 625 columns</p>\n",
       "</div>"
      ],
      "text/plain": [
       "         ACH.000681  ACH.000889  ACH.000085  ACH.000045  ACH.000272  \\\n",
       "id                                                                    \n",
       "ADAM12     0.049470   -0.061936   -0.081134   -0.083111   -0.162334   \n",
       "ASCL2      0.080002    0.319534   -0.161737    0.120212    0.196878   \n",
       "CLDN9     -0.051569    0.016103   -0.011770   -0.236261   -0.155064   \n",
       "RASL10A   -0.205148   -0.253268   -0.324452   -0.223365   -0.321478   \n",
       "CD5       -0.316651   -0.207529   -0.204545   -0.342141   -0.240257   \n",
       "\n",
       "         ACH.000422  ACH.000965  ACH.000182  ACH.000771  ACH.001197  ...  \\\n",
       "id                                                                   ...   \n",
       "ADAM12    -0.097121   -0.141125   -0.330553    0.030718   -0.375188  ...   \n",
       "ASCL2      0.017875    0.049284    0.075813    0.030633    0.099817  ...   \n",
       "CLDN9     -0.201608   -0.258831   -0.271264    0.042067   -0.376674  ...   \n",
       "RASL10A   -0.241303   -0.278393   -0.182117   -0.361728   -0.213585  ...   \n",
       "CD5       -0.392360   -0.204545   -0.397942   -0.306318   -0.092962  ...   \n",
       "\n",
       "         ACH.000260  ACH.001190  ACH.000041  ACH.001654  ACH.000450  \\\n",
       "id                                                                    \n",
       "ADAM12    -0.093551   -0.233282   -0.177358   -0.165659   -0.214362   \n",
       "ASCL2     -0.042781    0.160946    0.255472    0.066987    0.060236   \n",
       "CLDN9     -0.150467   -0.149178    0.021935   -0.058187    0.013508   \n",
       "RASL10A   -0.224337    0.069238   -0.210847   -0.325018   -0.485039   \n",
       "CD5       -0.317986   -0.457130   -0.109173   -0.296243   -0.297633   \n",
       "\n",
       "         ACH.000070  ACH.000142  ACH.000047  ACH.001048  ACH.000577  \n",
       "id                                                                   \n",
       "ADAM12    -0.262129   -0.069274   -0.005070    0.083957   -0.169024  \n",
       "ASCL2      0.044964    0.110916    0.067383    0.196324   -0.079529  \n",
       "CLDN9     -0.165409   -0.279909   -0.194765    0.069624   -0.263711  \n",
       "RASL10A   -0.171942   -0.337714   -0.301928   -0.291186    0.046798  \n",
       "CD5       -0.336548   -0.334561   -0.235778   -0.353900   -0.322826  \n",
       "\n",
       "[5 rows x 625 columns]"
      ]
     },
     "execution_count": 7,
     "metadata": {},
     "output_type": "execute_result"
    }
   ],
   "source": [
    "X_train_qt = X_train.rank(method='min').stack().astype(int).map(rank_mean).unstack()\n",
    "X_train_qt.head()"
   ]
  },
  {
   "cell_type": "code",
   "execution_count": 8,
   "metadata": {},
   "outputs": [
    {
     "name": "stderr",
     "output_type": "stream",
     "text": [
      "/Users/haoxuhuang/anaconda3/lib/python3.7/site-packages/ipykernel_launcher.py:3: UserWarning: To output multiple subplots, the figure containing the passed axes is being cleared\n",
      "  This is separate from the ipykernel package so we can avoid doing imports until\n"
     ]
    },
    {
     "data": {
      "text/plain": [
       "array([[<matplotlib.axes._subplots.AxesSubplot object at 0x105d9ea90>,\n",
       "        <matplotlib.axes._subplots.AxesSubplot object at 0x117cf06a0>],\n",
       "       [<matplotlib.axes._subplots.AxesSubplot object at 0x1a33f43908>,\n",
       "        <matplotlib.axes._subplots.AxesSubplot object at 0x1a34a78b70>]],\n",
       "      dtype=object)"
      ]
     },
     "execution_count": 8,
     "metadata": {},
     "output_type": "execute_result"
    },
    {
     "data": {
      "image/png": "[encoded data removed]",
      "text/plain": [
       "<Figure size 1080x720 with 4 Axes>"
      ]
     },
     "metadata": {
      "needs_background": "light"
     },
     "output_type": "display_data"
    }
   ],
   "source": [
    "fig = plt.figure(figsize = (15,10))\n",
    "ax = fig.gca()\n",
    "X_train_qt.hist(ax=ax,column=[\"ACH.000681\", \"ACH.000889\", \"ACH.000085\"],bins=40)"
   ]
  },
  {
   "cell_type": "code",
   "execution_count": 9,
   "metadata": {},
   "outputs": [],
   "source": [
    "x_train, x_test, y_train2, y_test = train_test_split(X_train_qt, y_train, test_size = 0.2)"
   ]
  },
  {
   "cell_type": "code",
   "execution_count": 65,
   "metadata": {
    "scrolled": true
   },
   "outputs": [
    {
     "name": "stderr",
     "output_type": "stream",
     "text": [
      "[Parallel(n_jobs=-1)]: Using backend ThreadingBackend with 4 concurrent workers.\n"
     ]
    },
    {
     "name": "stdout",
     "output_type": "stream",
     "text": [
      "building tree 1 of 100building tree 2 of 100\n",
      "\n",
      "building tree 3 of 100building tree 4 of 100\n",
      "\n",
      "building tree 5 of 100building tree 6 of 100\n",
      "\n",
      "building tree 7 of 100\n",
      "building tree 8 of 100\n",
      "building tree 9 of 100\n",
      "building tree 10 of 100\n",
      "building tree 11 of 100\n",
      "building tree 12 of 100\n",
      "building tree 13 of 100\n",
      "building tree 14 of 100\n",
      "building tree 15 of 100\n",
      "building tree 16 of 100\n",
      "building tree 17 of 100\n",
      "building tree 18 of 100\n",
      "building tree 19 of 100\n",
      "building tree 20 of 100\n",
      "building tree 21 of 100\n",
      "building tree 22 of 100\n",
      "building tree 23 of 100\n",
      "building tree 24 of 100\n",
      "building tree 25 of 100\n",
      "building tree 26 of 100\n",
      "building tree 27 of 100\n"
     ]
    },
    {
     "name": "stderr",
     "output_type": "stream",
     "text": [
      "[Parallel(n_jobs=-1)]: Done  24 tasks      | elapsed:   32.2s\n"
     ]
    },
    {
     "name": "stdout",
     "output_type": "stream",
     "text": [
      "building tree 28 of 100\n",
      "building tree 29 of 100\n",
      "building tree 30 of 100\n",
      "building tree 31 of 100\n",
      "building tree 32 of 100\n",
      "building tree 33 of 100\n",
      "building tree 34 of 100\n",
      "building tree 35 of 100\n",
      "building tree 36 of 100\n",
      "building tree 37 of 100\n",
      "building tree 38 of 100\n",
      "building tree 39 of 100\n",
      "building tree 40 of 100\n",
      "building tree 41 of 100\n",
      "building tree 42 of 100\n",
      "building tree 43 of 100\n",
      "building tree 44 of 100\n",
      "building tree 45 of 100\n",
      "building tree 46 of 100\n",
      "building tree 47 of 100\n",
      "building tree 48 of 100\n",
      "building tree 49 of 100\n",
      "building tree 50 of 100\n",
      "building tree 51 of 100\n",
      "building tree 52 of 100\n",
      "building tree 53 of 100\n",
      "building tree 54 of 100\n",
      "building tree 55 of 100\n",
      "building tree 56 of 100\n",
      "building tree 57 of 100\n",
      "building tree 58 of 100\n",
      "building tree 59 of 100\n",
      "building tree 60 of 100\n",
      "building tree 61 of 100\n",
      "building tree 62 of 100\n",
      "building tree 63 of 100\n",
      "building tree 64 of 100\n",
      "building tree 65 of 100\n",
      "building tree 66 of 100\n",
      "building tree 67 of 100\n",
      "building tree 68 of 100\n",
      "building tree 69 of 100\n",
      "building tree 70 of 100\n",
      "building tree 71 of 100\n",
      "building tree 72 of 100\n",
      "building tree 73 of 100\n",
      "building tree 74 of 100\n",
      "building tree 75 of 100\n",
      "building tree 76 of 100\n",
      "building tree 77 of 100\n",
      "building tree 78 of 100\n",
      "building tree 79 of 100\n",
      "building tree 80 of 100\n",
      "building tree 81 of 100\n",
      "building tree 82 of 100\n",
      "building tree 83 of 100\n",
      "building tree 84 of 100\n",
      "building tree 85 of 100\n",
      "building tree 86 of 100\n",
      "building tree 87 of 100\n",
      "building tree 88 of 100\n",
      "building tree 89 of 100\n",
      "building tree 90 of 100\n",
      "building tree 91 of 100\n",
      "building tree 92 of 100\n",
      "building tree 93 of 100\n",
      "building tree 94 of 100\n",
      "building tree 95 of 100\n",
      "building tree 96 of 100\n",
      "building tree 97 of 100\n",
      "building tree 98 of 100\n",
      "building tree 99 of 100\n",
      "building tree 100 of 100\n"
     ]
    },
    {
     "name": "stderr",
     "output_type": "stream",
     "text": [
      "[Parallel(n_jobs=-1)]: Done 100 out of 100 | elapsed:  2.2min finished\n"
     ]
    },
    {
     "data": {
      "text/plain": [
       "RandomForestClassifier(bootstrap=True, ccp_alpha=0.0, class_weight=None,\n",
       "                       criterion='gini', max_depth=15, max_features=25,\n",
       "                       max_leaf_nodes=None, max_samples=None,\n",
       "                       min_impurity_decrease=0.0, min_impurity_split=None,\n",
       "                       min_samples_leaf=1, min_samples_split=2,\n",
       "                       min_weight_fraction_leaf=0.0, n_estimators=100,\n",
       "                       n_jobs=-1, oob_score=False, random_state=None, verbose=3,\n",
       "                       warm_start=False)"
      ]
     },
     "execution_count": 65,
     "metadata": {},
     "output_type": "execute_result"
    }
   ],
   "source": [
    "# Train Random Forest\n",
    "from sklearn.ensemble import RandomForestClassifier\n",
    "rf_clf = RandomForestClassifier(n_estimators=100, criterion=\"gini\", \n",
    "                                bootstrap=True, max_features=25,\n",
    "                                verbose=3, n_jobs=-1, max_depth=15)\n",
    "\n",
    "rf_clf.fit(x_train, y_train2)"
   ]
  },
  {
   "cell_type": "code",
   "execution_count": 81,
   "metadata": {},
   "outputs": [
    {
     "data": {
      "text/plain": [
       "(1231, 200)"
      ]
     },
     "execution_count": 81,
     "metadata": {},
     "output_type": "execute_result"
    }
   ],
   "source": [
    "y_test.shape"
   ]
  },
  {
   "cell_type": "code",
   "execution_count": 74,
   "metadata": {},
   "outputs": [
    {
     "name": "stderr",
     "output_type": "stream",
     "text": [
      "[Parallel(n_jobs=4)]: Using backend ThreadingBackend with 4 concurrent workers.\n",
      "[Parallel(n_jobs=4)]: Done  24 tasks      | elapsed:    0.6s\n",
      "[Parallel(n_jobs=4)]: Done 100 out of 100 | elapsed:    1.9s finished\n"
     ]
    }
   ],
   "source": [
    "rf_preds = rf_clf.predict_proba(x_test)"
   ]
  },
  {
   "cell_type": "code",
   "execution_count": 90,
   "metadata": {},
   "outputs": [
    {
     "data": {
      "text/plain": [
       "(200, 1231, 2)"
      ]
     },
     "execution_count": 90,
     "metadata": {},
     "output_type": "execute_result"
    }
   ],
   "source": [
    "np.array(rf_preds).shape"
   ]
  },
  {
   "cell_type": "code",
   "execution_count": 91,
   "metadata": {},
   "outputs": [
    {
     "data": {
      "text/plain": [
       "array([[0.01802197, 0.01770794, 0.01815534, ..., 0.01815534, 0.01815534,\n",
       "        0.01815534],\n",
       "       [0.00641129, 0.0060552 , 0.00647078, ..., 0.00647078, 0.00647078,\n",
       "        0.00647078],\n",
       "       [0.00989539, 0.01040883, 0.00996579, ..., 0.00996579, 0.00996579,\n",
       "        0.00996579],\n",
       "       ...,\n",
       "       [0.01101535, 0.01154457, 0.01108327, ..., 0.01108327, 0.01108327,\n",
       "        0.01108327],\n",
       "       [0.00958599, 0.00930407, 0.00950319, ..., 0.00950319, 0.00950319,\n",
       "        0.00950319],\n",
       "       [0.01569189, 0.01526736, 0.01583319, ..., 0.01583319, 0.01583319,\n",
       "        0.01583319]])"
      ]
     },
     "execution_count": 91,
     "metadata": {},
     "output_type": "execute_result"
    }
   ],
   "source": [
    "np.array(rf_preds)[:,:,1]"
   ]
  },
  {
   "cell_type": "code",
   "execution_count": 92,
   "metadata": {},
   "outputs": [
    {
     "data": {
      "text/plain": [
       "0.643417681927946"
      ]
     },
     "execution_count": 92,
     "metadata": {},
     "output_type": "execute_result"
    }
   ],
   "source": [
    "rf_auc_score = roc_auc_score(y_test.to_numpy(), np.array(rf_preds)[:,:,1].T, average='micro')\n",
    "rf_auc_score"
   ]
  },
  {
   "cell_type": "code",
   "execution_count": 12,
   "metadata": {},
   "outputs": [
    {
     "name": "stdout",
     "output_type": "stream",
     "text": [
      "Feature ranking:\n",
      "1. feature 252 (0.008226)\n",
      "2. feature 218 (0.008208)\n",
      "3. feature 276 (0.006297)\n",
      "4. feature 171 (0.005588)\n",
      "5. feature 292 (0.005413)\n",
      "6. feature 278 (0.004746)\n",
      "7. feature 458 (0.004485)\n",
      "8. feature 429 (0.004469)\n",
      "9. feature 148 (0.004196)\n",
      "10. feature 436 (0.004158)\n",
      "11. feature 373 (0.004100)\n",
      "12. feature 415 (0.004041)\n",
      "13. feature 605 (0.003872)\n",
      "14. feature 257 (0.003798)\n",
      "15. feature 422 (0.003763)\n",
      "16. feature 283 (0.003762)\n",
      "17. feature 423 (0.003730)\n",
      "18. feature 13 (0.003710)\n",
      "19. feature 584 (0.003605)\n",
      "20. feature 258 (0.003600)\n",
      "21. feature 204 (0.003590)\n",
      "22. feature 563 (0.003476)\n",
      "23. feature 416 (0.003311)\n",
      "24. feature 624 (0.003295)\n",
      "25. feature 196 (0.003286)\n",
      "26. feature 380 (0.003280)\n",
      "27. feature 449 (0.003264)\n",
      "28. feature 393 (0.003235)\n",
      "29. feature 592 (0.003234)\n",
      "30. feature 343 (0.003208)\n",
      "31. feature 428 (0.003178)\n",
      "32. feature 62 (0.003147)\n",
      "33. feature 581 (0.003084)\n",
      "34. feature 495 (0.003070)\n",
      "35. feature 455 (0.003070)\n",
      "36. feature 437 (0.003040)\n",
      "37. feature 452 (0.002989)\n",
      "38. feature 205 (0.002987)\n",
      "39. feature 459 (0.002933)\n",
      "40. feature 546 (0.002922)\n",
      "41. feature 364 (0.002896)\n",
      "42. feature 448 (0.002885)\n",
      "43. feature 371 (0.002884)\n",
      "44. feature 26 (0.002879)\n",
      "45. feature 136 (0.002874)\n",
      "46. feature 356 (0.002760)\n",
      "47. feature 97 (0.002756)\n",
      "48. feature 392 (0.002755)\n",
      "49. feature 286 (0.002752)\n",
      "50. feature 114 (0.002748)\n",
      "51. feature 404 (0.002733)\n",
      "52. feature 481 (0.002685)\n",
      "53. feature 232 (0.002668)\n",
      "54. feature 434 (0.002660)\n",
      "55. feature 294 (0.002654)\n",
      "56. feature 387 (0.002652)\n",
      "57. feature 38 (0.002648)\n",
      "58. feature 306 (0.002638)\n",
      "59. feature 76 (0.002638)\n",
      "60. feature 113 (0.002633)\n",
      "61. feature 614 (0.002628)\n",
      "62. feature 413 (0.002621)\n",
      "63. feature 45 (0.002590)\n",
      "64. feature 231 (0.002560)\n",
      "65. feature 17 (0.002552)\n",
      "66. feature 433 (0.002547)\n",
      "67. feature 607 (0.002537)\n",
      "68. feature 574 (0.002536)\n",
      "69. feature 537 (0.002528)\n",
      "70. feature 549 (0.002520)\n",
      "71. feature 586 (0.002508)\n",
      "72. feature 608 (0.002507)\n",
      "73. feature 307 (0.002499)\n",
      "74. feature 491 (0.002481)\n",
      "75. feature 612 (0.002476)\n",
      "76. feature 390 (0.002456)\n",
      "77. feature 176 (0.002449)\n",
      "78. feature 122 (0.002443)\n",
      "79. feature 140 (0.002443)\n",
      "80. feature 619 (0.002441)\n",
      "81. feature 142 (0.002420)\n",
      "82. feature 391 (0.002415)\n",
      "83. feature 355 (0.002406)\n",
      "84. feature 124 (0.002404)\n",
      "85. feature 327 (0.002391)\n",
      "86. feature 613 (0.002388)\n",
      "87. feature 28 (0.002383)\n",
      "88. feature 370 (0.002366)\n",
      "89. feature 265 (0.002362)\n",
      "90. feature 224 (0.002347)\n",
      "91. feature 200 (0.002338)\n",
      "92. feature 77 (0.002331)\n",
      "93. feature 159 (0.002330)\n",
      "94. feature 92 (0.002323)\n",
      "95. feature 181 (0.002286)\n",
      "96. feature 270 (0.002285)\n",
      "97. feature 560 (0.002284)\n",
      "98. feature 352 (0.002282)\n",
      "99. feature 156 (0.002267)\n",
      "100. feature 152 (0.002266)\n",
      "101. feature 33 (0.002254)\n",
      "102. feature 63 (0.002249)\n",
      "103. feature 447 (0.002247)\n",
      "104. feature 133 (0.002243)\n",
      "105. feature 55 (0.002232)\n",
      "106. feature 358 (0.002225)\n",
      "107. feature 580 (0.002222)\n",
      "108. feature 19 (0.002222)\n",
      "109. feature 226 (0.002222)\n",
      "110. feature 424 (0.002209)\n",
      "111. feature 240 (0.002195)\n",
      "112. feature 397 (0.002195)\n",
      "113. feature 273 (0.002185)\n",
      "114. feature 130 (0.002184)\n",
      "115. feature 381 (0.002183)\n",
      "116. feature 502 (0.002174)\n",
      "117. feature 503 (0.002167)\n",
      "118. feature 66 (0.002162)\n",
      "119. feature 118 (0.002160)\n",
      "120. feature 69 (0.002154)\n",
      "121. feature 470 (0.002149)\n",
      "122. feature 410 (0.002146)\n",
      "123. feature 523 (0.002126)\n",
      "124. feature 553 (0.002116)\n",
      "125. feature 556 (0.002110)\n",
      "126. feature 509 (0.002108)\n",
      "127. feature 61 (0.002096)\n",
      "128. feature 143 (0.002080)\n",
      "129. feature 31 (0.002076)\n",
      "130. feature 305 (0.002072)\n",
      "131. feature 110 (0.002067)\n",
      "132. feature 357 (0.002048)\n",
      "133. feature 261 (0.002041)\n",
      "134. feature 250 (0.002039)\n",
      "135. feature 347 (0.002036)\n",
      "136. feature 67 (0.002036)\n",
      "137. feature 571 (0.002028)\n",
      "138. feature 35 (0.002021)\n",
      "139. feature 476 (0.002017)\n",
      "140. feature 167 (0.002014)\n",
      "141. feature 15 (0.002011)\n",
      "142. feature 266 (0.002010)\n",
      "143. feature 469 (0.002004)\n",
      "144. feature 365 (0.002003)\n",
      "145. feature 360 (0.002002)\n",
      "146. feature 50 (0.001990)\n",
      "147. feature 350 (0.001972)\n",
      "148. feature 595 (0.001971)\n",
      "149. feature 483 (0.001964)\n",
      "150. feature 557 (0.001962)\n",
      "151. feature 611 (0.001960)\n",
      "152. feature 445 (0.001956)\n",
      "153. feature 506 (0.001932)\n",
      "154. feature 575 (0.001928)\n",
      "155. feature 351 (0.001924)\n",
      "156. feature 473 (0.001921)\n",
      "157. feature 396 (0.001919)\n",
      "158. feature 421 (0.001910)\n",
      "159. feature 320 (0.001903)\n",
      "160. feature 529 (0.001898)\n",
      "161. feature 146 (0.001898)\n",
      "162. feature 161 (0.001897)\n",
      "163. feature 341 (0.001897)\n",
      "164. feature 272 (0.001889)\n",
      "165. feature 427 (0.001886)\n",
      "166. feature 254 (0.001881)\n",
      "167. feature 337 (0.001880)\n",
      "168. feature 215 (0.001873)\n",
      "169. feature 195 (0.001869)\n",
      "170. feature 48 (0.001867)\n",
      "171. feature 418 (0.001863)\n",
      "172. feature 157 (0.001863)\n",
      "173. feature 4 (0.001858)\n",
      "174. feature 109 (0.001858)\n",
      "175. feature 290 (0.001857)\n",
      "176. feature 104 (0.001844)\n",
      "177. feature 515 (0.001840)\n",
      "178. feature 309 (0.001839)\n",
      "179. feature 620 (0.001834)\n",
      "180. feature 52 (0.001820)\n",
      "181. feature 467 (0.001816)\n",
      "182. feature 75 (0.001815)\n",
      "183. feature 14 (0.001805)\n",
      "184. feature 323 (0.001804)\n",
      "185. feature 460 (0.001803)\n",
      "186. feature 472 (0.001802)\n",
      "187. feature 489 (0.001801)\n",
      "188. feature 465 (0.001801)\n",
      "189. feature 454 (0.001788)\n",
      "190. feature 446 (0.001786)\n",
      "191. feature 12 (0.001781)\n",
      "192. feature 342 (0.001781)\n",
      "193. feature 178 (0.001779)\n",
      "194. feature 319 (0.001778)\n",
      "195. feature 182 (0.001776)\n",
      "196. feature 417 (0.001775)\n",
      "197. feature 466 (0.001774)\n",
      "198. feature 588 (0.001771)\n",
      "199. feature 388 (0.001765)\n",
      "200. feature 315 (0.001762)\n",
      "201. feature 488 (0.001760)\n",
      "202. feature 508 (0.001759)\n",
      "203. feature 149 (0.001753)\n",
      "204. feature 504 (0.001751)\n",
      "205. feature 275 (0.001750)\n",
      "206. feature 441 (0.001750)\n",
      "207. feature 623 (0.001749)\n",
      "208. feature 291 (0.001747)\n",
      "209. feature 68 (0.001744)\n",
      "210. feature 382 (0.001740)\n",
      "211. feature 568 (0.001733)\n",
      "212. feature 197 (0.001717)\n",
      "213. feature 10 (0.001709)\n",
      "214. feature 321 (0.001705)\n",
      "215. feature 426 (0.001703)\n",
      "216. feature 602 (0.001699)\n",
      "217. feature 138 (0.001695)\n",
      "218. feature 335 (0.001694)\n",
      "219. feature 440 (0.001682)\n",
      "220. feature 439 (0.001679)\n",
      "221. feature 58 (0.001668)\n",
      "222. feature 153 (0.001665)\n",
      "223. feature 534 (0.001657)\n",
      "224. feature 116 (0.001654)\n",
      "225. feature 222 (0.001653)\n",
      "226. feature 87 (0.001652)\n",
      "227. feature 432 (0.001650)\n",
      "228. feature 241 (0.001649)\n",
      "229. feature 175 (0.001643)\n",
      "230. feature 151 (0.001642)\n",
      "231. feature 559 (0.001638)\n",
      "232. feature 147 (0.001636)\n",
      "233. feature 564 (0.001635)\n",
      "234. feature 542 (0.001632)\n",
      "235. feature 372 (0.001631)\n",
      "236. feature 590 (0.001631)\n",
      "237. feature 22 (0.001623)\n",
      "238. feature 570 (0.001623)\n",
      "239. feature 185 (0.001618)\n",
      "240. feature 259 (0.001617)\n",
      "241. feature 202 (0.001607)\n",
      "242. feature 496 (0.001606)\n",
      "243. feature 322 (0.001600)\n",
      "244. feature 540 (0.001600)\n",
      "245. feature 430 (0.001591)\n",
      "246. feature 312 (0.001591)\n",
      "247. feature 2 (0.001588)\n",
      "248. feature 593 (0.001579)\n",
      "249. feature 1 (0.001577)\n",
      "250. feature 603 (0.001577)\n",
      "251. feature 301 (0.001576)\n",
      "252. feature 475 (0.001568)\n",
      "253. feature 277 (0.001566)\n",
      "254. feature 368 (0.001561)\n",
      "255. feature 407 (0.001558)\n",
      "256. feature 576 (0.001557)\n",
      "257. feature 237 (0.001552)\n",
      "258. feature 220 (0.001548)\n",
      "259. feature 497 (0.001544)\n",
      "260. feature 242 (0.001539)\n",
      "261. feature 385 (0.001537)\n",
      "262. feature 565 (0.001534)\n",
      "263. feature 543 (0.001529)\n",
      "264. feature 558 (0.001526)\n",
      "265. feature 386 (0.001523)\n",
      "266. feature 40 (0.001518)\n",
      "267. feature 555 (0.001517)\n",
      "268. feature 99 (0.001514)\n",
      "269. feature 186 (0.001514)\n",
      "270. feature 330 (0.001511)\n",
      "271. feature 526 (0.001510)\n",
      "272. feature 348 (0.001505)\n",
      "273. feature 190 (0.001502)\n",
      "274. feature 268 (0.001501)\n",
      "275. feature 43 (0.001495)\n",
      "276. feature 24 (0.001495)\n",
      "277. feature 450 (0.001495)\n",
      "278. feature 412 (0.001488)\n",
      "279. feature 507 (0.001485)\n",
      "280. feature 376 (0.001482)\n",
      "281. feature 29 (0.001480)\n",
      "282. feature 141 (0.001478)\n",
      "283. feature 244 (0.001475)\n",
      "284. feature 414 (0.001474)\n",
      "285. feature 70 (0.001474)\n",
      "286. feature 42 (0.001473)\n",
      "287. feature 100 (0.001473)\n",
      "288. feature 522 (0.001472)\n",
      "289. feature 528 (0.001466)\n",
      "290. feature 282 (0.001465)\n",
      "291. feature 500 (0.001463)\n",
      "292. feature 609 (0.001461)\n",
      "293. feature 532 (0.001459)\n",
      "294. feature 131 (0.001453)\n",
      "295. feature 403 (0.001449)\n",
      "296. feature 346 (0.001446)\n",
      "297. feature 228 (0.001444)\n",
      "298. feature 578 (0.001444)\n",
      "299. feature 279 (0.001441)\n",
      "300. feature 531 (0.001440)\n",
      "301. feature 243 (0.001439)\n",
      "302. feature 399 (0.001436)\n",
      "303. feature 572 (0.001432)\n",
      "304. feature 71 (0.001430)\n",
      "305. feature 541 (0.001430)\n",
      "306. feature 235 (0.001429)\n",
      "307. feature 573 (0.001424)\n",
      "308. feature 183 (0.001423)\n",
      "309. feature 158 (0.001422)\n",
      "310. feature 165 (0.001419)\n",
      "311. feature 155 (0.001414)\n",
      "312. feature 444 (0.001409)\n",
      "313. feature 217 (0.001409)\n",
      "314. feature 339 (0.001407)\n",
      "315. feature 525 (0.001402)\n",
      "316. feature 46 (0.001400)\n",
      "317. feature 435 (0.001399)\n",
      "318. feature 316 (0.001397)\n",
      "319. feature 362 (0.001395)\n",
      "320. feature 318 (0.001393)\n",
      "321. feature 80 (0.001392)\n",
      "322. feature 567 (0.001387)\n",
      "323. feature 79 (0.001386)\n",
      "324. feature 103 (0.001383)\n",
      "325. feature 325 (0.001382)\n",
      "326. feature 359 (0.001380)\n",
      "327. feature 457 (0.001379)\n",
      "328. feature 86 (0.001376)\n",
      "329. feature 530 (0.001375)\n",
      "330. feature 249 (0.001373)\n",
      "331. feature 479 (0.001372)\n",
      "332. feature 443 (0.001368)\n",
      "333. feature 334 (0.001367)\n",
      "334. feature 293 (0.001367)\n",
      "335. feature 512 (0.001365)\n",
      "336. feature 150 (0.001363)\n",
      "337. feature 499 (0.001354)\n",
      "338. feature 93 (0.001350)\n",
      "339. feature 326 (0.001344)\n",
      "340. feature 367 (0.001340)\n",
      "341. feature 137 (0.001340)\n",
      "342. feature 505 (0.001330)\n",
      "343. feature 524 (0.001326)\n",
      "344. feature 53 (0.001325)\n",
      "345. feature 464 (0.001323)\n",
      "346. feature 338 (0.001322)\n",
      "347. feature 566 (0.001317)\n",
      "348. feature 264 (0.001311)\n",
      "349. feature 37 (0.001310)\n",
      "350. feature 191 (0.001309)\n",
      "351. feature 214 (0.001305)\n",
      "352. feature 419 (0.001304)\n",
      "353. feature 332 (0.001301)\n",
      "354. feature 501 (0.001301)\n",
      "355. feature 177 (0.001298)\n",
      "356. feature 377 (0.001293)\n",
      "357. feature 395 (0.001286)\n",
      "358. feature 400 (0.001284)\n",
      "359. feature 622 (0.001281)\n",
      "360. feature 349 (0.001280)\n",
      "361. feature 328 (0.001279)\n",
      "362. feature 119 (0.001268)\n",
      "363. feature 616 (0.001263)\n",
      "364. feature 65 (0.001262)\n",
      "365. feature 317 (0.001261)\n",
      "366. feature 485 (0.001260)\n",
      "367. feature 166 (0.001258)\n",
      "368. feature 615 (0.001256)\n",
      "369. feature 287 (0.001252)\n",
      "370. feature 162 (0.001251)\n",
      "371. feature 302 (0.001249)\n",
      "372. feature 398 (0.001243)\n",
      "373. feature 310 (0.001242)\n",
      "374. feature 333 (0.001239)\n",
      "375. feature 32 (0.001236)\n",
      "376. feature 83 (0.001235)\n",
      "377. feature 442 (0.001235)\n",
      "378. feature 363 (0.001235)\n",
      "379. feature 420 (0.001234)\n",
      "380. feature 311 (0.001232)\n",
      "381. feature 60 (0.001230)\n",
      "382. feature 298 (0.001230)\n",
      "383. feature 225 (0.001230)\n",
      "384. feature 25 (0.001229)\n",
      "385. feature 538 (0.001226)\n",
      "386. feature 267 (0.001226)\n",
      "387. feature 585 (0.001226)\n",
      "388. feature 369 (0.001223)\n",
      "389. feature 583 (0.001221)\n",
      "390. feature 550 (0.001220)\n",
      "391. feature 21 (0.001215)\n",
      "392. feature 59 (0.001214)\n",
      "393. feature 569 (0.001212)\n",
      "394. feature 239 (0.001209)\n",
      "395. feature 353 (0.001209)\n",
      "396. feature 379 (0.001206)\n",
      "397. feature 54 (0.001204)\n",
      "398. feature 144 (0.001204)\n",
      "399. feature 44 (0.001200)\n",
      "400. feature 236 (0.001199)\n",
      "401. feature 74 (0.001198)\n",
      "402. feature 128 (0.001196)\n",
      "403. feature 425 (0.001194)\n",
      "404. feature 303 (0.001193)\n",
      "405. feature 361 (0.001192)\n",
      "406. feature 194 (0.001190)\n",
      "407. feature 208 (0.001188)\n",
      "408. feature 84 (0.001188)\n",
      "409. feature 3 (0.001188)\n",
      "410. feature 238 (0.001178)\n",
      "411. feature 233 (0.001176)\n",
      "412. feature 90 (0.001176)\n",
      "413. feature 451 (0.001175)\n",
      "414. feature 199 (0.001172)\n",
      "415. feature 18 (0.001172)\n",
      "416. feature 85 (0.001168)\n",
      "417. feature 16 (0.001167)\n",
      "418. feature 554 (0.001164)\n",
      "419. feature 269 (0.001158)\n",
      "420. feature 577 (0.001157)\n",
      "421. feature 331 (0.001154)\n",
      "422. feature 101 (0.001153)\n",
      "423. feature 170 (0.001153)\n",
      "424. feature 329 (0.001152)\n",
      "425. feature 374 (0.001151)\n",
      "426. feature 105 (0.001151)\n",
      "427. feature 598 (0.001151)\n",
      "428. feature 179 (0.001150)\n",
      "429. feature 521 (0.001150)\n",
      "430. feature 78 (0.001150)\n",
      "431. feature 562 (0.001147)\n",
      "432. feature 510 (0.001145)\n",
      "433. feature 599 (0.001145)\n",
      "434. feature 34 (0.001143)\n",
      "435. feature 520 (0.001143)\n",
      "436. feature 163 (0.001141)\n",
      "437. feature 135 (0.001141)\n",
      "438. feature 255 (0.001141)\n",
      "439. feature 154 (0.001140)\n",
      "440. feature 41 (0.001132)\n",
      "441. feature 139 (0.001131)\n",
      "442. feature 256 (0.001129)\n",
      "443. feature 188 (0.001122)\n",
      "444. feature 492 (0.001121)\n",
      "445. feature 36 (0.001119)\n",
      "446. feature 378 (0.001118)\n",
      "447. feature 203 (0.001116)\n",
      "448. feature 336 (0.001115)\n",
      "449. feature 0 (0.001115)\n",
      "450. feature 211 (0.001113)\n",
      "451. feature 601 (0.001108)\n",
      "452. feature 91 (0.001108)\n",
      "453. feature 408 (0.001106)\n",
      "454. feature 271 (0.001104)\n",
      "455. feature 600 (0.001103)\n",
      "456. feature 180 (0.001102)\n",
      "457. feature 7 (0.001098)\n",
      "458. feature 431 (0.001097)\n",
      "459. feature 610 (0.001097)\n",
      "460. feature 212 (0.001096)\n",
      "461. feature 117 (0.001096)\n",
      "462. feature 453 (0.001095)\n",
      "463. feature 145 (0.001094)\n",
      "464. feature 411 (0.001093)\n",
      "465. feature 589 (0.001091)\n",
      "466. feature 297 (0.001089)\n",
      "467. feature 354 (0.001084)\n",
      "468. feature 209 (0.001084)\n",
      "469. feature 219 (0.001082)\n",
      "470. feature 462 (0.001082)\n",
      "471. feature 5 (0.001081)\n",
      "472. feature 251 (0.001078)\n",
      "473. feature 324 (0.001074)\n",
      "474. feature 513 (0.001074)\n",
      "475. feature 482 (0.001071)\n",
      "476. feature 533 (0.001068)\n",
      "477. feature 57 (0.001062)\n",
      "478. feature 456 (0.001057)\n",
      "479. feature 518 (0.001057)\n",
      "480. feature 210 (0.001056)\n",
      "481. feature 340 (0.001055)\n",
      "482. feature 384 (0.001052)\n",
      "483. feature 98 (0.001052)\n",
      "484. feature 23 (0.001041)\n",
      "485. feature 304 (0.001038)\n",
      "486. feature 206 (0.001033)\n",
      "487. feature 299 (0.001031)\n",
      "488. feature 187 (0.001026)\n",
      "489. feature 263 (0.001020)\n",
      "490. feature 621 (0.001020)\n",
      "491. feature 49 (0.001017)\n",
      "492. feature 551 (0.001016)\n",
      "493. feature 223 (0.001009)\n",
      "494. feature 111 (0.001007)\n",
      "495. feature 594 (0.000996)\n",
      "496. feature 102 (0.000992)\n",
      "497. feature 484 (0.000989)\n",
      "498. feature 285 (0.000986)\n",
      "499. feature 463 (0.000986)\n",
      "500. feature 375 (0.000982)\n",
      "501. feature 281 (0.000977)\n",
      "502. feature 468 (0.000973)\n",
      "503. feature 516 (0.000972)\n",
      "504. feature 56 (0.000971)\n",
      "505. feature 617 (0.000971)\n",
      "506. feature 229 (0.000964)\n",
      "507. feature 471 (0.000964)\n",
      "508. feature 498 (0.000960)\n",
      "509. feature 514 (0.000960)\n",
      "510. feature 27 (0.000957)\n",
      "511. feature 221 (0.000948)\n",
      "512. feature 73 (0.000947)\n",
      "513. feature 189 (0.000946)\n",
      "514. feature 253 (0.000941)\n",
      "515. feature 123 (0.000938)\n",
      "516. feature 289 (0.000937)\n",
      "517. feature 51 (0.000937)\n",
      "518. feature 494 (0.000937)\n",
      "519. feature 213 (0.000935)\n",
      "520. feature 366 (0.000915)\n",
      "521. feature 547 (0.000907)\n",
      "522. feature 30 (0.000900)\n",
      "523. feature 132 (0.000896)\n",
      "524. feature 402 (0.000892)\n",
      "525. feature 164 (0.000891)\n",
      "526. feature 545 (0.000882)\n",
      "527. feature 39 (0.000880)\n",
      "528. feature 11 (0.000869)\n",
      "529. feature 552 (0.000866)\n",
      "530. feature 88 (0.000864)\n",
      "531. feature 248 (0.000859)\n",
      "532. feature 9 (0.000857)\n",
      "533. feature 544 (0.000856)\n",
      "534. feature 527 (0.000853)\n",
      "535. feature 280 (0.000851)\n",
      "536. feature 107 (0.000851)\n",
      "537. feature 300 (0.000847)\n",
      "538. feature 169 (0.000845)\n",
      "539. feature 604 (0.000830)\n",
      "540. feature 129 (0.000830)\n",
      "541. feature 193 (0.000829)\n",
      "542. feature 406 (0.000828)\n",
      "543. feature 47 (0.000827)\n",
      "544. feature 477 (0.000827)\n",
      "545. feature 486 (0.000825)\n",
      "546. feature 160 (0.000821)\n",
      "547. feature 245 (0.000818)\n",
      "548. feature 108 (0.000813)\n",
      "549. feature 582 (0.000809)\n",
      "550. feature 535 (0.000797)\n",
      "551. feature 174 (0.000797)\n",
      "552. feature 230 (0.000795)\n",
      "553. feature 247 (0.000795)\n",
      "554. feature 168 (0.000791)\n",
      "555. feature 474 (0.000789)\n",
      "556. feature 383 (0.000789)\n",
      "557. feature 227 (0.000783)\n",
      "558. feature 438 (0.000774)\n",
      "559. feature 596 (0.000774)\n",
      "560. feature 517 (0.000770)\n",
      "561. feature 246 (0.000769)\n",
      "562. feature 536 (0.000767)\n",
      "563. feature 120 (0.000767)\n",
      "564. feature 89 (0.000762)\n",
      "565. feature 490 (0.000761)\n",
      "566. feature 548 (0.000759)\n",
      "567. feature 234 (0.000754)\n",
      "568. feature 260 (0.000751)\n",
      "569. feature 587 (0.000750)\n",
      "570. feature 480 (0.000748)\n",
      "571. feature 106 (0.000745)\n",
      "572. feature 112 (0.000741)\n",
      "573. feature 134 (0.000739)\n",
      "574. feature 597 (0.000739)\n",
      "575. feature 296 (0.000738)\n",
      "576. feature 82 (0.000738)\n",
      "577. feature 345 (0.000737)\n",
      "578. feature 121 (0.000734)\n",
      "579. feature 207 (0.000734)\n",
      "580. feature 262 (0.000732)\n",
      "581. feature 288 (0.000728)\n",
      "582. feature 591 (0.000726)\n",
      "583. feature 201 (0.000720)\n",
      "584. feature 579 (0.000717)\n",
      "585. feature 192 (0.000706)\n",
      "586. feature 511 (0.000698)\n",
      "587. feature 184 (0.000696)\n",
      "588. feature 94 (0.000687)\n",
      "589. feature 81 (0.000665)\n",
      "590. feature 313 (0.000664)\n",
      "591. feature 20 (0.000661)\n",
      "592. feature 561 (0.000652)\n",
      "593. feature 72 (0.000647)\n",
      "594. feature 295 (0.000646)\n",
      "595. feature 405 (0.000637)\n",
      "596. feature 314 (0.000623)\n",
      "597. feature 493 (0.000609)\n",
      "598. feature 274 (0.000608)\n",
      "599. feature 519 (0.000573)\n",
      "600. feature 198 (0.000566)\n",
      "601. feature 284 (0.000565)\n",
      "602. feature 64 (0.000563)\n",
      "603. feature 618 (0.000558)\n",
      "604. feature 95 (0.000557)\n",
      "605. feature 539 (0.000552)\n",
      "606. feature 172 (0.000551)\n",
      "607. feature 8 (0.000551)\n",
      "608. feature 126 (0.000547)\n",
      "609. feature 409 (0.000545)\n",
      "610. feature 461 (0.000532)\n",
      "611. feature 115 (0.000526)\n",
      "612. feature 606 (0.000521)\n",
      "613. feature 478 (0.000504)\n",
      "614. feature 173 (0.000503)\n",
      "615. feature 125 (0.000477)\n",
      "616. feature 308 (0.000471)\n",
      "617. feature 344 (0.000470)\n",
      "618. feature 389 (0.000467)\n",
      "619. feature 394 (0.000464)\n",
      "620. feature 6 (0.000459)\n",
      "621. feature 401 (0.000448)\n",
      "622. feature 487 (0.000438)\n",
      "623. feature 96 (0.000433)\n",
      "624. feature 127 (0.000287)\n",
      "625. feature 216 (0.000244)\n"
     ]
    }
   ],
   "source": [
    "# Random Forest Feature importances\n",
    "imp_indices=[]\n",
    "importances=rf_clf.feature_importances_\n",
    "std=np.std([tree.feature_importances_ for tree in rf_clf.estimators_], axis=0)\n",
    "indices=np.argsort(importances)[::-1]\n",
    "print(\"Feature ranking:\")\n",
    "\n",
    "for f in range(X_train.shape[1]):\n",
    "    print(\"%d. feature %d (%f)\" % (f+1, indices[f], importances[indices[f]]))\n",
    "    imp_indices.append(indices[f])"
   ]
  },
  {
   "cell_type": "code",
   "execution_count": 14,
   "metadata": {},
   "outputs": [
    {
     "data": {
      "text/plain": [
       "'ACH.000092'"
      ]
     },
     "execution_count": 14,
     "metadata": {},
     "output_type": "execute_result"
    }
   ],
   "source": [
    "X_train.columns[216]"
   ]
  },
  {
   "cell_type": "code",
   "execution_count": 21,
   "metadata": {},
   "outputs": [
    {
     "data": {
      "text/plain": [
       "ACH.000681    0.001115\n",
       "ACH.000889    0.001577\n",
       "ACH.000085    0.001588\n",
       "ACH.000045    0.001188\n",
       "ACH.000272    0.001858\n",
       "                ...   \n",
       "ACH.000070    0.001834\n",
       "ACH.000142    0.001020\n",
       "ACH.000047    0.001281\n",
       "ACH.001048    0.001749\n",
       "ACH.000577    0.003295\n",
       "Length: 625, dtype: float64"
      ]
     },
     "execution_count": 21,
     "metadata": {},
     "output_type": "execute_result"
    }
   ],
   "source": [
    "feat_importances = pd.Series(importances, index=X_train.columns)\n",
    "feat_importances"
   ]
  },
  {
   "cell_type": "code",
   "execution_count": 25,
   "metadata": {
    "scrolled": true
   },
   "outputs": [
    {
     "data": {
      "text/plain": [
       "<matplotlib.axes._subplots.AxesSubplot at 0x1a3cd5ee80>"
      ]
     },
     "execution_count": 25,
     "metadata": {},
     "output_type": "execute_result"
    },
    {
     "data": {
      "image/png": "[encoded data removed]",
      "text/plain": [
       "<Figure size 3600x3600 with 1 Axes>"
      ]
     },
     "metadata": {
      "needs_background": "light"
     },
     "output_type": "display_data"
    }
   ],
   "source": [
    "plt.figure(figsize=(50,50))\n",
    "feat_importances.plot(kind='barh')"
   ]
  },
  {
   "cell_type": "code",
   "execution_count": 109,
   "metadata": {},
   "outputs": [],
   "source": [
    "rf_clf = RandomForestClassifier(n_estimators=100, criterion=\"gini\", \n",
    "                                bootstrap=True, verbose=3, n_jobs=-1, \n",
    "                                max_depth=15)"
   ]
  },
  {
   "cell_type": "code",
   "execution_count": 110,
   "metadata": {
    "scrolled": true
   },
   "outputs": [
    {
     "name": "stderr",
     "output_type": "stream",
     "text": [
      "[Parallel(n_jobs=-1)]: Using backend LokyBackend with 4 concurrent workers.\n",
      "[Parallel(n_jobs=-1)]: Done  24 tasks      | elapsed:   34.4s\n",
      "[Parallel(n_jobs=-1)]: Done 100 out of 100 | elapsed:  2.2min finished\n",
      "[Parallel(n_jobs=4)]: Using backend ThreadingBackend with 4 concurrent workers.\n",
      "[Parallel(n_jobs=4)]: Done  24 tasks      | elapsed:    0.5s\n",
      "[Parallel(n_jobs=4)]: Done 100 out of 100 | elapsed:    2.3s finished\n",
      "[Parallel(n_jobs=-1)]: Using backend LokyBackend with 4 concurrent workers.\n",
      "[Parallel(n_jobs=-1)]: Done  24 tasks      | elapsed:   31.2s\n",
      "[Parallel(n_jobs=-1)]: Done 100 out of 100 | elapsed:  2.2min finished\n",
      "[Parallel(n_jobs=4)]: Using backend ThreadingBackend with 4 concurrent workers.\n",
      "[Parallel(n_jobs=4)]: Done  24 tasks      | elapsed:    0.5s\n",
      "[Parallel(n_jobs=4)]: Done 100 out of 100 | elapsed:    2.0s finished\n",
      "[Parallel(n_jobs=-1)]: Using backend LokyBackend with 4 concurrent workers.\n",
      "[Parallel(n_jobs=-1)]: Done  24 tasks      | elapsed:   31.2s\n",
      "[Parallel(n_jobs=-1)]: Done 100 out of 100 | elapsed:  2.2min finished\n",
      "[Parallel(n_jobs=4)]: Using backend ThreadingBackend with 4 concurrent workers.\n",
      "[Parallel(n_jobs=4)]: Done  24 tasks      | elapsed:    0.7s\n",
      "[Parallel(n_jobs=4)]: Done 100 out of 100 | elapsed:    2.5s finished\n",
      "[Parallel(n_jobs=-1)]: Using backend LokyBackend with 4 concurrent workers.\n",
      "[Parallel(n_jobs=-1)]: Done  24 tasks      | elapsed:   31.9s\n",
      "[Parallel(n_jobs=-1)]: Done 100 out of 100 | elapsed:  2.3min finished\n",
      "[Parallel(n_jobs=4)]: Using backend ThreadingBackend with 4 concurrent workers.\n",
      "[Parallel(n_jobs=4)]: Done  24 tasks      | elapsed:    0.5s\n",
      "[Parallel(n_jobs=4)]: Done 100 out of 100 | elapsed:    2.2s finished\n",
      "[Parallel(n_jobs=-1)]: Using backend LokyBackend with 4 concurrent workers.\n",
      "[Parallel(n_jobs=-1)]: Done  24 tasks      | elapsed:   28.7s\n",
      "[Parallel(n_jobs=-1)]: Done 100 out of 100 | elapsed:  2.0min finished\n",
      "[Parallel(n_jobs=4)]: Using backend ThreadingBackend with 4 concurrent workers.\n",
      "[Parallel(n_jobs=4)]: Done  24 tasks      | elapsed:    0.5s\n",
      "[Parallel(n_jobs=4)]: Done 100 out of 100 | elapsed:    1.7s finished\n"
     ]
    }
   ],
   "source": [
    "scores = cross_val_score(rf_clf, X_train_qt, y_train, cv = 5, scoring='roc_auc')"
   ]
  },
  {
   "cell_type": "code",
   "execution_count": 111,
   "metadata": {},
   "outputs": [
    {
     "data": {
      "text/plain": [
       "array([0.58075807, 0.57636218, 0.58839441, 0.58512166, 0.60459924])"
      ]
     },
     "execution_count": 111,
     "metadata": {},
     "output_type": "execute_result"
    }
   ],
   "source": [
    "scores"
   ]
  },
  {
   "cell_type": "code",
   "execution_count": 114,
   "metadata": {
    "scrolled": true
   },
   "outputs": [
    {
     "data": {
      "text/plain": [
       "array([174.26933996, 117.6539241 , 164.60228641, 155.65049088,\n",
       "       132.68647979, 128.49511245, 120.76146877, 141.069413  ,\n",
       "       164.18904498, 182.37394949, 111.04181265, 127.94311443,\n",
       "       135.0869234 , 162.83066014, 135.3573514 , 157.64516523,\n",
       "       178.95843326, 163.3919841 , 143.85237903, 144.29748882,\n",
       "       133.58117218, 124.77928571, 132.90918003, 208.52927   ,\n",
       "       153.61908967, 154.16616341, 118.95351821, 163.50467541,\n",
       "       145.89406196, 168.3308101 , 155.87411031, 123.45960148,\n",
       "       185.70459144, 133.38468582, 117.2789469 , 150.27895019,\n",
       "       174.1541028 , 160.03235091, 192.31389633, 161.58568256,\n",
       "       154.2224809 , 119.35517679, 146.15706413, 133.82056934,\n",
       "       179.68118754, 137.96619936, 146.07788398, 126.77579723,\n",
       "       123.32101099, 166.26710247, 146.41559964, 161.67261029,\n",
       "       147.47731459, 138.44595305, 144.85421048, 113.77990664,\n",
       "       185.54970402, 115.31624749, 142.23672103, 171.07792136,\n",
       "       132.5394716 , 177.80524864, 116.5616502 , 134.25230846,\n",
       "       142.88707475, 173.2830912 , 154.31273504, 149.16680759,\n",
       "       144.88238997, 121.97783103, 110.38457621, 180.25559631,\n",
       "       199.06141058, 151.1195546 , 161.14217698, 153.96960812,\n",
       "       150.77179755, 113.30903579, 165.15755771, 115.85735727,\n",
       "       174.19267171, 150.12027233, 115.47891783, 153.38967232,\n",
       "       115.31573467, 156.49909623,  92.62211515, 178.15649994,\n",
       "       131.59320715, 134.46166754, 116.97678633, 190.00790119,\n",
       "       166.01173292, 126.25944471, 134.29256991, 144.71971963,\n",
       "       190.9769591 , 182.39199466, 154.45325308, 148.30325558,\n",
       "       151.72036937, 124.12825466, 138.6011155 , 137.75891286,\n",
       "       123.0917243 , 131.74735403, 112.07367481, 124.56956904,\n",
       "       156.78432061, 128.63135591,  93.68260079, 130.54324394,\n",
       "       131.8693231 , 154.5708257 , 179.81343019, 165.78130755,\n",
       "       150.04779033, 162.37974736, 143.92996797, 143.15645843,\n",
       "       125.20161377, 145.99590279, 155.3505536 , 145.97574185,\n",
       "       134.66120515, 163.92450638, 101.92329396, 139.33014324,\n",
       "       122.71377023, 152.20573113, 153.36931089, 116.76545147,\n",
       "       131.96936127, 109.74817383, 132.57453994, 159.38030328,\n",
       "       109.31343881, 147.69926269, 156.3664255 , 161.12509958,\n",
       "       128.16523686, 156.78446286, 154.04375702, 124.83705022,\n",
       "       143.85606595, 143.23651701, 147.76316913, 154.21572891,\n",
       "       129.07895017, 157.79644923])"
      ]
     },
     "execution_count": 114,
     "metadata": {},
     "output_type": "execute_result"
    }
   ],
   "source": [
    "from sklearn import datasets, linear_model\n",
    "from sklearn.model_selection import cross_val_predict\n",
    "diabetes = datasets.load_diabetes()\n",
    "X = diabetes.data[:150]\n",
    "y = diabetes.target[:150]\n",
    "lasso = linear_model.Lasso()\n",
    "y_pred = cross_val_predict(lasso, X, y, cv=3)\n",
    "y_pred"
   ]
  },
  {
   "cell_type": "code",
   "execution_count": 119,
   "metadata": {},
   "outputs": [],
   "source": [
    "from bayes_opt import BayesianOptimization\n",
    "pbounds = {\"n_estimators\": (100, 500),\n",
    "           \"max_depth\": (1, 50),\n",
    "           \"min_samples_split\": (2, 10),\n",
    "           \"min_samples_leaf\": (1, 10)}"
   ]
  },
  {
   "cell_type": "code",
   "execution_count": 120,
   "metadata": {},
   "outputs": [],
   "source": [
    "def rf_hyper_param(n_estimators,\n",
    "             max_depth,\n",
    "             min_samples_split,\n",
    "             min_samples_leaf):\n",
    "    n_estimators = int(n_estimators)\n",
    "    max_depth = int(max_depth)\n",
    "    min_samples_split = int(min_samples_split)\n",
    "    min_samples_leaf = int(min_samples_leaf)\n",
    "    \n",
    "    rf_clf = RandomForestClassifier(\n",
    "                   n_estimators=int(max(n_estimators,0)),                                                               \n",
    "                   max_depth=int(max(max_depth,1)),\n",
    "                   min_samples_split=int(max(min_samples_split,2)), \n",
    "                   min_samples_leaf=int(max(min_samples_leaf,1)),\n",
    "                   n_jobs=-1,\n",
    "                   random_state=42,\n",
    "                   verbose=3)\n",
    "    \n",
    "    return np.mean(cross_val_score(rf_clf, X_train_qt, y_train, cv=5, scoring='roc_auc', verbose=3))"
   ]
  },
  {
   "cell_type": "code",
   "execution_count": 121,
   "metadata": {},
   "outputs": [],
   "source": [
    "optimizer = BayesianOptimization(\n",
    "    f=rf_hyper_param,\n",
    "    pbounds=pbounds,\n",
    "    verbose=2,\n",
    "    random_state=1,\n",
    ")"
   ]
  },
  {
   "cell_type": "code",
   "execution_count": 122,
   "metadata": {},
   "outputs": [
    {
     "name": "stdout",
     "output_type": "stream",
     "text": [
      "|   iter    |  target   | max_depth | min_sa... | min_sa... | n_esti... |\n",
      "-------------------------------------------------------------------------\n",
      "[CV]  ................................................................\n"
     ]
    },
    {
     "name": "stderr",
     "output_type": "stream",
     "text": [
      "[Parallel(n_jobs=1)]: Using backend SequentialBackend with 1 concurrent workers.\n",
      "[Parallel(n_jobs=-1)]: Using backend LokyBackend with 4 concurrent workers.\n",
      "[Parallel(n_jobs=-1)]: Done  24 tasks      | elapsed:   39.0s\n",
      "[Parallel(n_jobs=-1)]: Done 120 tasks      | elapsed:  2.9min\n",
      "[Parallel(n_jobs=-1)]: Done 220 out of 220 | elapsed:  5.3min finished\n",
      "[Parallel(n_jobs=4)]: Using backend ThreadingBackend with 4 concurrent workers.\n",
      "[Parallel(n_jobs=4)]: Done  24 tasks      | elapsed:    0.5s\n",
      "[Parallel(n_jobs=4)]: Done 120 tasks      | elapsed:    2.1s\n",
      "[Parallel(n_jobs=4)]: Done 220 out of 220 | elapsed:    3.9s finished\n"
     ]
    },
    {
     "name": "stdout",
     "output_type": "stream",
     "text": [
      "[CV] .................................... , score=0.609, total= 5.4min\n",
      "[CV]  ................................................................\n"
     ]
    },
    {
     "name": "stderr",
     "output_type": "stream",
     "text": [
      "[Parallel(n_jobs=1)]: Done   1 out of   1 | elapsed:  5.4min remaining:    0.0s\n",
      "[Parallel(n_jobs=-1)]: Using backend LokyBackend with 4 concurrent workers.\n",
      "[Parallel(n_jobs=-1)]: Done  24 tasks      | elapsed:   34.3s\n",
      "[Parallel(n_jobs=-1)]: Done 120 tasks      | elapsed:  2.9min\n",
      "[Parallel(n_jobs=-1)]: Done 220 out of 220 | elapsed:  5.2min finished\n",
      "[Parallel(n_jobs=4)]: Using backend ThreadingBackend with 4 concurrent workers.\n",
      "[Parallel(n_jobs=4)]: Done  24 tasks      | elapsed:    0.5s\n",
      "[Parallel(n_jobs=4)]: Done 120 tasks      | elapsed:    2.1s\n",
      "[Parallel(n_jobs=4)]: Done 220 out of 220 | elapsed:    3.7s finished\n"
     ]
    },
    {
     "name": "stdout",
     "output_type": "stream",
     "text": [
      "[CV] .................................... , score=0.612, total= 5.3min\n",
      "[CV]  ................................................................\n"
     ]
    },
    {
     "name": "stderr",
     "output_type": "stream",
     "text": [
      "[Parallel(n_jobs=1)]: Done   2 out of   2 | elapsed: 10.7min remaining:    0.0s\n",
      "[Parallel(n_jobs=-1)]: Using backend LokyBackend with 4 concurrent workers.\n",
      "[Parallel(n_jobs=-1)]: Done  24 tasks      | elapsed:   34.5s\n",
      "[Parallel(n_jobs=-1)]: Done 120 tasks      | elapsed:  2.9min\n",
      "[Parallel(n_jobs=-1)]: Done 220 out of 220 | elapsed:  5.2min finished\n",
      "[Parallel(n_jobs=4)]: Using backend ThreadingBackend with 4 concurrent workers.\n",
      "[Parallel(n_jobs=4)]: Done  24 tasks      | elapsed:    0.5s\n",
      "[Parallel(n_jobs=4)]: Done 120 tasks      | elapsed:    2.2s\n",
      "[Parallel(n_jobs=4)]: Done 220 out of 220 | elapsed:    3.8s finished\n"
     ]
    },
    {
     "name": "stdout",
     "output_type": "stream",
     "text": [
      "[CV] .................................... , score=0.625, total= 5.3min\n",
      "[CV]  ................................................................\n"
     ]
    },
    {
     "name": "stderr",
     "output_type": "stream",
     "text": [
      "[Parallel(n_jobs=-1)]: Using backend LokyBackend with 4 concurrent workers.\n",
      "[Parallel(n_jobs=-1)]: Done  24 tasks      | elapsed:   34.0s\n",
      "[Parallel(n_jobs=-1)]: Done 120 tasks      | elapsed:  2.9min\n",
      "[Parallel(n_jobs=-1)]: Done 220 out of 220 | elapsed:  5.2min finished\n",
      "[Parallel(n_jobs=4)]: Using backend ThreadingBackend with 4 concurrent workers.\n",
      "[Parallel(n_jobs=4)]: Done  24 tasks      | elapsed:    0.5s\n",
      "[Parallel(n_jobs=4)]: Done 120 tasks      | elapsed:    2.1s\n",
      "[Parallel(n_jobs=4)]: Done 220 out of 220 | elapsed:    3.7s finished\n"
     ]
    },
    {
     "name": "stdout",
     "output_type": "stream",
     "text": [
      "[CV] .................................... , score=0.629, total= 5.3min\n",
      "[CV]  ................................................................\n"
     ]
    },
    {
     "name": "stderr",
     "output_type": "stream",
     "text": [
      "[Parallel(n_jobs=-1)]: Using backend LokyBackend with 4 concurrent workers.\n",
      "[Parallel(n_jobs=-1)]: Done  24 tasks      | elapsed:   34.3s\n",
      "[Parallel(n_jobs=-1)]: Done 120 tasks      | elapsed:  2.8min\n",
      "[Parallel(n_jobs=-1)]: Done 220 out of 220 | elapsed:  5.3min finished\n",
      "[Parallel(n_jobs=4)]: Using backend ThreadingBackend with 4 concurrent workers.\n",
      "[Parallel(n_jobs=4)]: Done  24 tasks      | elapsed:    0.5s\n",
      "[Parallel(n_jobs=4)]: Done 120 tasks      | elapsed:    2.0s\n",
      "[Parallel(n_jobs=4)]: Done 220 out of 220 | elapsed:    3.7s finished\n"
     ]
    },
    {
     "name": "stdout",
     "output_type": "stream",
     "text": [
      "[CV] .................................... , score=0.632, total= 5.3min\n",
      "| \u001b[0m 1       \u001b[0m | \u001b[0m 0.6214  \u001b[0m | \u001b[0m 21.43   \u001b[0m | \u001b[0m 7.483   \u001b[0m | \u001b[0m 2.001   \u001b[0m | \u001b[0m 220.9   \u001b[0m |\n",
      "[CV]  ................................................................\n"
     ]
    },
    {
     "name": "stderr",
     "output_type": "stream",
     "text": [
      "[Parallel(n_jobs=1)]: Done   5 out of   5 | elapsed: 26.6min finished\n",
      "[Parallel(n_jobs=1)]: Using backend SequentialBackend with 1 concurrent workers.\n",
      "[Parallel(n_jobs=-1)]: Using backend LokyBackend with 4 concurrent workers.\n",
      "[Parallel(n_jobs=-1)]: Done  24 tasks      | elapsed:   15.3s\n",
      "[Parallel(n_jobs=-1)]: Done 120 tasks      | elapsed:  1.3min\n",
      "[Parallel(n_jobs=-1)]: Done 238 out of 238 | elapsed:  2.6min finished\n",
      "[Parallel(n_jobs=4)]: Using backend ThreadingBackend with 4 concurrent workers.\n",
      "[Parallel(n_jobs=4)]: Done  24 tasks      | elapsed:    0.5s\n",
      "[Parallel(n_jobs=4)]: Done 120 tasks      | elapsed:    2.2s\n",
      "[Parallel(n_jobs=4)]: Done 238 out of 238 | elapsed:    4.1s finished\n"
     ]
    },
    {
     "name": "stdout",
     "output_type": "stream",
     "text": [
      "[CV] .................................... , score=0.587, total= 2.6min\n",
      "[CV]  ................................................................\n"
     ]
    },
    {
     "name": "stderr",
     "output_type": "stream",
     "text": [
      "[Parallel(n_jobs=1)]: Done   1 out of   1 | elapsed:  2.6min remaining:    0.0s\n",
      "[Parallel(n_jobs=-1)]: Using backend LokyBackend with 4 concurrent workers.\n",
      "[Parallel(n_jobs=-1)]: Done  24 tasks      | elapsed:   15.3s\n",
      "[Parallel(n_jobs=-1)]: Done 120 tasks      | elapsed:  1.3min\n",
      "[Parallel(n_jobs=-1)]: Done 238 out of 238 | elapsed:  2.5min finished\n",
      "[Parallel(n_jobs=4)]: Using backend ThreadingBackend with 4 concurrent workers.\n",
      "[Parallel(n_jobs=4)]: Done  24 tasks      | elapsed:    0.5s\n",
      "[Parallel(n_jobs=4)]: Done 120 tasks      | elapsed:    2.1s\n",
      "[Parallel(n_jobs=4)]: Done 238 out of 238 | elapsed:    4.0s finished\n"
     ]
    },
    {
     "name": "stdout",
     "output_type": "stream",
     "text": [
      "[CV] .................................... , score=0.588, total= 2.6min\n",
      "[CV]  ................................................................\n"
     ]
    },
    {
     "name": "stderr",
     "output_type": "stream",
     "text": [
      "[Parallel(n_jobs=1)]: Done   2 out of   2 | elapsed:  5.2min remaining:    0.0s\n",
      "[Parallel(n_jobs=-1)]: Using backend LokyBackend with 4 concurrent workers.\n",
      "[Parallel(n_jobs=-1)]: Done  24 tasks      | elapsed:   15.3s\n",
      "[Parallel(n_jobs=-1)]: Done 120 tasks      | elapsed:  1.3min\n",
      "[Parallel(n_jobs=-1)]: Done 238 out of 238 | elapsed:  2.5min finished\n",
      "[Parallel(n_jobs=4)]: Using backend ThreadingBackend with 4 concurrent workers.\n",
      "[Parallel(n_jobs=4)]: Done  24 tasks      | elapsed:    0.5s\n",
      "[Parallel(n_jobs=4)]: Done 120 tasks      | elapsed:    2.1s\n",
      "[Parallel(n_jobs=4)]: Done 238 out of 238 | elapsed:    4.0s finished\n"
     ]
    },
    {
     "name": "stdout",
     "output_type": "stream",
     "text": [
      "[CV] .................................... , score=0.597, total= 2.6min\n",
      "[CV]  ................................................................\n"
     ]
    },
    {
     "name": "stderr",
     "output_type": "stream",
     "text": [
      "[Parallel(n_jobs=-1)]: Using backend LokyBackend with 4 concurrent workers.\n",
      "[Parallel(n_jobs=-1)]: Done  24 tasks      | elapsed:   15.4s\n",
      "[Parallel(n_jobs=-1)]: Done 120 tasks      | elapsed:  1.3min\n",
      "[Parallel(n_jobs=-1)]: Done 238 out of 238 | elapsed:  2.5min finished\n",
      "[Parallel(n_jobs=4)]: Using backend ThreadingBackend with 4 concurrent workers.\n",
      "[Parallel(n_jobs=4)]: Done  24 tasks      | elapsed:    0.5s\n",
      "[Parallel(n_jobs=4)]: Done 120 tasks      | elapsed:    2.1s\n",
      "[Parallel(n_jobs=4)]: Done 238 out of 238 | elapsed:    4.1s finished\n"
     ]
    },
    {
     "name": "stdout",
     "output_type": "stream",
     "text": [
      "[CV] .................................... , score=0.603, total= 2.6min\n",
      "[CV]  ................................................................\n"
     ]
    },
    {
     "name": "stderr",
     "output_type": "stream",
     "text": [
      "[Parallel(n_jobs=-1)]: Using backend LokyBackend with 4 concurrent workers.\n",
      "[Parallel(n_jobs=-1)]: Done  24 tasks      | elapsed:   15.3s\n",
      "[Parallel(n_jobs=-1)]: Done 120 tasks      | elapsed:  1.3min\n",
      "[Parallel(n_jobs=-1)]: Done 238 out of 238 | elapsed:  2.5min finished\n",
      "[Parallel(n_jobs=4)]: Using backend ThreadingBackend with 4 concurrent workers.\n",
      "[Parallel(n_jobs=4)]: Done  24 tasks      | elapsed:    0.5s\n",
      "[Parallel(n_jobs=4)]: Done 120 tasks      | elapsed:    2.1s\n",
      "[Parallel(n_jobs=4)]: Done 238 out of 238 | elapsed:    3.9s finished\n"
     ]
    },
    {
     "name": "stdout",
     "output_type": "stream",
     "text": [
      "[CV] .................................... , score=0.608, total= 2.6min\n",
      "| \u001b[0m 2       \u001b[0m | \u001b[0m 0.5965  \u001b[0m | \u001b[0m 8.191   \u001b[0m | \u001b[0m 1.831   \u001b[0m | \u001b[0m 3.49    \u001b[0m | \u001b[0m 238.2   \u001b[0m |\n",
      "[CV]  ................................................................\n"
     ]
    },
    {
     "name": "stderr",
     "output_type": "stream",
     "text": [
      "[Parallel(n_jobs=1)]: Done   5 out of   5 | elapsed: 13.1min finished\n",
      "[Parallel(n_jobs=1)]: Using backend SequentialBackend with 1 concurrent workers.\n",
      "[Parallel(n_jobs=-1)]: Using backend LokyBackend with 4 concurrent workers.\n",
      "[Parallel(n_jobs=-1)]: Done  24 tasks      | elapsed:   33.5s\n",
      "[Parallel(n_jobs=-1)]: Done 120 tasks      | elapsed:  2.8min\n",
      "[Parallel(n_jobs=-1)]: Done 280 tasks      | elapsed:  6.5min\n",
      "[Parallel(n_jobs=-1)]: Done 374 out of 374 | elapsed:  8.7min finished\n",
      "[Parallel(n_jobs=4)]: Using backend ThreadingBackend with 4 concurrent workers.\n",
      "[Parallel(n_jobs=4)]: Done  24 tasks      | elapsed:    0.5s\n",
      "[Parallel(n_jobs=4)]: Done 120 tasks      | elapsed:    2.1s\n",
      "[Parallel(n_jobs=4)]: Done 280 tasks      | elapsed:    4.7s\n",
      "[Parallel(n_jobs=4)]: Done 374 out of 374 | elapsed:    6.3s finished\n"
     ]
    },
    {
     "name": "stdout",
     "output_type": "stream",
     "text": [
      "[CV] .................................... , score=0.605, total= 8.8min\n",
      "[CV]  ................................................................\n"
     ]
    },
    {
     "name": "stderr",
     "output_type": "stream",
     "text": [
      "[Parallel(n_jobs=1)]: Done   1 out of   1 | elapsed:  8.8min remaining:    0.0s\n",
      "[Parallel(n_jobs=-1)]: Using backend LokyBackend with 4 concurrent workers.\n",
      "[Parallel(n_jobs=-1)]: Done  24 tasks      | elapsed:   33.9s\n",
      "[Parallel(n_jobs=-1)]: Done 120 tasks      | elapsed:  2.8min\n",
      "[Parallel(n_jobs=-1)]: Done 280 tasks      | elapsed:  6.6min\n",
      "[Parallel(n_jobs=-1)]: Done 374 out of 374 | elapsed:  8.8min finished\n",
      "[Parallel(n_jobs=4)]: Using backend ThreadingBackend with 4 concurrent workers.\n",
      "[Parallel(n_jobs=4)]: Done  24 tasks      | elapsed:    0.5s\n",
      "[Parallel(n_jobs=4)]: Done 120 tasks      | elapsed:    2.1s\n",
      "[Parallel(n_jobs=4)]: Done 280 tasks      | elapsed:    4.7s\n",
      "[Parallel(n_jobs=4)]: Done 374 out of 374 | elapsed:    6.2s finished\n"
     ]
    },
    {
     "name": "stdout",
     "output_type": "stream",
     "text": [
      "[CV] .................................... , score=0.611, total= 9.0min\n",
      "[CV]  ................................................................\n"
     ]
    },
    {
     "name": "stderr",
     "output_type": "stream",
     "text": [
      "[Parallel(n_jobs=1)]: Done   2 out of   2 | elapsed: 17.8min remaining:    0.0s\n",
      "[Parallel(n_jobs=-1)]: Using backend LokyBackend with 4 concurrent workers.\n",
      "[Parallel(n_jobs=-1)]: Done  24 tasks      | elapsed:   34.6s\n",
      "[Parallel(n_jobs=-1)]: Done 120 tasks      | elapsed:  2.8min\n",
      "[Parallel(n_jobs=-1)]: Done 280 tasks      | elapsed:  6.6min\n",
      "[Parallel(n_jobs=-1)]: Done 374 out of 374 | elapsed:  8.7min finished\n",
      "[Parallel(n_jobs=4)]: Using backend ThreadingBackend with 4 concurrent workers.\n",
      "[Parallel(n_jobs=4)]: Done  24 tasks      | elapsed:    0.5s\n",
      "[Parallel(n_jobs=4)]: Done 120 tasks      | elapsed:    2.1s\n",
      "[Parallel(n_jobs=4)]: Done 280 tasks      | elapsed:    4.8s\n",
      "[Parallel(n_jobs=4)]: Done 374 out of 374 | elapsed:    6.3s finished\n"
     ]
    },
    {
     "name": "stdout",
     "output_type": "stream",
     "text": [
      "[CV] .................................... , score=0.620, total= 8.9min\n",
      "[CV]  ................................................................\n"
     ]
    },
    {
     "name": "stderr",
     "output_type": "stream",
     "text": [
      "[Parallel(n_jobs=-1)]: Using backend LokyBackend with 4 concurrent workers.\n",
      "[Parallel(n_jobs=-1)]: Done  24 tasks      | elapsed:   33.6s\n",
      "[Parallel(n_jobs=-1)]: Done 120 tasks      | elapsed:  2.8min\n",
      "[Parallel(n_jobs=-1)]: Done 280 tasks      | elapsed:  6.5min\n",
      "[Parallel(n_jobs=-1)]: Done 374 out of 374 | elapsed:  8.7min finished\n",
      "[Parallel(n_jobs=4)]: Using backend ThreadingBackend with 4 concurrent workers.\n",
      "[Parallel(n_jobs=4)]: Done  24 tasks      | elapsed:    0.5s\n",
      "[Parallel(n_jobs=4)]: Done 120 tasks      | elapsed:    2.1s\n",
      "[Parallel(n_jobs=4)]: Done 280 tasks      | elapsed:    4.7s\n",
      "[Parallel(n_jobs=4)]: Done 374 out of 374 | elapsed:    6.3s finished\n"
     ]
    },
    {
     "name": "stdout",
     "output_type": "stream",
     "text": [
      "[CV] .................................... , score=0.629, total= 8.8min\n",
      "[CV]  ................................................................\n"
     ]
    },
    {
     "name": "stderr",
     "output_type": "stream",
     "text": [
      "[Parallel(n_jobs=-1)]: Using backend LokyBackend with 4 concurrent workers.\n",
      "[Parallel(n_jobs=-1)]: Done  24 tasks      | elapsed:   33.9s\n",
      "[Parallel(n_jobs=-1)]: Done 120 tasks      | elapsed:  2.8min\n",
      "[Parallel(n_jobs=-1)]: Done 280 tasks      | elapsed:  6.6min\n",
      "[Parallel(n_jobs=-1)]: Done 374 out of 374 | elapsed:  8.7min finished\n",
      "[Parallel(n_jobs=4)]: Using backend ThreadingBackend with 4 concurrent workers.\n",
      "[Parallel(n_jobs=4)]: Done  24 tasks      | elapsed:    0.5s\n",
      "[Parallel(n_jobs=4)]: Done 120 tasks      | elapsed:    2.2s\n",
      "[Parallel(n_jobs=4)]: Done 280 tasks      | elapsed:    4.8s\n",
      "[Parallel(n_jobs=4)]: Done 374 out of 374 | elapsed:    6.4s finished\n"
     ]
    },
    {
     "name": "stdout",
     "output_type": "stream",
     "text": [
      "[CV] .................................... , score=0.634, total= 8.8min\n",
      "| \u001b[0m 3       \u001b[0m | \u001b[0m 0.6198  \u001b[0m | \u001b[0m 20.44   \u001b[0m | \u001b[0m 5.849   \u001b[0m | \u001b[0m 5.354   \u001b[0m | \u001b[0m 374.1   \u001b[0m |\n",
      "[CV]  ................................................................\n"
     ]
    },
    {
     "name": "stderr",
     "output_type": "stream",
     "text": [
      "[Parallel(n_jobs=1)]: Done   5 out of   5 | elapsed: 44.3min finished\n",
      "[Parallel(n_jobs=1)]: Using backend SequentialBackend with 1 concurrent workers.\n",
      "[Parallel(n_jobs=-1)]: Using backend LokyBackend with 4 concurrent workers.\n",
      "[Parallel(n_jobs=-1)]: Done  24 tasks      | elapsed:   19.6s\n",
      "[Parallel(n_jobs=-1)]: Done 120 tasks      | elapsed:  1.6min\n",
      "[Parallel(n_jobs=-1)]: Done 280 tasks      | elapsed:  3.8min\n",
      "[Parallel(n_jobs=-1)]: Done 368 out of 368 | elapsed:  5.0min finished\n",
      "[Parallel(n_jobs=4)]: Using backend ThreadingBackend with 4 concurrent workers.\n",
      "[Parallel(n_jobs=4)]: Done  24 tasks      | elapsed:    0.5s\n",
      "[Parallel(n_jobs=4)]: Done 120 tasks      | elapsed:    2.2s\n",
      "[Parallel(n_jobs=4)]: Done 280 tasks      | elapsed:    4.9s\n",
      "[Parallel(n_jobs=4)]: Done 368 out of 368 | elapsed:    6.3s finished\n"
     ]
    },
    {
     "name": "stdout",
     "output_type": "stream",
     "text": [
      "[CV] .................................... , score=0.612, total= 5.1min\n",
      "[CV]  ................................................................\n"
     ]
    },
    {
     "name": "stderr",
     "output_type": "stream",
     "text": [
      "[Parallel(n_jobs=1)]: Done   1 out of   1 | elapsed:  5.1min remaining:    0.0s\n",
      "[Parallel(n_jobs=-1)]: Using backend LokyBackend with 4 concurrent workers.\n",
      "[Parallel(n_jobs=-1)]: Done  24 tasks      | elapsed:   19.8s\n",
      "[Parallel(n_jobs=-1)]: Done 120 tasks      | elapsed:  1.6min\n",
      "[Parallel(n_jobs=-1)]: Done 280 tasks      | elapsed:  3.8min\n",
      "[Parallel(n_jobs=-1)]: Done 368 out of 368 | elapsed:  5.0min finished\n",
      "[Parallel(n_jobs=4)]: Using backend ThreadingBackend with 4 concurrent workers.\n",
      "[Parallel(n_jobs=4)]: Done  24 tasks      | elapsed:    0.5s\n",
      "[Parallel(n_jobs=4)]: Done 120 tasks      | elapsed:    2.2s\n",
      "[Parallel(n_jobs=4)]: Done 280 tasks      | elapsed:    4.8s\n",
      "[Parallel(n_jobs=4)]: Done 368 out of 368 | elapsed:    6.2s finished\n"
     ]
    },
    {
     "name": "stdout",
     "output_type": "stream",
     "text": [
      "[CV] .................................... , score=0.607, total= 5.1min\n",
      "[CV]  ................................................................\n"
     ]
    },
    {
     "name": "stderr",
     "output_type": "stream",
     "text": [
      "[Parallel(n_jobs=1)]: Done   2 out of   2 | elapsed: 10.3min remaining:    0.0s\n",
      "[Parallel(n_jobs=-1)]: Using backend LokyBackend with 4 concurrent workers.\n",
      "[Parallel(n_jobs=-1)]: Done  24 tasks      | elapsed:   19.5s\n",
      "[Parallel(n_jobs=-1)]: Done 120 tasks      | elapsed:  1.6min\n",
      "[Parallel(n_jobs=-1)]: Done 280 tasks      | elapsed:  3.8min\n",
      "[Parallel(n_jobs=-1)]: Done 368 out of 368 | elapsed:  5.0min finished\n",
      "[Parallel(n_jobs=4)]: Using backend ThreadingBackend with 4 concurrent workers.\n",
      "[Parallel(n_jobs=4)]: Done  24 tasks      | elapsed:    0.5s\n",
      "[Parallel(n_jobs=4)]: Done 120 tasks      | elapsed:    2.1s\n",
      "[Parallel(n_jobs=4)]: Done 280 tasks      | elapsed:    4.7s\n",
      "[Parallel(n_jobs=4)]: Done 368 out of 368 | elapsed:    6.1s finished\n"
     ]
    },
    {
     "name": "stdout",
     "output_type": "stream",
     "text": [
      "[CV] .................................... , score=0.622, total= 5.1min\n",
      "[CV]  ................................................................\n"
     ]
    },
    {
     "name": "stderr",
     "output_type": "stream",
     "text": [
      "[Parallel(n_jobs=-1)]: Using backend LokyBackend with 4 concurrent workers.\n",
      "[Parallel(n_jobs=-1)]: Done  24 tasks      | elapsed:   19.9s\n",
      "[Parallel(n_jobs=-1)]: Done 120 tasks      | elapsed:  1.6min\n",
      "[Parallel(n_jobs=-1)]: Done 280 tasks      | elapsed:  3.8min\n",
      "[Parallel(n_jobs=-1)]: Done 368 out of 368 | elapsed:  5.0min finished\n",
      "[Parallel(n_jobs=4)]: Using backend ThreadingBackend with 4 concurrent workers.\n",
      "[Parallel(n_jobs=4)]: Done  24 tasks      | elapsed:    0.5s\n",
      "[Parallel(n_jobs=4)]: Done 120 tasks      | elapsed:    2.1s\n",
      "[Parallel(n_jobs=4)]: Done 280 tasks      | elapsed:    4.7s\n",
      "[Parallel(n_jobs=4)]: Done 368 out of 368 | elapsed:    6.1s finished\n"
     ]
    },
    {
     "name": "stdout",
     "output_type": "stream",
     "text": [
      "[CV] .................................... , score=0.627, total= 5.1min\n",
      "[CV]  ................................................................\n"
     ]
    },
    {
     "name": "stderr",
     "output_type": "stream",
     "text": [
      "[Parallel(n_jobs=-1)]: Using backend LokyBackend with 4 concurrent workers.\n",
      "[Parallel(n_jobs=-1)]: Done  24 tasks      | elapsed:   19.5s\n",
      "[Parallel(n_jobs=-1)]: Done 120 tasks      | elapsed:  1.6min\n",
      "[Parallel(n_jobs=-1)]: Done 280 tasks      | elapsed:  3.8min\n",
      "[Parallel(n_jobs=-1)]: Done 368 out of 368 | elapsed:  5.0min finished\n",
      "[Parallel(n_jobs=4)]: Using backend ThreadingBackend with 4 concurrent workers.\n",
      "[Parallel(n_jobs=4)]: Done  24 tasks      | elapsed:    0.5s\n",
      "[Parallel(n_jobs=4)]: Done 120 tasks      | elapsed:    2.1s\n",
      "[Parallel(n_jobs=4)]: Done 280 tasks      | elapsed:    4.7s\n",
      "[Parallel(n_jobs=4)]: Done 368 out of 368 | elapsed:    6.2s finished\n"
     ]
    },
    {
     "name": "stdout",
     "output_type": "stream",
     "text": [
      "[CV] .................................... , score=0.627, total= 5.1min\n",
      "| \u001b[0m 4       \u001b[0m | \u001b[0m 0.619   \u001b[0m | \u001b[0m 11.02   \u001b[0m | \u001b[0m 8.903   \u001b[0m | \u001b[0m 2.219   \u001b[0m | \u001b[0m 368.2   \u001b[0m |\n",
      "[CV]  ................................................................\n"
     ]
    },
    {
     "name": "stderr",
     "output_type": "stream",
     "text": [
      "[Parallel(n_jobs=1)]: Done   5 out of   5 | elapsed: 25.5min finished\n",
      "[Parallel(n_jobs=1)]: Using backend SequentialBackend with 1 concurrent workers.\n",
      "[Parallel(n_jobs=-1)]: Using backend LokyBackend with 4 concurrent workers.\n",
      "[Parallel(n_jobs=-1)]: Done  24 tasks      | elapsed:   34.7s\n",
      "[Parallel(n_jobs=-1)]: Done 120 tasks      | elapsed:  2.9min\n",
      "[Parallel(n_jobs=-1)]: Done 179 out of 179 | elapsed:  4.3min finished\n",
      "[Parallel(n_jobs=4)]: Using backend ThreadingBackend with 4 concurrent workers.\n",
      "[Parallel(n_jobs=4)]: Done  24 tasks      | elapsed:    0.5s\n",
      "[Parallel(n_jobs=4)]: Done 120 tasks      | elapsed:    2.1s\n",
      "[Parallel(n_jobs=4)]: Done 179 out of 179 | elapsed:    3.0s finished\n"
     ]
    },
    {
     "name": "stdout",
     "output_type": "stream",
     "text": [
      "[CV] .................................... , score=0.599, total= 4.3min\n",
      "[CV]  ................................................................\n"
     ]
    },
    {
     "name": "stderr",
     "output_type": "stream",
     "text": [
      "[Parallel(n_jobs=1)]: Done   1 out of   1 | elapsed:  4.3min remaining:    0.0s\n",
      "[Parallel(n_jobs=-1)]: Using backend LokyBackend with 4 concurrent workers.\n",
      "[Parallel(n_jobs=-1)]: Done  24 tasks      | elapsed:   34.7s\n",
      "[Parallel(n_jobs=-1)]: Done 120 tasks      | elapsed:  2.9min\n",
      "[Parallel(n_jobs=-1)]: Done 179 out of 179 | elapsed:  4.4min finished\n",
      "[Parallel(n_jobs=4)]: Using backend ThreadingBackend with 4 concurrent workers.\n",
      "[Parallel(n_jobs=4)]: Done  24 tasks      | elapsed:    0.5s\n",
      "[Parallel(n_jobs=4)]: Done 120 tasks      | elapsed:    2.1s\n",
      "[Parallel(n_jobs=4)]: Done 179 out of 179 | elapsed:    3.1s finished\n"
     ]
    },
    {
     "name": "stdout",
     "output_type": "stream",
     "text": [
      "[CV] .................................... , score=0.611, total= 4.4min\n",
      "[CV]  ................................................................\n"
     ]
    },
    {
     "name": "stderr",
     "output_type": "stream",
     "text": [
      "[Parallel(n_jobs=1)]: Done   2 out of   2 | elapsed:  8.8min remaining:    0.0s\n",
      "[Parallel(n_jobs=-1)]: Using backend LokyBackend with 4 concurrent workers.\n",
      "[Parallel(n_jobs=-1)]: Done  24 tasks      | elapsed:   34.8s\n",
      "[Parallel(n_jobs=-1)]: Done 120 tasks      | elapsed:  2.9min\n",
      "[Parallel(n_jobs=-1)]: Done 179 out of 179 | elapsed:  4.3min finished\n",
      "[Parallel(n_jobs=4)]: Using backend ThreadingBackend with 4 concurrent workers.\n",
      "[Parallel(n_jobs=4)]: Done  24 tasks      | elapsed:    0.5s\n",
      "[Parallel(n_jobs=4)]: Done 120 tasks      | elapsed:    2.2s\n",
      "[Parallel(n_jobs=4)]: Done 179 out of 179 | elapsed:    3.1s finished\n"
     ]
    },
    {
     "name": "stdout",
     "output_type": "stream",
     "text": [
      "[CV] .................................... , score=0.618, total= 4.4min\n",
      "[CV]  ................................................................\n"
     ]
    },
    {
     "name": "stderr",
     "output_type": "stream",
     "text": [
      "[Parallel(n_jobs=-1)]: Using backend LokyBackend with 4 concurrent workers.\n",
      "[Parallel(n_jobs=-1)]: Done  24 tasks      | elapsed:   35.0s\n",
      "[Parallel(n_jobs=-1)]: Done 120 tasks      | elapsed:  2.9min\n",
      "[Parallel(n_jobs=-1)]: Done 179 out of 179 | elapsed:  4.3min finished\n",
      "[Parallel(n_jobs=4)]: Using backend ThreadingBackend with 4 concurrent workers.\n",
      "[Parallel(n_jobs=4)]: Done  24 tasks      | elapsed:    0.5s\n",
      "[Parallel(n_jobs=4)]: Done 120 tasks      | elapsed:    2.1s\n",
      "[Parallel(n_jobs=4)]: Done 179 out of 179 | elapsed:    3.0s finished\n"
     ]
    },
    {
     "name": "stdout",
     "output_type": "stream",
     "text": [
      "[CV] .................................... , score=0.635, total= 4.3min\n",
      "[CV]  ................................................................\n"
     ]
    },
    {
     "name": "stderr",
     "output_type": "stream",
     "text": [
      "[Parallel(n_jobs=-1)]: Using backend LokyBackend with 4 concurrent workers.\n",
      "[Parallel(n_jobs=-1)]: Done  24 tasks      | elapsed:   34.5s\n",
      "[Parallel(n_jobs=-1)]: Done 120 tasks      | elapsed:  2.9min\n",
      "[Parallel(n_jobs=-1)]: Done 179 out of 179 | elapsed:  4.3min finished\n",
      "[Parallel(n_jobs=4)]: Using backend ThreadingBackend with 4 concurrent workers.\n",
      "[Parallel(n_jobs=4)]: Done  24 tasks      | elapsed:    0.5s\n",
      "[Parallel(n_jobs=4)]: Done 120 tasks      | elapsed:    2.0s\n",
      "[Parallel(n_jobs=4)]: Done 179 out of 179 | elapsed:    3.0s finished\n"
     ]
    },
    {
     "name": "stdout",
     "output_type": "stream",
     "text": [
      "[CV] .................................... , score=0.631, total= 4.3min\n",
      "| \u001b[0m 5       \u001b[0m | \u001b[0m 0.6187  \u001b[0m | \u001b[0m 21.45   \u001b[0m | \u001b[0m 6.028   \u001b[0m | \u001b[0m 3.123   \u001b[0m | \u001b[0m 179.2   \u001b[0m |\n"
     ]
    },
    {
     "name": "stderr",
     "output_type": "stream",
     "text": [
      "[Parallel(n_jobs=1)]: Done   5 out of   5 | elapsed: 21.8min finished\n",
      "[Parallel(n_jobs=1)]: Using backend SequentialBackend with 1 concurrent workers.\n"
     ]
    },
    {
     "name": "stdout",
     "output_type": "stream",
     "text": [
      "[CV]  ................................................................\n"
     ]
    },
    {
     "name": "stderr",
     "output_type": "stream",
     "text": [
      "[Parallel(n_jobs=-1)]: Using backend LokyBackend with 4 concurrent workers.\n",
      "[Parallel(n_jobs=-1)]: Done  24 tasks      | elapsed:  1.1min\n",
      "[Parallel(n_jobs=-1)]: Done 120 tasks      | elapsed:  5.3min\n",
      "[Parallel(n_jobs=-1)]: Done 280 tasks      | elapsed: 12.3min\n",
      "[Parallel(n_jobs=-1)]: Done 496 out of 496 | elapsed: 21.8min finished\n",
      "[Parallel(n_jobs=4)]: Using backend ThreadingBackend with 4 concurrent workers.\n",
      "[Parallel(n_jobs=4)]: Done  24 tasks      | elapsed:    0.5s\n",
      "[Parallel(n_jobs=4)]: Done 120 tasks      | elapsed:    2.3s\n",
      "[Parallel(n_jobs=4)]: Done 280 tasks      | elapsed:    5.2s\n",
      "[Parallel(n_jobs=4)]: Done 496 out of 496 | elapsed:    9.1s finished\n"
     ]
    },
    {
     "name": "stdout",
     "output_type": "stream",
     "text": [
      "[CV] .................................... , score=0.617, total=21.9min\n",
      "[CV]  ................................................................\n"
     ]
    },
    {
     "name": "stderr",
     "output_type": "stream",
     "text": [
      "[Parallel(n_jobs=1)]: Done   1 out of   1 | elapsed: 21.9min remaining:    0.0s\n",
      "[Parallel(n_jobs=-1)]: Using backend LokyBackend with 4 concurrent workers.\n",
      "[Parallel(n_jobs=-1)]: Done  24 tasks      | elapsed:  1.1min\n",
      "[Parallel(n_jobs=-1)]: Done 120 tasks      | elapsed:  5.3min\n",
      "[Parallel(n_jobs=-1)]: Done 280 tasks      | elapsed: 12.5min\n",
      "[Parallel(n_jobs=-1)]: Done 496 out of 496 | elapsed: 21.9min finished\n",
      "[Parallel(n_jobs=4)]: Using backend ThreadingBackend with 4 concurrent workers.\n",
      "[Parallel(n_jobs=4)]: Done  24 tasks      | elapsed:    0.6s\n",
      "[Parallel(n_jobs=4)]: Done 120 tasks      | elapsed:    2.3s\n",
      "[Parallel(n_jobs=4)]: Done 280 tasks      | elapsed:    5.0s\n",
      "[Parallel(n_jobs=4)]: Done 496 out of 496 | elapsed:    8.7s finished\n"
     ]
    },
    {
     "name": "stdout",
     "output_type": "stream",
     "text": [
      "[CV] .................................... , score=0.614, total=22.1min\n",
      "[CV]  ................................................................\n"
     ]
    },
    {
     "name": "stderr",
     "output_type": "stream",
     "text": [
      "[Parallel(n_jobs=1)]: Done   2 out of   2 | elapsed: 44.0min remaining:    0.0s\n",
      "[Parallel(n_jobs=-1)]: Using backend LokyBackend with 4 concurrent workers.\n",
      "[Parallel(n_jobs=-1)]: Done  24 tasks      | elapsed:  1.1min\n",
      "[Parallel(n_jobs=-1)]: Done 120 tasks      | elapsed:  5.3min\n",
      "[Parallel(n_jobs=-1)]: Done 280 tasks      | elapsed: 12.3min\n",
      "[Parallel(n_jobs=-1)]: Done 496 out of 496 | elapsed: 21.6min finished\n",
      "[Parallel(n_jobs=4)]: Using backend ThreadingBackend with 4 concurrent workers.\n",
      "[Parallel(n_jobs=4)]: Done  24 tasks      | elapsed:    0.5s\n",
      "[Parallel(n_jobs=4)]: Done 120 tasks      | elapsed:    2.3s\n",
      "[Parallel(n_jobs=4)]: Done 280 tasks      | elapsed:    5.2s\n",
      "[Parallel(n_jobs=4)]: Done 496 out of 496 | elapsed:    9.0s finished\n"
     ]
    },
    {
     "name": "stdout",
     "output_type": "stream",
     "text": [
      "[CV] .................................... , score=0.626, total=21.8min\n",
      "[CV]  ................................................................\n"
     ]
    },
    {
     "name": "stderr",
     "output_type": "stream",
     "text": [
      "[Parallel(n_jobs=-1)]: Using backend LokyBackend with 4 concurrent workers.\n",
      "[Parallel(n_jobs=-1)]: Done  24 tasks      | elapsed:  1.1min\n",
      "[Parallel(n_jobs=-1)]: Done 120 tasks      | elapsed:  5.4min\n",
      "[Parallel(n_jobs=-1)]: Done 280 tasks      | elapsed: 12.5min\n",
      "[Parallel(n_jobs=-1)]: Done 496 out of 496 | elapsed: 22.0min finished\n",
      "[Parallel(n_jobs=4)]: Using backend ThreadingBackend with 4 concurrent workers.\n",
      "[Parallel(n_jobs=4)]: Done  24 tasks      | elapsed:    0.5s\n",
      "[Parallel(n_jobs=4)]: Done 120 tasks      | elapsed:    2.3s\n",
      "[Parallel(n_jobs=4)]: Done 280 tasks      | elapsed:    5.0s\n",
      "[Parallel(n_jobs=4)]: Done 496 out of 496 | elapsed:    8.5s finished\n"
     ]
    },
    {
     "name": "stdout",
     "output_type": "stream",
     "text": [
      "[CV] .................................... , score=0.641, total=22.2min\n",
      "[CV]  ................................................................\n"
     ]
    },
    {
     "name": "stderr",
     "output_type": "stream",
     "text": [
      "[Parallel(n_jobs=-1)]: Using backend LokyBackend with 4 concurrent workers.\n",
      "[Parallel(n_jobs=-1)]: Done  24 tasks      | elapsed:  1.1min\n",
      "[Parallel(n_jobs=-1)]: Done 120 tasks      | elapsed:  5.3min\n",
      "[Parallel(n_jobs=-1)]: Done 280 tasks      | elapsed: 12.3min\n",
      "[Parallel(n_jobs=-1)]: Done 496 out of 496 | elapsed: 21.6min finished\n",
      "[Parallel(n_jobs=4)]: Using backend ThreadingBackend with 4 concurrent workers.\n",
      "[Parallel(n_jobs=4)]: Done  24 tasks      | elapsed:    0.5s\n",
      "[Parallel(n_jobs=4)]: Done 120 tasks      | elapsed:    2.1s\n",
      "[Parallel(n_jobs=4)]: Done 280 tasks      | elapsed:    4.9s\n",
      "[Parallel(n_jobs=4)]: Done 496 out of 496 | elapsed:    8.6s finished\n"
     ]
    },
    {
     "name": "stdout",
     "output_type": "stream",
     "text": [
      "[CV] .................................... , score=0.641, total=21.8min\n",
      "| \u001b[95m 6       \u001b[0m | \u001b[95m 0.6276  \u001b[0m | \u001b[95m 49.79   \u001b[0m | \u001b[95m 9.189   \u001b[0m | \u001b[95m 4.518   \u001b[0m | \u001b[95m 496.4   \u001b[0m |\n"
     ]
    },
    {
     "name": "stderr",
     "output_type": "stream",
     "text": [
      "[Parallel(n_jobs=1)]: Done   5 out of   5 | elapsed: 109.8min finished\n",
      "[Parallel(n_jobs=1)]: Using backend SequentialBackend with 1 concurrent workers.\n",
      "[Parallel(n_jobs=-1)]: Using backend LokyBackend with 4 concurrent workers.\n"
     ]
    },
    {
     "name": "stdout",
     "output_type": "stream",
     "text": [
      "[CV]  ................................................................\n"
     ]
    },
    {
     "name": "stderr",
     "output_type": "stream",
     "text": [
      "[Parallel(n_jobs=-1)]: Done  24 tasks      | elapsed:  1.1min\n",
      "[Parallel(n_jobs=-1)]: Done 102 out of 102 | elapsed:  4.7min finished\n",
      "[Parallel(n_jobs=4)]: Using backend ThreadingBackend with 4 concurrent workers.\n",
      "[Parallel(n_jobs=4)]: Done  24 tasks      | elapsed:    0.5s\n",
      "[Parallel(n_jobs=4)]: Done 102 out of 102 | elapsed:    1.8s finished\n"
     ]
    },
    {
     "name": "stdout",
     "output_type": "stream",
     "text": [
      "[CV] .................................... , score=0.609, total= 4.7min\n",
      "[CV]  ................................................................\n"
     ]
    },
    {
     "name": "stderr",
     "output_type": "stream",
     "text": [
      "[Parallel(n_jobs=1)]: Done   1 out of   1 | elapsed:  4.7min remaining:    0.0s\n",
      "[Parallel(n_jobs=-1)]: Using backend LokyBackend with 4 concurrent workers.\n",
      "[Parallel(n_jobs=-1)]: Done  24 tasks      | elapsed:  1.1min\n",
      "[Parallel(n_jobs=-1)]: Done 102 out of 102 | elapsed:  4.7min finished\n",
      "[Parallel(n_jobs=4)]: Using backend ThreadingBackend with 4 concurrent workers.\n",
      "[Parallel(n_jobs=4)]: Done  24 tasks      | elapsed:    0.5s\n",
      "[Parallel(n_jobs=4)]: Done 102 out of 102 | elapsed:    1.8s finished\n"
     ]
    },
    {
     "name": "stdout",
     "output_type": "stream",
     "text": [
      "[CV] .................................... , score=0.605, total= 4.8min\n",
      "[CV]  ................................................................\n"
     ]
    },
    {
     "name": "stderr",
     "output_type": "stream",
     "text": [
      "[Parallel(n_jobs=1)]: Done   2 out of   2 | elapsed:  9.5min remaining:    0.0s\n",
      "[Parallel(n_jobs=-1)]: Using backend LokyBackend with 4 concurrent workers.\n",
      "[Parallel(n_jobs=-1)]: Done  24 tasks      | elapsed:  1.1min\n",
      "[Parallel(n_jobs=-1)]: Done 102 out of 102 | elapsed:  4.7min finished\n",
      "[Parallel(n_jobs=4)]: Using backend ThreadingBackend with 4 concurrent workers.\n",
      "[Parallel(n_jobs=4)]: Done  24 tasks      | elapsed:    0.5s\n",
      "[Parallel(n_jobs=4)]: Done 102 out of 102 | elapsed:    1.8s finished\n"
     ]
    },
    {
     "name": "stdout",
     "output_type": "stream",
     "text": [
      "[CV] .................................... , score=0.620, total= 4.7min\n",
      "[CV]  ................................................................\n"
     ]
    },
    {
     "name": "stderr",
     "output_type": "stream",
     "text": [
      "[Parallel(n_jobs=-1)]: Using backend LokyBackend with 4 concurrent workers.\n",
      "[Parallel(n_jobs=-1)]: Done  24 tasks      | elapsed:  1.1min\n",
      "[Parallel(n_jobs=-1)]: Done 102 out of 102 | elapsed:  4.7min finished\n",
      "[Parallel(n_jobs=4)]: Using backend ThreadingBackend with 4 concurrent workers.\n",
      "[Parallel(n_jobs=4)]: Done  24 tasks      | elapsed:    0.5s\n",
      "[Parallel(n_jobs=4)]: Done 102 out of 102 | elapsed:    1.8s finished\n"
     ]
    },
    {
     "name": "stdout",
     "output_type": "stream",
     "text": [
      "[CV] .................................... , score=0.621, total= 4.8min\n",
      "[CV]  ................................................................\n"
     ]
    },
    {
     "name": "stderr",
     "output_type": "stream",
     "text": [
      "[Parallel(n_jobs=-1)]: Using backend LokyBackend with 4 concurrent workers.\n",
      "[Parallel(n_jobs=-1)]: Done  24 tasks      | elapsed:  1.1min\n",
      "[Parallel(n_jobs=-1)]: Done 102 out of 102 | elapsed:  4.7min finished\n",
      "[Parallel(n_jobs=4)]: Using backend ThreadingBackend with 4 concurrent workers.\n",
      "[Parallel(n_jobs=4)]: Done  24 tasks      | elapsed:    0.5s\n",
      "[Parallel(n_jobs=4)]: Done 102 out of 102 | elapsed:    1.8s finished\n"
     ]
    },
    {
     "name": "stdout",
     "output_type": "stream",
     "text": [
      "[CV] .................................... , score=0.625, total= 4.7min\n",
      "| \u001b[0m 7       \u001b[0m | \u001b[0m 0.616   \u001b[0m | \u001b[0m 48.91   \u001b[0m | \u001b[0m 7.66    \u001b[0m | \u001b[0m 2.941   \u001b[0m | \u001b[0m 102.4   \u001b[0m |\n",
      "[CV]  ................................................................\n"
     ]
    },
    {
     "name": "stderr",
     "output_type": "stream",
     "text": [
      "[Parallel(n_jobs=1)]: Done   5 out of   5 | elapsed: 23.7min finished\n",
      "[Parallel(n_jobs=1)]: Using backend SequentialBackend with 1 concurrent workers.\n",
      "[Parallel(n_jobs=-1)]: Using backend LokyBackend with 4 concurrent workers.\n",
      "[Parallel(n_jobs=-1)]: Done  24 tasks      | elapsed:  1.1min\n",
      "[Parallel(n_jobs=-1)]: Done 120 tasks      | elapsed:  5.5min\n",
      "[Parallel(n_jobs=-1)]: Done 280 tasks      | elapsed: 12.2min\n",
      "[Parallel(n_jobs=-1)]: Done 499 out of 499 | elapsed: 20.0min finished\n",
      "[Parallel(n_jobs=4)]: Using backend ThreadingBackend with 4 concurrent workers.\n",
      "[Parallel(n_jobs=4)]: Done  24 tasks      | elapsed:    0.4s\n",
      "[Parallel(n_jobs=4)]: Done 120 tasks      | elapsed:    2.1s\n",
      "[Parallel(n_jobs=4)]: Done 280 tasks      | elapsed:    4.9s\n",
      "[Parallel(n_jobs=4)]: Done 499 out of 499 | elapsed:    8.7s finished\n"
     ]
    },
    {
     "name": "stdout",
     "output_type": "stream",
     "text": [
      "[CV] .................................... , score=0.616, total=20.2min\n",
      "[CV]  ................................................................\n"
     ]
    },
    {
     "name": "stderr",
     "output_type": "stream",
     "text": [
      "[Parallel(n_jobs=1)]: Done   1 out of   1 | elapsed: 20.2min remaining:    0.0s\n",
      "[Parallel(n_jobs=-1)]: Using backend LokyBackend with 4 concurrent workers.\n",
      "[Parallel(n_jobs=-1)]: Done  24 tasks      | elapsed:   54.6s\n",
      "[Parallel(n_jobs=-1)]: Done 120 tasks      | elapsed:  4.4min\n",
      "[Parallel(n_jobs=-1)]: Done 280 tasks      | elapsed: 10.6min\n",
      "[Parallel(n_jobs=-1)]: Done 499 out of 499 | elapsed: 18.7min finished\n",
      "[Parallel(n_jobs=4)]: Using backend ThreadingBackend with 4 concurrent workers.\n",
      "[Parallel(n_jobs=4)]: Done  24 tasks      | elapsed:    0.5s\n",
      "[Parallel(n_jobs=4)]: Done 120 tasks      | elapsed:    2.1s\n",
      "[Parallel(n_jobs=4)]: Done 280 tasks      | elapsed:    4.9s\n",
      "[Parallel(n_jobs=4)]: Done 499 out of 499 | elapsed:    8.7s finished\n"
     ]
    },
    {
     "name": "stdout",
     "output_type": "stream",
     "text": [
      "[CV] .................................... , score=0.614, total=18.9min\n",
      "[CV]  ................................................................\n"
     ]
    },
    {
     "name": "stderr",
     "output_type": "stream",
     "text": [
      "[Parallel(n_jobs=1)]: Done   2 out of   2 | elapsed: 39.0min remaining:    0.0s\n",
      "[Parallel(n_jobs=-1)]: Using backend LokyBackend with 4 concurrent workers.\n",
      "[Parallel(n_jobs=-1)]: Done  24 tasks      | elapsed:   52.5s\n",
      "[Parallel(n_jobs=-1)]: Done 120 tasks      | elapsed:  4.3min\n",
      "[Parallel(n_jobs=-1)]: Done 280 tasks      | elapsed: 10.1min\n",
      "[Parallel(n_jobs=-1)]: Done 499 out of 499 | elapsed: 17.8min finished\n",
      "[Parallel(n_jobs=4)]: Using backend ThreadingBackend with 4 concurrent workers.\n",
      "[Parallel(n_jobs=4)]: Done  24 tasks      | elapsed:    0.4s\n",
      "[Parallel(n_jobs=4)]: Done 120 tasks      | elapsed:    2.1s\n",
      "[Parallel(n_jobs=4)]: Done 280 tasks      | elapsed:    4.9s\n",
      "[Parallel(n_jobs=4)]: Done 499 out of 499 | elapsed:    8.6s finished\n"
     ]
    },
    {
     "name": "stdout",
     "output_type": "stream",
     "text": [
      "[CV] .................................... , score=0.628, total=17.9min\n",
      "[CV]  ................................................................\n"
     ]
    },
    {
     "name": "stderr",
     "output_type": "stream",
     "text": [
      "[Parallel(n_jobs=-1)]: Using backend LokyBackend with 4 concurrent workers.\n",
      "[Parallel(n_jobs=-1)]: Done  24 tasks      | elapsed:   52.1s\n",
      "[Parallel(n_jobs=-1)]: Done 120 tasks      | elapsed:  4.4min\n",
      "[Parallel(n_jobs=-1)]: Done 280 tasks      | elapsed: 10.2min\n",
      "[Parallel(n_jobs=-1)]: Done 499 out of 499 | elapsed: 18.0min finished\n",
      "[Parallel(n_jobs=4)]: Using backend ThreadingBackend with 4 concurrent workers.\n",
      "[Parallel(n_jobs=4)]: Done  24 tasks      | elapsed:    0.5s\n",
      "[Parallel(n_jobs=4)]: Done 120 tasks      | elapsed:    2.1s\n",
      "[Parallel(n_jobs=4)]: Done 280 tasks      | elapsed:    4.9s\n",
      "[Parallel(n_jobs=4)]: Done 499 out of 499 | elapsed:    8.6s finished\n"
     ]
    },
    {
     "name": "stdout",
     "output_type": "stream",
     "text": [
      "[CV] .................................... , score=0.647, total=18.2min\n",
      "[CV]  ................................................................\n"
     ]
    },
    {
     "name": "stderr",
     "output_type": "stream",
     "text": [
      "[Parallel(n_jobs=-1)]: Using backend LokyBackend with 4 concurrent workers.\n",
      "[Parallel(n_jobs=-1)]: Done  24 tasks      | elapsed:   56.3s\n",
      "[Parallel(n_jobs=-1)]: Done 120 tasks      | elapsed:  4.4min\n",
      "[Parallel(n_jobs=-1)]: Done 280 tasks      | elapsed: 10.1min\n",
      "[Parallel(n_jobs=-1)]: Done 499 out of 499 | elapsed: 17.8min finished\n",
      "[Parallel(n_jobs=4)]: Using backend ThreadingBackend with 4 concurrent workers.\n",
      "[Parallel(n_jobs=4)]: Done  24 tasks      | elapsed:    0.5s\n",
      "[Parallel(n_jobs=4)]: Done 120 tasks      | elapsed:    2.1s\n",
      "[Parallel(n_jobs=4)]: Done 280 tasks      | elapsed:    4.9s\n",
      "[Parallel(n_jobs=4)]: Done 499 out of 499 | elapsed:    8.7s finished\n"
     ]
    },
    {
     "name": "stdout",
     "output_type": "stream",
     "text": [
      "[CV] .................................... , score=0.642, total=18.0min\n",
      "| \u001b[95m 8       \u001b[0m | \u001b[95m 0.6291  \u001b[0m | \u001b[95m 49.45   \u001b[0m | \u001b[95m 8.937   \u001b[0m | \u001b[95m 2.184   \u001b[0m | \u001b[95m 499.9   \u001b[0m |\n",
      "[CV]  ................................................................\n"
     ]
    },
    {
     "name": "stderr",
     "output_type": "stream",
     "text": [
      "[Parallel(n_jobs=1)]: Done   5 out of   5 | elapsed: 93.1min finished\n",
      "[Parallel(n_jobs=1)]: Using backend SequentialBackend with 1 concurrent workers.\n",
      "[Parallel(n_jobs=-1)]: Using backend LokyBackend with 4 concurrent workers.\n",
      "[Parallel(n_jobs=-1)]: Done  24 tasks      | elapsed:   56.7s\n",
      "[Parallel(n_jobs=-1)]: Done 120 tasks      | elapsed:  4.7min\n",
      "[Parallel(n_jobs=-1)]: Done 280 tasks      | elapsed: 10.9min\n",
      "[Parallel(n_jobs=-1)]: Done 496 out of 496 | elapsed: 19.1min finished\n",
      "[Parallel(n_jobs=4)]: Using backend ThreadingBackend with 4 concurrent workers.\n",
      "[Parallel(n_jobs=4)]: Done  24 tasks      | elapsed:    0.4s\n",
      "[Parallel(n_jobs=4)]: Done 120 tasks      | elapsed:    2.1s\n",
      "[Parallel(n_jobs=4)]: Done 280 tasks      | elapsed:    4.9s\n",
      "[Parallel(n_jobs=4)]: Done 496 out of 496 | elapsed:    8.5s finished\n"
     ]
    },
    {
     "name": "stdout",
     "output_type": "stream",
     "text": [
      "[CV] .................................... , score=0.616, total=19.3min\n",
      "[CV]  ................................................................\n"
     ]
    },
    {
     "name": "stderr",
     "output_type": "stream",
     "text": [
      "[Parallel(n_jobs=1)]: Done   1 out of   1 | elapsed: 19.3min remaining:    0.0s\n",
      "[Parallel(n_jobs=-1)]: Using backend LokyBackend with 4 concurrent workers.\n",
      "[Parallel(n_jobs=-1)]: Done  24 tasks      | elapsed:   57.2s\n",
      "[Parallel(n_jobs=-1)]: Done 120 tasks      | elapsed:  4.7min\n",
      "[Parallel(n_jobs=-1)]: Done 280 tasks      | elapsed: 10.9min\n",
      "[Parallel(n_jobs=-1)]: Done 496 out of 496 | elapsed: 19.5min finished\n",
      "[Parallel(n_jobs=4)]: Using backend ThreadingBackend with 4 concurrent workers.\n",
      "[Parallel(n_jobs=4)]: Done  24 tasks      | elapsed:    0.5s\n",
      "[Parallel(n_jobs=4)]: Done 120 tasks      | elapsed:    2.4s\n",
      "[Parallel(n_jobs=4)]: Done 280 tasks      | elapsed:    5.1s\n",
      "[Parallel(n_jobs=4)]: Done 496 out of 496 | elapsed:    9.5s finished\n"
     ]
    },
    {
     "name": "stdout",
     "output_type": "stream",
     "text": [
      "[CV] .................................... , score=0.615, total=19.7min\n",
      "[CV]  ................................................................\n"
     ]
    },
    {
     "name": "stderr",
     "output_type": "stream",
     "text": [
      "[Parallel(n_jobs=1)]: Done   2 out of   2 | elapsed: 39.0min remaining:    0.0s\n",
      "[Parallel(n_jobs=-1)]: Using backend LokyBackend with 4 concurrent workers.\n",
      "[Parallel(n_jobs=-1)]: Done  24 tasks      | elapsed:  1.1min\n",
      "[Parallel(n_jobs=-1)]: Done 120 tasks      | elapsed:  5.5min\n",
      "[Parallel(n_jobs=-1)]: Done 280 tasks      | elapsed: 17.9min\n",
      "[Parallel(n_jobs=-1)]: Done 496 out of 496 | elapsed: 32.3min finished\n",
      "[Parallel(n_jobs=4)]: Using backend ThreadingBackend with 4 concurrent workers.\n",
      "[Parallel(n_jobs=4)]: Done  24 tasks      | elapsed:    0.5s\n",
      "[Parallel(n_jobs=4)]: Done 120 tasks      | elapsed:    2.3s\n",
      "[Parallel(n_jobs=4)]: Done 280 tasks      | elapsed:    5.1s\n",
      "[Parallel(n_jobs=4)]: Done 496 out of 496 | elapsed:    8.7s finished\n"
     ]
    },
    {
     "name": "stdout",
     "output_type": "stream",
     "text": [
      "[CV] .................................... , score=0.627, total=32.5min\n",
      "[CV]  ................................................................\n"
     ]
    },
    {
     "name": "stderr",
     "output_type": "stream",
     "text": [
      "[Parallel(n_jobs=-1)]: Using backend LokyBackend with 4 concurrent workers.\n",
      "[Parallel(n_jobs=-1)]: Done  24 tasks      | elapsed:  1.2min\n",
      "[Parallel(n_jobs=-1)]: Done 120 tasks      | elapsed:  5.8min\n",
      "[Parallel(n_jobs=-1)]: Done 280 tasks      | elapsed: 12.2min\n",
      "[Parallel(n_jobs=-1)]: Done 496 out of 496 | elapsed: 20.6min finished\n",
      "[Parallel(n_jobs=4)]: Using backend ThreadingBackend with 4 concurrent workers.\n",
      "[Parallel(n_jobs=4)]: Done  24 tasks      | elapsed:    0.5s\n",
      "[Parallel(n_jobs=4)]: Done 120 tasks      | elapsed:    2.1s\n",
      "[Parallel(n_jobs=4)]: Done 280 tasks      | elapsed:    4.9s\n",
      "[Parallel(n_jobs=4)]: Done 496 out of 496 | elapsed:    8.6s finished\n"
     ]
    },
    {
     "name": "stdout",
     "output_type": "stream",
     "text": [
      "[CV] .................................... , score=0.632, total=20.7min\n",
      "[CV]  ................................................................\n"
     ]
    },
    {
     "name": "stderr",
     "output_type": "stream",
     "text": [
      "[Parallel(n_jobs=-1)]: Using backend LokyBackend with 4 concurrent workers.\n",
      "[Parallel(n_jobs=-1)]: Done  24 tasks      | elapsed:   56.4s\n",
      "[Parallel(n_jobs=-1)]: Done 120 tasks      | elapsed:  7.2min\n",
      "[Parallel(n_jobs=-1)]: Done 280 tasks      | elapsed: 19.7min\n",
      "[Parallel(n_jobs=-1)]: Done 496 out of 496 | elapsed: 31.9min finished\n",
      "[Parallel(n_jobs=4)]: Using backend ThreadingBackend with 4 concurrent workers.\n",
      "[Parallel(n_jobs=4)]: Done  24 tasks      | elapsed:    0.5s\n",
      "[Parallel(n_jobs=4)]: Done 120 tasks      | elapsed:    2.1s\n",
      "[Parallel(n_jobs=4)]: Done 280 tasks      | elapsed:    4.7s\n",
      "[Parallel(n_jobs=4)]: Done 496 out of 496 | elapsed:    8.3s finished\n"
     ]
    },
    {
     "name": "stdout",
     "output_type": "stream",
     "text": [
      "[CV] .................................... , score=0.635, total=32.0min\n",
      "| \u001b[0m 9       \u001b[0m | \u001b[0m 0.6251  \u001b[0m | \u001b[0m 48.11   \u001b[0m | \u001b[0m 5.404   \u001b[0m | \u001b[0m 4.82    \u001b[0m | \u001b[0m 496.9   \u001b[0m |\n"
     ]
    },
    {
     "name": "stderr",
     "output_type": "stream",
     "text": [
      "[Parallel(n_jobs=1)]: Done   5 out of   5 | elapsed: 124.3min finished\n",
      "[Parallel(n_jobs=1)]: Using backend SequentialBackend with 1 concurrent workers.\n"
     ]
    },
    {
     "name": "stdout",
     "output_type": "stream",
     "text": [
      "[CV]  ................................................................\n"
     ]
    },
    {
     "name": "stderr",
     "output_type": "stream",
     "text": [
      "[Parallel(n_jobs=-1)]: Using backend LokyBackend with 4 concurrent workers.\n",
      "[Parallel(n_jobs=-1)]: Done  24 tasks      | elapsed:    2.9s\n",
      "[Parallel(n_jobs=-1)]: Done 120 tasks      | elapsed:   14.4s\n",
      "[Parallel(n_jobs=-1)]: Done 280 tasks      | elapsed:   33.5s\n",
      "[Parallel(n_jobs=-1)]: Done 498 out of 498 | elapsed:   59.2s finished\n",
      "[Parallel(n_jobs=4)]: Using backend ThreadingBackend with 4 concurrent workers.\n",
      "[Parallel(n_jobs=4)]: Done  24 tasks      | elapsed:    0.5s\n",
      "[Parallel(n_jobs=4)]: Done 120 tasks      | elapsed:    2.0s\n",
      "[Parallel(n_jobs=4)]: Done 280 tasks      | elapsed:    4.7s\n",
      "[Parallel(n_jobs=4)]: Done 498 out of 498 | elapsed:    8.4s finished\n"
     ]
    },
    {
     "name": "stdout",
     "output_type": "stream",
     "text": [
      "[CV] .................................... , score=0.572, total= 1.1min\n",
      "[CV]  ................................................................\n"
     ]
    },
    {
     "name": "stderr",
     "output_type": "stream",
     "text": [
      "[Parallel(n_jobs=1)]: Done   1 out of   1 | elapsed:  1.1min remaining:    0.0s\n",
      "[Parallel(n_jobs=-1)]: Using backend LokyBackend with 4 concurrent workers.\n",
      "[Parallel(n_jobs=-1)]: Done  24 tasks      | elapsed:    3.0s\n",
      "[Parallel(n_jobs=-1)]: Done 120 tasks      | elapsed:   14.5s\n",
      "[Parallel(n_jobs=-1)]: Done 280 tasks      | elapsed:   33.7s\n",
      "[Parallel(n_jobs=-1)]: Done 498 out of 498 | elapsed:   59.4s finished\n",
      "[Parallel(n_jobs=4)]: Using backend ThreadingBackend with 4 concurrent workers.\n",
      "[Parallel(n_jobs=4)]: Done  24 tasks      | elapsed:    0.5s\n",
      "[Parallel(n_jobs=4)]: Done 120 tasks      | elapsed:    2.1s\n",
      "[Parallel(n_jobs=4)]: Done 280 tasks      | elapsed:    4.7s\n",
      "[Parallel(n_jobs=4)]: Done 498 out of 498 | elapsed:    8.3s finished\n"
     ]
    },
    {
     "name": "stdout",
     "output_type": "stream",
     "text": [
      "[CV] .................................... , score=0.583, total= 1.1min\n",
      "[CV]  ................................................................\n"
     ]
    },
    {
     "name": "stderr",
     "output_type": "stream",
     "text": [
      "[Parallel(n_jobs=1)]: Done   2 out of   2 | elapsed:  2.3min remaining:    0.0s\n",
      "[Parallel(n_jobs=-1)]: Using backend LokyBackend with 4 concurrent workers.\n",
      "[Parallel(n_jobs=-1)]: Done  24 tasks      | elapsed:    3.0s\n",
      "[Parallel(n_jobs=-1)]: Done 120 tasks      | elapsed:   14.4s\n",
      "[Parallel(n_jobs=-1)]: Done 280 tasks      | elapsed:   33.4s\n",
      "[Parallel(n_jobs=-1)]: Done 498 out of 498 | elapsed:   57.1s finished\n",
      "[Parallel(n_jobs=4)]: Using backend ThreadingBackend with 4 concurrent workers.\n",
      "[Parallel(n_jobs=4)]: Done  24 tasks      | elapsed:    0.4s\n",
      "[Parallel(n_jobs=4)]: Done 120 tasks      | elapsed:    2.1s\n",
      "[Parallel(n_jobs=4)]: Done 280 tasks      | elapsed:    4.8s\n",
      "[Parallel(n_jobs=4)]: Done 498 out of 498 | elapsed:    8.5s finished\n"
     ]
    },
    {
     "name": "stdout",
     "output_type": "stream",
     "text": [
      "[CV] .................................... , score=0.575, total= 1.1min\n",
      "[CV]  ................................................................\n"
     ]
    },
    {
     "name": "stderr",
     "output_type": "stream",
     "text": [
      "[Parallel(n_jobs=-1)]: Using backend LokyBackend with 4 concurrent workers.\n",
      "[Parallel(n_jobs=-1)]: Done  24 tasks      | elapsed:    2.5s\n",
      "[Parallel(n_jobs=-1)]: Done 120 tasks      | elapsed:   12.7s\n",
      "[Parallel(n_jobs=-1)]: Done 280 tasks      | elapsed:   27.8s\n",
      "[Parallel(n_jobs=-1)]: Done 498 out of 498 | elapsed:   48.4s finished\n",
      "[Parallel(n_jobs=4)]: Using backend ThreadingBackend with 4 concurrent workers.\n",
      "[Parallel(n_jobs=4)]: Done  24 tasks      | elapsed:    0.4s\n",
      "[Parallel(n_jobs=4)]: Done 120 tasks      | elapsed:    2.1s\n",
      "[Parallel(n_jobs=4)]: Done 280 tasks      | elapsed:    4.8s\n",
      "[Parallel(n_jobs=4)]: Done 498 out of 498 | elapsed:    8.6s finished\n"
     ]
    },
    {
     "name": "stdout",
     "output_type": "stream",
     "text": [
      "[CV] .................................... , score=0.586, total=  57.8s\n",
      "[CV]  ................................................................\n"
     ]
    },
    {
     "name": "stderr",
     "output_type": "stream",
     "text": [
      "[Parallel(n_jobs=-1)]: Using backend LokyBackend with 4 concurrent workers.\n",
      "[Parallel(n_jobs=-1)]: Done  24 tasks      | elapsed:    2.5s\n",
      "[Parallel(n_jobs=-1)]: Done 120 tasks      | elapsed:   12.2s\n",
      "[Parallel(n_jobs=-1)]: Done 280 tasks      | elapsed:   27.4s\n",
      "[Parallel(n_jobs=-1)]: Done 498 out of 498 | elapsed:   48.0s finished\n",
      "[Parallel(n_jobs=4)]: Using backend ThreadingBackend with 4 concurrent workers.\n",
      "[Parallel(n_jobs=4)]: Done  24 tasks      | elapsed:    0.4s\n",
      "[Parallel(n_jobs=4)]: Done 120 tasks      | elapsed:    2.1s\n",
      "[Parallel(n_jobs=4)]: Done 280 tasks      | elapsed:    4.8s\n",
      "[Parallel(n_jobs=4)]: Done 498 out of 498 | elapsed:    8.9s finished\n"
     ]
    },
    {
     "name": "stdout",
     "output_type": "stream",
     "text": [
      "[CV] .................................... , score=0.584, total=  57.5s\n",
      "| \u001b[0m 10      \u001b[0m | \u001b[0m 0.5802  \u001b[0m | \u001b[0m 1.096   \u001b[0m | \u001b[0m 7.053   \u001b[0m | \u001b[0m 9.662   \u001b[0m | \u001b[0m 498.1   \u001b[0m |\n"
     ]
    },
    {
     "name": "stderr",
     "output_type": "stream",
     "text": [
      "[Parallel(n_jobs=1)]: Done   5 out of   5 | elapsed:  5.3min finished\n",
      "[Parallel(n_jobs=1)]: Using backend SequentialBackend with 1 concurrent workers.\n"
     ]
    },
    {
     "name": "stdout",
     "output_type": "stream",
     "text": [
      "[CV]  ................................................................\n"
     ]
    },
    {
     "name": "stderr",
     "output_type": "stream",
     "text": [
      "[Parallel(n_jobs=-1)]: Using backend LokyBackend with 4 concurrent workers.\n",
      "[Parallel(n_jobs=-1)]: Done  24 tasks      | elapsed:   53.0s\n",
      "[Parallel(n_jobs=-1)]: Done 120 tasks      | elapsed:  4.3min\n",
      "[Parallel(n_jobs=-1)]: Done 280 tasks      | elapsed:  9.8min\n",
      "[Parallel(n_jobs=-1)]: Done 331 out of 331 | elapsed: 11.5min finished\n",
      "[Parallel(n_jobs=4)]: Using backend ThreadingBackend with 4 concurrent workers.\n",
      "[Parallel(n_jobs=4)]: Done  24 tasks      | elapsed:    0.4s\n",
      "[Parallel(n_jobs=4)]: Done 120 tasks      | elapsed:    2.1s\n",
      "[Parallel(n_jobs=4)]: Done 280 tasks      | elapsed:    4.8s\n",
      "[Parallel(n_jobs=4)]: Done 331 out of 331 | elapsed:    5.7s finished\n"
     ]
    },
    {
     "name": "stdout",
     "output_type": "stream",
     "text": [
      "[CV] .................................... , score=0.615, total=11.6min\n",
      "[CV]  ................................................................\n"
     ]
    },
    {
     "name": "stderr",
     "output_type": "stream",
     "text": [
      "[Parallel(n_jobs=1)]: Done   1 out of   1 | elapsed: 11.6min remaining:    0.0s\n",
      "[Parallel(n_jobs=-1)]: Using backend LokyBackend with 4 concurrent workers.\n",
      "[Parallel(n_jobs=-1)]: Done  24 tasks      | elapsed:   51.0s\n",
      "[Parallel(n_jobs=-1)]: Done 120 tasks      | elapsed:  4.2min\n",
      "[Parallel(n_jobs=-1)]: Done 280 tasks      | elapsed:  9.9min\n",
      "[Parallel(n_jobs=-1)]: Done 331 out of 331 | elapsed: 11.7min finished\n",
      "[Parallel(n_jobs=4)]: Using backend ThreadingBackend with 4 concurrent workers.\n",
      "[Parallel(n_jobs=4)]: Done  24 tasks      | elapsed:    0.5s\n",
      "[Parallel(n_jobs=4)]: Done 120 tasks      | elapsed:    2.1s\n",
      "[Parallel(n_jobs=4)]: Done 280 tasks      | elapsed:    4.9s\n",
      "[Parallel(n_jobs=4)]: Done 331 out of 331 | elapsed:    5.8s finished\n"
     ]
    },
    {
     "name": "stdout",
     "output_type": "stream",
     "text": [
      "[CV] .................................... , score=0.611, total=11.8min\n",
      "[CV]  ................................................................\n"
     ]
    },
    {
     "name": "stderr",
     "output_type": "stream",
     "text": [
      "[Parallel(n_jobs=1)]: Done   2 out of   2 | elapsed: 23.4min remaining:    0.0s\n",
      "[Parallel(n_jobs=-1)]: Using backend LokyBackend with 4 concurrent workers.\n",
      "[Parallel(n_jobs=-1)]: Done  24 tasks      | elapsed:   52.1s\n",
      "[Parallel(n_jobs=-1)]: Done 120 tasks      | elapsed:  4.2min\n",
      "[Parallel(n_jobs=-1)]: Done 280 tasks      | elapsed:  9.8min\n",
      "[Parallel(n_jobs=-1)]: Done 331 out of 331 | elapsed: 11.5min finished\n",
      "[Parallel(n_jobs=4)]: Using backend ThreadingBackend with 4 concurrent workers.\n",
      "[Parallel(n_jobs=4)]: Done  24 tasks      | elapsed:    0.4s\n",
      "[Parallel(n_jobs=4)]: Done 120 tasks      | elapsed:    2.1s\n",
      "[Parallel(n_jobs=4)]: Done 280 tasks      | elapsed:    4.9s\n",
      "[Parallel(n_jobs=4)]: Done 331 out of 331 | elapsed:    5.8s finished\n"
     ]
    },
    {
     "name": "stdout",
     "output_type": "stream",
     "text": [
      "[CV] .................................... , score=0.626, total=11.6min\n",
      "[CV]  ................................................................\n"
     ]
    },
    {
     "name": "stderr",
     "output_type": "stream",
     "text": [
      "[Parallel(n_jobs=-1)]: Using backend LokyBackend with 4 concurrent workers.\n",
      "[Parallel(n_jobs=-1)]: Done  24 tasks      | elapsed:   51.7s\n",
      "[Parallel(n_jobs=-1)]: Done 120 tasks      | elapsed:  4.2min\n",
      "[Parallel(n_jobs=-1)]: Done 280 tasks      | elapsed:  9.8min\n",
      "[Parallel(n_jobs=-1)]: Done 331 out of 331 | elapsed: 11.6min finished\n",
      "[Parallel(n_jobs=4)]: Using backend ThreadingBackend with 4 concurrent workers.\n",
      "[Parallel(n_jobs=4)]: Done  24 tasks      | elapsed:    0.4s\n",
      "[Parallel(n_jobs=4)]: Done 120 tasks      | elapsed:    2.1s\n",
      "[Parallel(n_jobs=4)]: Done 280 tasks      | elapsed:    4.9s\n",
      "[Parallel(n_jobs=4)]: Done 331 out of 331 | elapsed:    5.8s finished\n"
     ]
    },
    {
     "name": "stdout",
     "output_type": "stream",
     "text": [
      "[CV] .................................... , score=0.640, total=11.7min\n",
      "[CV]  ................................................................\n"
     ]
    },
    {
     "name": "stderr",
     "output_type": "stream",
     "text": [
      "[Parallel(n_jobs=-1)]: Using backend LokyBackend with 4 concurrent workers.\n",
      "[Parallel(n_jobs=-1)]: Done  24 tasks      | elapsed:   51.0s\n",
      "[Parallel(n_jobs=-1)]: Done 120 tasks      | elapsed:  4.2min\n",
      "[Parallel(n_jobs=-1)]: Done 280 tasks      | elapsed:  9.8min\n",
      "[Parallel(n_jobs=-1)]: Done 331 out of 331 | elapsed: 11.5min finished\n",
      "[Parallel(n_jobs=4)]: Using backend ThreadingBackend with 4 concurrent workers.\n",
      "[Parallel(n_jobs=4)]: Done  24 tasks      | elapsed:    0.5s\n",
      "[Parallel(n_jobs=4)]: Done 120 tasks      | elapsed:    2.5s\n",
      "[Parallel(n_jobs=4)]: Done 280 tasks      | elapsed:    5.4s\n",
      "[Parallel(n_jobs=4)]: Done 331 out of 331 | elapsed:    6.3s finished\n"
     ]
    },
    {
     "name": "stdout",
     "output_type": "stream",
     "text": [
      "[CV] .................................... , score=0.638, total=11.6min\n",
      "| \u001b[0m 11      \u001b[0m | \u001b[0m 0.6261  \u001b[0m | \u001b[0m 49.71   \u001b[0m | \u001b[0m 9.508   \u001b[0m | \u001b[0m 2.914   \u001b[0m | \u001b[0m 331.2   \u001b[0m |\n"
     ]
    },
    {
     "name": "stderr",
     "output_type": "stream",
     "text": [
      "[Parallel(n_jobs=1)]: Done   5 out of   5 | elapsed: 58.3min finished\n",
      "[Parallel(n_jobs=1)]: Using backend SequentialBackend with 1 concurrent workers.\n",
      "[Parallel(n_jobs=-1)]: Using backend LokyBackend with 4 concurrent workers.\n"
     ]
    },
    {
     "name": "stdout",
     "output_type": "stream",
     "text": [
      "[CV]  ................................................................\n"
     ]
    },
    {
     "name": "stderr",
     "output_type": "stream",
     "text": [
      "[Parallel(n_jobs=-1)]: Done  24 tasks      | elapsed:  1.0min\n",
      "[Parallel(n_jobs=-1)]: Done 120 tasks      | elapsed:  5.1min\n",
      "[Parallel(n_jobs=-1)]: Done 181 out of 181 | elapsed:  7.8min finished\n",
      "[Parallel(n_jobs=4)]: Using backend ThreadingBackend with 4 concurrent workers.\n",
      "[Parallel(n_jobs=4)]: Done  24 tasks      | elapsed:    0.4s\n",
      "[Parallel(n_jobs=4)]: Done 120 tasks      | elapsed:    2.1s\n",
      "[Parallel(n_jobs=4)]: Done 181 out of 181 | elapsed:    3.1s finished\n"
     ]
    },
    {
     "name": "stdout",
     "output_type": "stream",
     "text": [
      "[CV] .................................... , score=0.607, total= 7.8min\n",
      "[CV]  ................................................................\n"
     ]
    },
    {
     "name": "stderr",
     "output_type": "stream",
     "text": [
      "[Parallel(n_jobs=1)]: Done   1 out of   1 | elapsed:  7.8min remaining:    0.0s\n",
      "[Parallel(n_jobs=-1)]: Using backend LokyBackend with 4 concurrent workers.\n",
      "[Parallel(n_jobs=-1)]: Done  24 tasks      | elapsed:  1.0min\n",
      "[Parallel(n_jobs=-1)]: Done 120 tasks      | elapsed:  5.2min\n",
      "[Parallel(n_jobs=-1)]: Done 181 out of 181 | elapsed:  7.8min finished\n",
      "[Parallel(n_jobs=4)]: Using backend ThreadingBackend with 4 concurrent workers.\n",
      "[Parallel(n_jobs=4)]: Done  24 tasks      | elapsed:    0.5s\n",
      "[Parallel(n_jobs=4)]: Done 120 tasks      | elapsed:    2.1s\n",
      "[Parallel(n_jobs=4)]: Done 181 out of 181 | elapsed:    3.2s finished\n"
     ]
    },
    {
     "name": "stdout",
     "output_type": "stream",
     "text": [
      "[CV] .................................... , score=0.606, total= 7.9min\n",
      "[CV]  ................................................................\n"
     ]
    },
    {
     "name": "stderr",
     "output_type": "stream",
     "text": [
      "[Parallel(n_jobs=1)]: Done   2 out of   2 | elapsed: 15.7min remaining:    0.0s\n",
      "[Parallel(n_jobs=-1)]: Using backend LokyBackend with 4 concurrent workers.\n",
      "[Parallel(n_jobs=-1)]: Done  24 tasks      | elapsed:  1.1min\n",
      "[Parallel(n_jobs=-1)]: Done 120 tasks      | elapsed:  5.2min\n",
      "[Parallel(n_jobs=-1)]: Done 181 out of 181 | elapsed:  7.9min finished\n",
      "[Parallel(n_jobs=4)]: Using backend ThreadingBackend with 4 concurrent workers.\n",
      "[Parallel(n_jobs=4)]: Done  24 tasks      | elapsed:    0.4s\n",
      "[Parallel(n_jobs=4)]: Done 120 tasks      | elapsed:    2.1s\n",
      "[Parallel(n_jobs=4)]: Done 181 out of 181 | elapsed:    3.2s finished\n"
     ]
    },
    {
     "name": "stdout",
     "output_type": "stream",
     "text": [
      "[CV] .................................... , score=0.610, total= 7.9min\n",
      "[CV]  ................................................................\n"
     ]
    },
    {
     "name": "stderr",
     "output_type": "stream",
     "text": [
      "[Parallel(n_jobs=-1)]: Using backend LokyBackend with 4 concurrent workers.\n",
      "[Parallel(n_jobs=-1)]: Done  24 tasks      | elapsed:  1.0min\n",
      "[Parallel(n_jobs=-1)]: Done 120 tasks      | elapsed:  5.2min\n",
      "[Parallel(n_jobs=-1)]: Done 181 out of 181 | elapsed:  7.8min finished\n",
      "[Parallel(n_jobs=4)]: Using backend ThreadingBackend with 4 concurrent workers.\n",
      "[Parallel(n_jobs=4)]: Done  24 tasks      | elapsed:    0.4s\n",
      "[Parallel(n_jobs=4)]: Done 120 tasks      | elapsed:    2.1s\n",
      "[Parallel(n_jobs=4)]: Done 181 out of 181 | elapsed:    3.2s finished\n"
     ]
    },
    {
     "name": "stdout",
     "output_type": "stream",
     "text": [
      "[CV] .................................... , score=0.614, total= 7.9min\n",
      "[CV]  ................................................................\n"
     ]
    },
    {
     "name": "stderr",
     "output_type": "stream",
     "text": [
      "[Parallel(n_jobs=-1)]: Using backend LokyBackend with 4 concurrent workers.\n",
      "[Parallel(n_jobs=-1)]: Done  24 tasks      | elapsed:  1.1min\n",
      "[Parallel(n_jobs=-1)]: Done 120 tasks      | elapsed:  5.2min\n",
      "[Parallel(n_jobs=-1)]: Done 181 out of 181 | elapsed:  7.9min finished\n",
      "[Parallel(n_jobs=4)]: Using backend ThreadingBackend with 4 concurrent workers.\n",
      "[Parallel(n_jobs=4)]: Done  24 tasks      | elapsed:    0.5s\n",
      "[Parallel(n_jobs=4)]: Done 120 tasks      | elapsed:    2.2s\n",
      "[Parallel(n_jobs=4)]: Done 181 out of 181 | elapsed:    3.2s finished\n"
     ]
    },
    {
     "name": "stdout",
     "output_type": "stream",
     "text": [
      "[CV] .................................... , score=0.622, total= 7.9min\n",
      "| \u001b[0m 12      \u001b[0m | \u001b[0m 0.6121  \u001b[0m | \u001b[0m 49.48   \u001b[0m | \u001b[0m 2.051   \u001b[0m | \u001b[0m 2.331   \u001b[0m | \u001b[0m 181.7   \u001b[0m |\n"
     ]
    },
    {
     "name": "stderr",
     "output_type": "stream",
     "text": [
      "[Parallel(n_jobs=1)]: Done   5 out of   5 | elapsed: 39.5min finished\n",
      "[Parallel(n_jobs=1)]: Using backend SequentialBackend with 1 concurrent workers.\n"
     ]
    },
    {
     "name": "stdout",
     "output_type": "stream",
     "text": [
      "[CV]  ................................................................\n"
     ]
    },
    {
     "name": "stderr",
     "output_type": "stream",
     "text": [
      "[Parallel(n_jobs=-1)]: Using backend LokyBackend with 4 concurrent workers.\n",
      "[Parallel(n_jobs=-1)]: Done  24 tasks      | elapsed:  9.0min\n",
      "[Parallel(n_jobs=-1)]: Done 120 tasks      | elapsed: 13.1min\n",
      "[Parallel(n_jobs=-1)]: Done 280 tasks      | elapsed: 21.8min\n",
      "[Parallel(n_jobs=-1)]: Done 435 out of 435 | elapsed: 29.5min finished\n",
      "[Parallel(n_jobs=4)]: Using backend ThreadingBackend with 4 concurrent workers.\n",
      "[Parallel(n_jobs=4)]: Done  24 tasks      | elapsed:    0.5s\n",
      "[Parallel(n_jobs=4)]: Done 120 tasks      | elapsed:    2.3s\n",
      "[Parallel(n_jobs=4)]: Done 280 tasks      | elapsed:    5.1s\n",
      "[Parallel(n_jobs=4)]: Done 435 out of 435 | elapsed:    7.8s finished\n"
     ]
    },
    {
     "name": "stdout",
     "output_type": "stream",
     "text": [
      "[CV] .................................... , score=0.615, total=29.7min\n",
      "[CV]  ................................................................\n"
     ]
    },
    {
     "name": "stderr",
     "output_type": "stream",
     "text": [
      "[Parallel(n_jobs=1)]: Done   1 out of   1 | elapsed: 29.7min remaining:    0.0s\n",
      "[Parallel(n_jobs=-1)]: Using backend LokyBackend with 4 concurrent workers.\n",
      "[Parallel(n_jobs=-1)]: Done  24 tasks      | elapsed:   50.1s\n",
      "[Parallel(n_jobs=-1)]: Done 120 tasks      | elapsed:  4.2min\n",
      "[Parallel(n_jobs=-1)]: Done 280 tasks      | elapsed:  9.8min\n",
      "[Parallel(n_jobs=-1)]: Done 435 out of 435 | elapsed: 15.1min finished\n",
      "[Parallel(n_jobs=4)]: Using backend ThreadingBackend with 4 concurrent workers.\n",
      "[Parallel(n_jobs=4)]: Done  24 tasks      | elapsed:    0.5s\n",
      "[Parallel(n_jobs=4)]: Done 120 tasks      | elapsed:    2.1s\n",
      "[Parallel(n_jobs=4)]: Done 280 tasks      | elapsed:    4.9s\n",
      "[Parallel(n_jobs=4)]: Done 435 out of 435 | elapsed:    7.5s finished\n"
     ]
    },
    {
     "name": "stdout",
     "output_type": "stream",
     "text": [
      "[CV] .................................... , score=0.614, total=15.2min\n",
      "[CV]  ................................................................\n"
     ]
    },
    {
     "name": "stderr",
     "output_type": "stream",
     "text": [
      "[Parallel(n_jobs=1)]: Done   2 out of   2 | elapsed: 44.9min remaining:    0.0s\n",
      "[Parallel(n_jobs=-1)]: Using backend LokyBackend with 4 concurrent workers.\n",
      "[Parallel(n_jobs=-1)]: Done  24 tasks      | elapsed:   50.2s\n",
      "[Parallel(n_jobs=-1)]: Done 120 tasks      | elapsed:  4.2min\n",
      "[Parallel(n_jobs=-1)]: Done 280 tasks      | elapsed:  9.7min\n",
      "[Parallel(n_jobs=-1)]: Done 435 out of 435 | elapsed: 14.9min finished\n",
      "[Parallel(n_jobs=4)]: Using backend ThreadingBackend with 4 concurrent workers.\n",
      "[Parallel(n_jobs=4)]: Done  24 tasks      | elapsed:    0.5s\n",
      "[Parallel(n_jobs=4)]: Done 120 tasks      | elapsed:    2.1s\n",
      "[Parallel(n_jobs=4)]: Done 280 tasks      | elapsed:    4.9s\n",
      "[Parallel(n_jobs=4)]: Done 435 out of 435 | elapsed:    7.6s finished\n"
     ]
    },
    {
     "name": "stdout",
     "output_type": "stream",
     "text": [
      "[CV] .................................... , score=0.629, total=15.0min\n",
      "[CV]  ................................................................\n"
     ]
    },
    {
     "name": "stderr",
     "output_type": "stream",
     "text": [
      "[Parallel(n_jobs=-1)]: Using backend LokyBackend with 4 concurrent workers.\n",
      "[Parallel(n_jobs=-1)]: Done  24 tasks      | elapsed:   50.3s\n",
      "[Parallel(n_jobs=-1)]: Done 120 tasks      | elapsed:  4.2min\n",
      "[Parallel(n_jobs=-1)]: Done 280 tasks      | elapsed:  9.7min\n",
      "[Parallel(n_jobs=-1)]: Done 435 out of 435 | elapsed: 15.0min finished\n",
      "[Parallel(n_jobs=4)]: Using backend ThreadingBackend with 4 concurrent workers.\n",
      "[Parallel(n_jobs=4)]: Done  24 tasks      | elapsed:    0.5s\n",
      "[Parallel(n_jobs=4)]: Done 120 tasks      | elapsed:    2.1s\n",
      "[Parallel(n_jobs=4)]: Done 280 tasks      | elapsed:    4.9s\n",
      "[Parallel(n_jobs=4)]: Done 435 out of 435 | elapsed:    7.6s finished\n"
     ]
    },
    {
     "name": "stdout",
     "output_type": "stream",
     "text": [
      "[CV] .................................... , score=0.639, total=15.2min\n",
      "[CV]  ................................................................\n"
     ]
    },
    {
     "name": "stderr",
     "output_type": "stream",
     "text": [
      "[Parallel(n_jobs=-1)]: Using backend LokyBackend with 4 concurrent workers.\n",
      "[Parallel(n_jobs=-1)]: Done  24 tasks      | elapsed:   50.3s\n",
      "[Parallel(n_jobs=-1)]: Done 120 tasks      | elapsed:  4.1min\n",
      "[Parallel(n_jobs=-1)]: Done 280 tasks      | elapsed:  9.6min\n",
      "[Parallel(n_jobs=-1)]: Done 435 out of 435 | elapsed: 14.9min finished\n",
      "[Parallel(n_jobs=4)]: Using backend ThreadingBackend with 4 concurrent workers.\n",
      "[Parallel(n_jobs=4)]: Done  24 tasks      | elapsed:    0.5s\n",
      "[Parallel(n_jobs=4)]: Done 120 tasks      | elapsed:    2.1s\n",
      "[Parallel(n_jobs=4)]: Done 280 tasks      | elapsed:    5.1s\n",
      "[Parallel(n_jobs=4)]: Done 435 out of 435 | elapsed:    7.8s finished\n"
     ]
    },
    {
     "name": "stdout",
     "output_type": "stream",
     "text": [
      "[CV] .................................... , score=0.642, total=15.0min\n",
      "| \u001b[0m 13      \u001b[0m | \u001b[0m 0.6276  \u001b[0m | \u001b[0m 48.04   \u001b[0m | \u001b[0m 9.987   \u001b[0m | \u001b[0m 3.59    \u001b[0m | \u001b[0m 435.8   \u001b[0m |\n"
     ]
    },
    {
     "name": "stderr",
     "output_type": "stream",
     "text": [
      "[Parallel(n_jobs=1)]: Done   5 out of   5 | elapsed: 90.1min finished\n",
      "[Parallel(n_jobs=1)]: Using backend SequentialBackend with 1 concurrent workers.\n",
      "[Parallel(n_jobs=-1)]: Using backend LokyBackend with 4 concurrent workers.\n"
     ]
    },
    {
     "name": "stdout",
     "output_type": "stream",
     "text": [
      "[CV]  ................................................................\n"
     ]
    },
    {
     "name": "stderr",
     "output_type": "stream",
     "text": [
      "[Parallel(n_jobs=-1)]: Done  24 tasks      | elapsed:   48.9s\n",
      "[Parallel(n_jobs=-1)]: Done 120 tasks      | elapsed:  4.0min\n",
      "[Parallel(n_jobs=-1)]: Done 147 out of 147 | elapsed:  4.8min finished\n",
      "[Parallel(n_jobs=4)]: Using backend ThreadingBackend with 4 concurrent workers.\n",
      "[Parallel(n_jobs=4)]: Done  24 tasks      | elapsed:    0.4s\n",
      "[Parallel(n_jobs=4)]: Done 120 tasks      | elapsed:    2.1s\n",
      "[Parallel(n_jobs=4)]: Done 147 out of 147 | elapsed:    2.5s finished\n"
     ]
    },
    {
     "name": "stdout",
     "output_type": "stream",
     "text": [
      "[CV] .................................... , score=0.612, total= 4.9min\n",
      "[CV]  ................................................................\n"
     ]
    },
    {
     "name": "stderr",
     "output_type": "stream",
     "text": [
      "[Parallel(n_jobs=1)]: Done   1 out of   1 | elapsed:  4.9min remaining:    0.0s\n",
      "[Parallel(n_jobs=-1)]: Using backend LokyBackend with 4 concurrent workers.\n",
      "[Parallel(n_jobs=-1)]: Done  24 tasks      | elapsed:   47.5s\n",
      "[Parallel(n_jobs=-1)]: Done 120 tasks      | elapsed:  4.0min\n",
      "[Parallel(n_jobs=-1)]: Done 147 out of 147 | elapsed:  4.8min finished\n",
      "[Parallel(n_jobs=4)]: Using backend ThreadingBackend with 4 concurrent workers.\n",
      "[Parallel(n_jobs=4)]: Done  24 tasks      | elapsed:    0.4s\n",
      "[Parallel(n_jobs=4)]: Done 120 tasks      | elapsed:    2.1s\n",
      "[Parallel(n_jobs=4)]: Done 147 out of 147 | elapsed:    2.5s finished\n"
     ]
    },
    {
     "name": "stdout",
     "output_type": "stream",
     "text": [
      "[CV] .................................... , score=0.602, total= 4.9min\n",
      "[CV]  ................................................................\n"
     ]
    },
    {
     "name": "stderr",
     "output_type": "stream",
     "text": [
      "[Parallel(n_jobs=1)]: Done   2 out of   2 | elapsed:  9.8min remaining:    0.0s\n",
      "[Parallel(n_jobs=-1)]: Using backend LokyBackend with 4 concurrent workers.\n",
      "[Parallel(n_jobs=-1)]: Done  24 tasks      | elapsed:   49.1s\n",
      "[Parallel(n_jobs=-1)]: Done 120 tasks      | elapsed:  4.0min\n",
      "[Parallel(n_jobs=-1)]: Done 147 out of 147 | elapsed:  4.8min finished\n",
      "[Parallel(n_jobs=4)]: Using backend ThreadingBackend with 4 concurrent workers.\n",
      "[Parallel(n_jobs=4)]: Done  24 tasks      | elapsed:    0.5s\n",
      "[Parallel(n_jobs=4)]: Done 120 tasks      | elapsed:    2.1s\n",
      "[Parallel(n_jobs=4)]: Done 147 out of 147 | elapsed:    2.6s finished\n"
     ]
    },
    {
     "name": "stdout",
     "output_type": "stream",
     "text": [
      "[CV] .................................... , score=0.625, total= 4.9min\n",
      "[CV]  ................................................................\n"
     ]
    },
    {
     "name": "stderr",
     "output_type": "stream",
     "text": [
      "[Parallel(n_jobs=-1)]: Using backend LokyBackend with 4 concurrent workers.\n",
      "[Parallel(n_jobs=-1)]: Done  24 tasks      | elapsed:   47.7s\n",
      "[Parallel(n_jobs=-1)]: Done 120 tasks      | elapsed:  4.0min\n",
      "[Parallel(n_jobs=-1)]: Done 147 out of 147 | elapsed:  4.9min finished\n",
      "[Parallel(n_jobs=4)]: Using backend ThreadingBackend with 4 concurrent workers.\n",
      "[Parallel(n_jobs=4)]: Done  24 tasks      | elapsed:    0.4s\n",
      "[Parallel(n_jobs=4)]: Done 120 tasks      | elapsed:    2.1s\n",
      "[Parallel(n_jobs=4)]: Done 147 out of 147 | elapsed:    2.5s finished\n"
     ]
    },
    {
     "name": "stdout",
     "output_type": "stream",
     "text": [
      "[CV] .................................... , score=0.634, total= 4.9min\n",
      "[CV]  ................................................................\n"
     ]
    },
    {
     "name": "stderr",
     "output_type": "stream",
     "text": [
      "[Parallel(n_jobs=-1)]: Using backend LokyBackend with 4 concurrent workers.\n",
      "[Parallel(n_jobs=-1)]: Done  24 tasks      | elapsed:   47.9s\n",
      "[Parallel(n_jobs=-1)]: Done 120 tasks      | elapsed:  4.0min\n",
      "[Parallel(n_jobs=-1)]: Done 147 out of 147 | elapsed:  4.8min finished\n",
      "[Parallel(n_jobs=4)]: Using backend ThreadingBackend with 4 concurrent workers.\n",
      "[Parallel(n_jobs=4)]: Done  24 tasks      | elapsed:    0.5s\n",
      "[Parallel(n_jobs=4)]: Done 120 tasks      | elapsed:    2.1s\n",
      "[Parallel(n_jobs=4)]: Done 147 out of 147 | elapsed:    2.6s finished\n"
     ]
    },
    {
     "name": "stdout",
     "output_type": "stream",
     "text": [
      "[CV] .................................... , score=0.635, total= 4.8min\n",
      "| \u001b[0m 14      \u001b[0m | \u001b[0m 0.6218  \u001b[0m | \u001b[0m 45.76   \u001b[0m | \u001b[0m 9.941   \u001b[0m | \u001b[0m 9.746   \u001b[0m | \u001b[0m 147.5   \u001b[0m |\n"
     ]
    },
    {
     "name": "stderr",
     "output_type": "stream",
     "text": [
      "[Parallel(n_jobs=1)]: Done   5 out of   5 | elapsed: 24.4min finished\n",
      "[Parallel(n_jobs=1)]: Using backend SequentialBackend with 1 concurrent workers.\n",
      "[Parallel(n_jobs=-1)]: Using backend LokyBackend with 4 concurrent workers.\n"
     ]
    },
    {
     "name": "stdout",
     "output_type": "stream",
     "text": [
      "[CV]  ................................................................\n"
     ]
    },
    {
     "name": "stderr",
     "output_type": "stream",
     "text": [
      "[Parallel(n_jobs=-1)]: Done  24 tasks      | elapsed:   10.5s\n",
      "[Parallel(n_jobs=-1)]: Done 101 out of 101 | elapsed:   43.8s finished\n",
      "[Parallel(n_jobs=4)]: Using backend ThreadingBackend with 4 concurrent workers.\n",
      "[Parallel(n_jobs=4)]: Done  24 tasks      | elapsed:    0.4s\n",
      "[Parallel(n_jobs=4)]: Done 101 out of 101 | elapsed:    1.7s finished\n"
     ]
    },
    {
     "name": "stdout",
     "output_type": "stream",
     "text": [
      "[CV] .................................... , score=0.604, total=  46.2s\n",
      "[CV]  ................................................................\n"
     ]
    },
    {
     "name": "stderr",
     "output_type": "stream",
     "text": [
      "[Parallel(n_jobs=1)]: Done   1 out of   1 | elapsed:   46.3s remaining:    0.0s\n",
      "[Parallel(n_jobs=-1)]: Using backend LokyBackend with 4 concurrent workers.\n",
      "[Parallel(n_jobs=-1)]: Done  24 tasks      | elapsed:   10.5s\n",
      "[Parallel(n_jobs=-1)]: Done 101 out of 101 | elapsed:   44.2s finished\n",
      "[Parallel(n_jobs=4)]: Using backend ThreadingBackend with 4 concurrent workers.\n",
      "[Parallel(n_jobs=4)]: Done  24 tasks      | elapsed:    0.4s\n",
      "[Parallel(n_jobs=4)]: Done 101 out of 101 | elapsed:    1.7s finished\n"
     ]
    },
    {
     "name": "stdout",
     "output_type": "stream",
     "text": [
      "[CV] .................................... , score=0.598, total=  46.6s\n",
      "[CV]  ................................................................\n"
     ]
    },
    {
     "name": "stderr",
     "output_type": "stream",
     "text": [
      "[Parallel(n_jobs=1)]: Done   2 out of   2 | elapsed:  1.5min remaining:    0.0s\n",
      "[Parallel(n_jobs=-1)]: Using backend LokyBackend with 4 concurrent workers.\n",
      "[Parallel(n_jobs=-1)]: Done  24 tasks      | elapsed:   10.5s\n",
      "[Parallel(n_jobs=-1)]: Done 101 out of 101 | elapsed:   44.0s finished\n",
      "[Parallel(n_jobs=4)]: Using backend ThreadingBackend with 4 concurrent workers.\n",
      "[Parallel(n_jobs=4)]: Done  24 tasks      | elapsed:    0.4s\n",
      "[Parallel(n_jobs=4)]: Done 101 out of 101 | elapsed:    1.7s finished\n"
     ]
    },
    {
     "name": "stdout",
     "output_type": "stream",
     "text": [
      "[CV] .................................... , score=0.611, total=  46.4s\n",
      "[CV]  ................................................................\n"
     ]
    },
    {
     "name": "stderr",
     "output_type": "stream",
     "text": [
      "[Parallel(n_jobs=-1)]: Using backend LokyBackend with 4 concurrent workers.\n",
      "[Parallel(n_jobs=-1)]: Done  24 tasks      | elapsed:   10.6s\n",
      "[Parallel(n_jobs=-1)]: Done 101 out of 101 | elapsed:   44.1s finished\n",
      "[Parallel(n_jobs=4)]: Using backend ThreadingBackend with 4 concurrent workers.\n",
      "[Parallel(n_jobs=4)]: Done  24 tasks      | elapsed:    0.4s\n",
      "[Parallel(n_jobs=4)]: Done 101 out of 101 | elapsed:    1.7s finished\n"
     ]
    },
    {
     "name": "stdout",
     "output_type": "stream",
     "text": [
      "[CV] .................................... , score=0.619, total=  46.5s\n",
      "[CV]  ................................................................\n"
     ]
    },
    {
     "name": "stderr",
     "output_type": "stream",
     "text": [
      "[Parallel(n_jobs=-1)]: Using backend LokyBackend with 4 concurrent workers.\n",
      "[Parallel(n_jobs=-1)]: Done  24 tasks      | elapsed:   10.5s\n",
      "[Parallel(n_jobs=-1)]: Done 101 out of 101 | elapsed:   44.1s finished\n",
      "[Parallel(n_jobs=4)]: Using backend ThreadingBackend with 4 concurrent workers.\n",
      "[Parallel(n_jobs=4)]: Done  24 tasks      | elapsed:    0.4s\n",
      "[Parallel(n_jobs=4)]: Done 101 out of 101 | elapsed:    1.7s finished\n"
     ]
    },
    {
     "name": "stdout",
     "output_type": "stream",
     "text": [
      "[CV] .................................... , score=0.618, total=  46.5s\n",
      "| \u001b[0m 15      \u001b[0m | \u001b[0m 0.6102  \u001b[0m | \u001b[0m 7.908   \u001b[0m | \u001b[0m 9.406   \u001b[0m | \u001b[0m 7.272   \u001b[0m | \u001b[0m 101.0   \u001b[0m |\n"
     ]
    },
    {
     "name": "stderr",
     "output_type": "stream",
     "text": [
      "[Parallel(n_jobs=1)]: Done   5 out of   5 | elapsed:  3.9min finished\n",
      "[Parallel(n_jobs=1)]: Using backend SequentialBackend with 1 concurrent workers.\n"
     ]
    },
    {
     "name": "stdout",
     "output_type": "stream",
     "text": [
      "[CV]  ................................................................\n"
     ]
    },
    {
     "name": "stderr",
     "output_type": "stream",
     "text": [
      "[Parallel(n_jobs=-1)]: Using backend LokyBackend with 4 concurrent workers.\n",
      "[Parallel(n_jobs=-1)]: Done  24 tasks      | elapsed:   52.4s\n",
      "[Parallel(n_jobs=-1)]: Done 120 tasks      | elapsed:  4.2min\n",
      "[Parallel(n_jobs=-1)]: Done 280 tasks      | elapsed: 11.4min\n",
      "[Parallel(n_jobs=-1)]: Done 385 out of 385 | elapsed: 15.8min finished\n",
      "[Parallel(n_jobs=4)]: Using backend ThreadingBackend with 4 concurrent workers.\n",
      "[Parallel(n_jobs=4)]: Done  24 tasks      | elapsed:    0.5s\n",
      "[Parallel(n_jobs=4)]: Done 120 tasks      | elapsed:    2.3s\n",
      "[Parallel(n_jobs=4)]: Done 280 tasks      | elapsed:    5.1s\n",
      "[Parallel(n_jobs=4)]: Done 385 out of 385 | elapsed:    6.9s finished\n"
     ]
    },
    {
     "name": "stdout",
     "output_type": "stream",
     "text": [
      "[CV] .................................... , score=0.616, total=15.9min\n",
      "[CV]  ................................................................\n"
     ]
    },
    {
     "name": "stderr",
     "output_type": "stream",
     "text": [
      "[Parallel(n_jobs=1)]: Done   1 out of   1 | elapsed: 15.9min remaining:    0.0s\n",
      "[Parallel(n_jobs=-1)]: Using backend LokyBackend with 4 concurrent workers.\n",
      "[Parallel(n_jobs=-1)]: Done  24 tasks      | elapsed:   50.3s\n",
      "[Parallel(n_jobs=-1)]: Done 120 tasks      | elapsed:  4.2min\n",
      "[Parallel(n_jobs=-1)]: Done 280 tasks      | elapsed:  9.9min\n",
      "[Parallel(n_jobs=-1)]: Done 385 out of 385 | elapsed: 13.5min finished\n",
      "[Parallel(n_jobs=4)]: Using backend ThreadingBackend with 4 concurrent workers.\n",
      "[Parallel(n_jobs=4)]: Done  24 tasks      | elapsed:    0.4s\n",
      "[Parallel(n_jobs=4)]: Done 120 tasks      | elapsed:    2.1s\n",
      "[Parallel(n_jobs=4)]: Done 280 tasks      | elapsed:    4.9s\n",
      "[Parallel(n_jobs=4)]: Done 385 out of 385 | elapsed:    6.7s finished\n"
     ]
    },
    {
     "name": "stdout",
     "output_type": "stream",
     "text": [
      "[CV] .................................... , score=0.611, total=13.6min\n",
      "[CV]  ................................................................\n"
     ]
    },
    {
     "name": "stderr",
     "output_type": "stream",
     "text": [
      "[Parallel(n_jobs=1)]: Done   2 out of   2 | elapsed: 29.6min remaining:    0.0s\n",
      "[Parallel(n_jobs=-1)]: Using backend LokyBackend with 4 concurrent workers.\n",
      "[Parallel(n_jobs=-1)]: Done  24 tasks      | elapsed:   53.6s\n",
      "[Parallel(n_jobs=-1)]: Done 120 tasks      | elapsed:  4.9min\n",
      "[Parallel(n_jobs=-1)]: Done 280 tasks      | elapsed: 11.6min\n",
      "[Parallel(n_jobs=-1)]: Done 385 out of 385 | elapsed: 15.2min finished\n",
      "[Parallel(n_jobs=4)]: Using backend ThreadingBackend with 4 concurrent workers.\n",
      "[Parallel(n_jobs=4)]: Done  24 tasks      | elapsed:    0.6s\n",
      "[Parallel(n_jobs=4)]: Done 120 tasks      | elapsed:    2.4s\n",
      "[Parallel(n_jobs=4)]: Done 280 tasks      | elapsed:    5.4s\n",
      "[Parallel(n_jobs=4)]: Done 385 out of 385 | elapsed:    7.3s finished\n"
     ]
    },
    {
     "name": "stdout",
     "output_type": "stream",
     "text": [
      "[CV] .................................... , score=0.624, total=15.3min\n",
      "[CV]  ................................................................\n"
     ]
    },
    {
     "name": "stderr",
     "output_type": "stream",
     "text": [
      "[Parallel(n_jobs=-1)]: Using backend LokyBackend with 4 concurrent workers.\n",
      "[Parallel(n_jobs=-1)]: Done  24 tasks      | elapsed:   52.2s\n",
      "[Parallel(n_jobs=-1)]: Done 120 tasks      | elapsed:  4.9min\n",
      "[Parallel(n_jobs=-1)]: Done 280 tasks      | elapsed: 11.3min\n",
      "[Parallel(n_jobs=-1)]: Done 385 out of 385 | elapsed: 14.9min finished\n",
      "[Parallel(n_jobs=4)]: Using backend ThreadingBackend with 4 concurrent workers.\n",
      "[Parallel(n_jobs=4)]: Done  24 tasks      | elapsed:    0.5s\n",
      "[Parallel(n_jobs=4)]: Done 120 tasks      | elapsed:    2.4s\n",
      "[Parallel(n_jobs=4)]: Done 280 tasks      | elapsed:    5.3s\n",
      "[Parallel(n_jobs=4)]: Done 385 out of 385 | elapsed:    7.0s finished\n"
     ]
    },
    {
     "name": "stdout",
     "output_type": "stream",
     "text": [
      "[CV] .................................... , score=0.641, total=15.0min\n",
      "[CV]  ................................................................\n"
     ]
    },
    {
     "name": "stderr",
     "output_type": "stream",
     "text": [
      "[Parallel(n_jobs=-1)]: Using backend LokyBackend with 4 concurrent workers.\n",
      "[Parallel(n_jobs=-1)]: Done  24 tasks      | elapsed:   52.1s\n",
      "[Parallel(n_jobs=-1)]: Done 120 tasks      | elapsed:  4.3min\n",
      "[Parallel(n_jobs=-1)]: Done 280 tasks      | elapsed:  9.9min\n",
      "[Parallel(n_jobs=-1)]: Done 385 out of 385 | elapsed: 13.5min finished\n",
      "[Parallel(n_jobs=4)]: Using backend ThreadingBackend with 4 concurrent workers.\n",
      "[Parallel(n_jobs=4)]: Done  24 tasks      | elapsed:    0.4s\n",
      "[Parallel(n_jobs=4)]: Done 120 tasks      | elapsed:    2.1s\n",
      "[Parallel(n_jobs=4)]: Done 280 tasks      | elapsed:    4.9s\n",
      "[Parallel(n_jobs=4)]: Done 385 out of 385 | elapsed:    6.7s finished\n"
     ]
    },
    {
     "name": "stdout",
     "output_type": "stream",
     "text": [
      "[CV] .................................... , score=0.639, total=13.6min\n",
      "| \u001b[0m 16      \u001b[0m | \u001b[0m 0.6263  \u001b[0m | \u001b[0m 49.45   \u001b[0m | \u001b[0m 9.994   \u001b[0m | \u001b[0m 2.951   \u001b[0m | \u001b[0m 385.5   \u001b[0m |\n"
     ]
    },
    {
     "name": "stderr",
     "output_type": "stream",
     "text": [
      "[Parallel(n_jobs=1)]: Done   5 out of   5 | elapsed: 73.6min finished\n",
      "[Parallel(n_jobs=1)]: Using backend SequentialBackend with 1 concurrent workers.\n",
      "[Parallel(n_jobs=-1)]: Using backend LokyBackend with 4 concurrent workers.\n"
     ]
    },
    {
     "name": "stdout",
     "output_type": "stream",
     "text": [
      "[CV]  ................................................................\n"
     ]
    },
    {
     "name": "stderr",
     "output_type": "stream",
     "text": [
      "[Parallel(n_jobs=-1)]: Done  24 tasks      | elapsed:   48.0s\n",
      "[Parallel(n_jobs=-1)]: Done 120 tasks      | elapsed:  3.9min\n",
      "[Parallel(n_jobs=-1)]: Done 174 out of 174 | elapsed:  5.5min finished\n",
      "[Parallel(n_jobs=4)]: Using backend ThreadingBackend with 4 concurrent workers.\n",
      "[Parallel(n_jobs=4)]: Done  24 tasks      | elapsed:    0.4s\n",
      "[Parallel(n_jobs=4)]: Done 120 tasks      | elapsed:    2.1s\n",
      "[Parallel(n_jobs=4)]: Done 174 out of 174 | elapsed:    3.0s finished\n"
     ]
    },
    {
     "name": "stdout",
     "output_type": "stream",
     "text": [
      "[CV] .................................... , score=0.615, total= 5.6min\n",
      "[CV]  ................................................................\n"
     ]
    },
    {
     "name": "stderr",
     "output_type": "stream",
     "text": [
      "[Parallel(n_jobs=1)]: Done   1 out of   1 | elapsed:  5.6min remaining:    0.0s\n",
      "[Parallel(n_jobs=-1)]: Using backend LokyBackend with 4 concurrent workers.\n",
      "[Parallel(n_jobs=-1)]: Done  24 tasks      | elapsed:   46.3s\n",
      "[Parallel(n_jobs=-1)]: Done 120 tasks      | elapsed:  3.8min\n",
      "[Parallel(n_jobs=-1)]: Done 174 out of 174 | elapsed:  5.6min finished\n",
      "[Parallel(n_jobs=4)]: Using backend ThreadingBackend with 4 concurrent workers.\n",
      "[Parallel(n_jobs=4)]: Done  24 tasks      | elapsed:    0.5s\n",
      "[Parallel(n_jobs=4)]: Done 120 tasks      | elapsed:    2.1s\n",
      "[Parallel(n_jobs=4)]: Done 174 out of 174 | elapsed:    3.0s finished\n"
     ]
    },
    {
     "name": "stdout",
     "output_type": "stream",
     "text": [
      "[CV] .................................... , score=0.608, total= 5.7min\n",
      "[CV]  ................................................................\n"
     ]
    },
    {
     "name": "stderr",
     "output_type": "stream",
     "text": [
      "[Parallel(n_jobs=1)]: Done   2 out of   2 | elapsed: 11.3min remaining:    0.0s\n",
      "[Parallel(n_jobs=-1)]: Using backend LokyBackend with 4 concurrent workers.\n",
      "[Parallel(n_jobs=-1)]: Done  24 tasks      | elapsed:   47.3s\n",
      "[Parallel(n_jobs=-1)]: Done 120 tasks      | elapsed:  3.9min\n",
      "[Parallel(n_jobs=-1)]: Done 174 out of 174 | elapsed:  5.5min finished\n",
      "[Parallel(n_jobs=4)]: Using backend ThreadingBackend with 4 concurrent workers.\n",
      "[Parallel(n_jobs=4)]: Done  24 tasks      | elapsed:    0.4s\n",
      "[Parallel(n_jobs=4)]: Done 120 tasks      | elapsed:    2.1s\n",
      "[Parallel(n_jobs=4)]: Done 174 out of 174 | elapsed:    3.0s finished\n"
     ]
    },
    {
     "name": "stdout",
     "output_type": "stream",
     "text": [
      "[CV] .................................... , score=0.626, total= 5.6min\n",
      "[CV]  ................................................................\n"
     ]
    },
    {
     "name": "stderr",
     "output_type": "stream",
     "text": [
      "[Parallel(n_jobs=-1)]: Using backend LokyBackend with 4 concurrent workers.\n",
      "[Parallel(n_jobs=-1)]: Done  24 tasks      | elapsed:   46.9s\n",
      "[Parallel(n_jobs=-1)]: Done 120 tasks      | elapsed:  3.9min\n",
      "[Parallel(n_jobs=-1)]: Done 174 out of 174 | elapsed:  5.6min finished\n",
      "[Parallel(n_jobs=4)]: Using backend ThreadingBackend with 4 concurrent workers.\n",
      "[Parallel(n_jobs=4)]: Done  24 tasks      | elapsed:    0.4s\n",
      "[Parallel(n_jobs=4)]: Done 120 tasks      | elapsed:    2.1s\n",
      "[Parallel(n_jobs=4)]: Done 174 out of 174 | elapsed:    3.1s finished\n"
     ]
    },
    {
     "name": "stdout",
     "output_type": "stream",
     "text": [
      "[CV] .................................... , score=0.635, total= 5.6min\n",
      "[CV]  ................................................................\n"
     ]
    },
    {
     "name": "stderr",
     "output_type": "stream",
     "text": [
      "[Parallel(n_jobs=-1)]: Using backend LokyBackend with 4 concurrent workers.\n",
      "[Parallel(n_jobs=-1)]: Done  24 tasks      | elapsed:   47.1s\n",
      "[Parallel(n_jobs=-1)]: Done 120 tasks      | elapsed:  3.8min\n",
      "[Parallel(n_jobs=-1)]: Done 174 out of 174 | elapsed:  5.5min finished\n",
      "[Parallel(n_jobs=4)]: Using backend ThreadingBackend with 4 concurrent workers.\n",
      "[Parallel(n_jobs=4)]: Done  24 tasks      | elapsed:    0.5s\n",
      "[Parallel(n_jobs=4)]: Done 120 tasks      | elapsed:    2.1s\n",
      "[Parallel(n_jobs=4)]: Done 174 out of 174 | elapsed:    3.1s finished\n"
     ]
    },
    {
     "name": "stdout",
     "output_type": "stream",
     "text": [
      "[CV] .................................... , score=0.631, total= 5.6min\n",
      "| \u001b[0m 17      \u001b[0m | \u001b[0m 0.6229  \u001b[0m | \u001b[0m 43.24   \u001b[0m | \u001b[0m 9.9     \u001b[0m | \u001b[0m 2.284   \u001b[0m | \u001b[0m 174.3   \u001b[0m |\n"
     ]
    },
    {
     "name": "stderr",
     "output_type": "stream",
     "text": [
      "[Parallel(n_jobs=1)]: Done   5 out of   5 | elapsed: 28.1min finished\n",
      "[Parallel(n_jobs=1)]: Using backend SequentialBackend with 1 concurrent workers.\n",
      "[Parallel(n_jobs=-1)]: Using backend LokyBackend with 4 concurrent workers.\n"
     ]
    },
    {
     "name": "stdout",
     "output_type": "stream",
     "text": [
      "[CV]  ................................................................\n"
     ]
    },
    {
     "name": "stderr",
     "output_type": "stream",
     "text": [
      "[Parallel(n_jobs=-1)]: Done  24 tasks      | elapsed:   51.9s\n",
      "[Parallel(n_jobs=-1)]: Done 120 tasks      | elapsed:  4.3min\n",
      "[Parallel(n_jobs=-1)]: Done 230 out of 230 | elapsed:  8.0min finished\n",
      "[Parallel(n_jobs=4)]: Using backend ThreadingBackend with 4 concurrent workers.\n",
      "[Parallel(n_jobs=4)]: Done  24 tasks      | elapsed:    0.4s\n",
      "[Parallel(n_jobs=4)]: Done 120 tasks      | elapsed:    2.1s\n",
      "[Parallel(n_jobs=4)]: Done 230 out of 230 | elapsed:    4.0s finished\n"
     ]
    },
    {
     "name": "stdout",
     "output_type": "stream",
     "text": [
      "[CV] .................................... , score=0.614, total= 8.0min\n",
      "[CV]  ................................................................\n"
     ]
    },
    {
     "name": "stderr",
     "output_type": "stream",
     "text": [
      "[Parallel(n_jobs=1)]: Done   1 out of   1 | elapsed:  8.0min remaining:    0.0s\n",
      "[Parallel(n_jobs=-1)]: Using backend LokyBackend with 4 concurrent workers.\n",
      "[Parallel(n_jobs=-1)]: Done  24 tasks      | elapsed:   51.9s\n",
      "[Parallel(n_jobs=-1)]: Done 120 tasks      | elapsed:  4.2min\n",
      "[Parallel(n_jobs=-1)]: Done 230 out of 230 | elapsed:  8.0min finished\n",
      "[Parallel(n_jobs=4)]: Using backend ThreadingBackend with 4 concurrent workers.\n",
      "[Parallel(n_jobs=4)]: Done  24 tasks      | elapsed:    0.4s\n",
      "[Parallel(n_jobs=4)]: Done 120 tasks      | elapsed:    2.1s\n",
      "[Parallel(n_jobs=4)]: Done 230 out of 230 | elapsed:    4.0s finished\n"
     ]
    },
    {
     "name": "stdout",
     "output_type": "stream",
     "text": [
      "[CV] .................................... , score=0.608, total= 8.0min\n",
      "[CV]  ................................................................\n"
     ]
    },
    {
     "name": "stderr",
     "output_type": "stream",
     "text": [
      "[Parallel(n_jobs=1)]: Done   2 out of   2 | elapsed: 16.1min remaining:    0.0s\n",
      "[Parallel(n_jobs=-1)]: Using backend LokyBackend with 4 concurrent workers.\n",
      "[Parallel(n_jobs=-1)]: Done  24 tasks      | elapsed:   50.8s\n",
      "[Parallel(n_jobs=-1)]: Done 120 tasks      | elapsed:  4.2min\n",
      "[Parallel(n_jobs=-1)]: Done 230 out of 230 | elapsed:  7.9min finished\n",
      "[Parallel(n_jobs=4)]: Using backend ThreadingBackend with 4 concurrent workers.\n",
      "[Parallel(n_jobs=4)]: Done  24 tasks      | elapsed:    0.4s\n",
      "[Parallel(n_jobs=4)]: Done 120 tasks      | elapsed:    2.1s\n",
      "[Parallel(n_jobs=4)]: Done 230 out of 230 | elapsed:    4.0s finished\n"
     ]
    },
    {
     "name": "stdout",
     "output_type": "stream",
     "text": [
      "[CV] .................................... , score=0.627, total= 7.9min\n",
      "[CV]  ................................................................\n"
     ]
    },
    {
     "name": "stderr",
     "output_type": "stream",
     "text": [
      "[Parallel(n_jobs=-1)]: Using backend LokyBackend with 4 concurrent workers.\n",
      "[Parallel(n_jobs=-1)]: Done  24 tasks      | elapsed:   50.4s\n",
      "[Parallel(n_jobs=-1)]: Done 120 tasks      | elapsed:  4.2min\n",
      "[Parallel(n_jobs=-1)]: Done 230 out of 230 | elapsed:  8.0min finished\n",
      "[Parallel(n_jobs=4)]: Using backend ThreadingBackend with 4 concurrent workers.\n",
      "[Parallel(n_jobs=4)]: Done  24 tasks      | elapsed:    0.4s\n",
      "[Parallel(n_jobs=4)]: Done 120 tasks      | elapsed:    2.1s\n",
      "[Parallel(n_jobs=4)]: Done 230 out of 230 | elapsed:    3.9s finished\n"
     ]
    },
    {
     "name": "stdout",
     "output_type": "stream",
     "text": [
      "[CV] .................................... , score=0.634, total= 8.0min\n",
      "[CV]  ................................................................\n"
     ]
    },
    {
     "name": "stderr",
     "output_type": "stream",
     "text": [
      "[Parallel(n_jobs=-1)]: Using backend LokyBackend with 4 concurrent workers.\n",
      "[Parallel(n_jobs=-1)]: Done  24 tasks      | elapsed:   51.0s\n",
      "[Parallel(n_jobs=-1)]: Done 120 tasks      | elapsed:  4.1min\n",
      "[Parallel(n_jobs=-1)]: Done 230 out of 230 | elapsed:  7.8min finished\n",
      "[Parallel(n_jobs=4)]: Using backend ThreadingBackend with 4 concurrent workers.\n",
      "[Parallel(n_jobs=4)]: Done  24 tasks      | elapsed:    0.5s\n",
      "[Parallel(n_jobs=4)]: Done 120 tasks      | elapsed:    2.0s\n",
      "[Parallel(n_jobs=4)]: Done 230 out of 230 | elapsed:    3.9s finished\n"
     ]
    },
    {
     "name": "stdout",
     "output_type": "stream",
     "text": [
      "[CV] .................................... , score=0.633, total= 7.9min\n",
      "| \u001b[0m 18      \u001b[0m | \u001b[0m 0.6233  \u001b[0m | \u001b[0m 48.84   \u001b[0m | \u001b[0m 9.908   \u001b[0m | \u001b[0m 8.523   \u001b[0m | \u001b[0m 230.4   \u001b[0m |\n"
     ]
    },
    {
     "name": "stderr",
     "output_type": "stream",
     "text": [
      "[Parallel(n_jobs=1)]: Done   5 out of   5 | elapsed: 40.0min finished\n",
      "[Parallel(n_jobs=1)]: Using backend SequentialBackend with 1 concurrent workers.\n"
     ]
    },
    {
     "name": "stdout",
     "output_type": "stream",
     "text": [
      "[CV]  ................................................................\n"
     ]
    },
    {
     "name": "stderr",
     "output_type": "stream",
     "text": [
      "[Parallel(n_jobs=-1)]: Using backend LokyBackend with 4 concurrent workers.\n",
      "[Parallel(n_jobs=-1)]: Done  24 tasks      | elapsed:   47.3s\n",
      "[Parallel(n_jobs=-1)]: Done 120 tasks      | elapsed:  3.8min\n",
      "[Parallel(n_jobs=-1)]: Done 280 tasks      | elapsed:  8.8min\n",
      "[Parallel(n_jobs=-1)]: Done 357 out of 357 | elapsed: 11.2min finished\n",
      "[Parallel(n_jobs=4)]: Using backend ThreadingBackend with 4 concurrent workers.\n",
      "[Parallel(n_jobs=4)]: Done  24 tasks      | elapsed:    0.4s\n",
      "[Parallel(n_jobs=4)]: Done 120 tasks      | elapsed:    2.1s\n",
      "[Parallel(n_jobs=4)]: Done 280 tasks      | elapsed:    4.9s\n",
      "[Parallel(n_jobs=4)]: Done 357 out of 357 | elapsed:    6.2s finished\n"
     ]
    },
    {
     "name": "stdout",
     "output_type": "stream",
     "text": [
      "[CV] .................................... , score=0.616, total=11.3min\n",
      "[CV]  ................................................................\n"
     ]
    },
    {
     "name": "stderr",
     "output_type": "stream",
     "text": [
      "[Parallel(n_jobs=1)]: Done   1 out of   1 | elapsed: 11.3min remaining:    0.0s\n",
      "[Parallel(n_jobs=-1)]: Using backend LokyBackend with 4 concurrent workers.\n",
      "[Parallel(n_jobs=-1)]: Done  24 tasks      | elapsed:   45.9s\n",
      "[Parallel(n_jobs=-1)]: Done 120 tasks      | elapsed:  3.8min\n",
      "[Parallel(n_jobs=-1)]: Done 280 tasks      | elapsed:  8.9min\n",
      "[Parallel(n_jobs=-1)]: Done 357 out of 357 | elapsed: 11.4min finished\n",
      "[Parallel(n_jobs=4)]: Using backend ThreadingBackend with 4 concurrent workers.\n",
      "[Parallel(n_jobs=4)]: Done  24 tasks      | elapsed:    0.5s\n",
      "[Parallel(n_jobs=4)]: Done 120 tasks      | elapsed:    2.2s\n",
      "[Parallel(n_jobs=4)]: Done 280 tasks      | elapsed:    5.1s\n",
      "[Parallel(n_jobs=4)]: Done 357 out of 357 | elapsed:    6.5s finished\n"
     ]
    },
    {
     "name": "stdout",
     "output_type": "stream",
     "text": [
      "[CV] .................................... , score=0.610, total=11.5min\n",
      "[CV]  ................................................................\n"
     ]
    },
    {
     "name": "stderr",
     "output_type": "stream",
     "text": [
      "[Parallel(n_jobs=1)]: Done   2 out of   2 | elapsed: 22.8min remaining:    0.0s\n",
      "[Parallel(n_jobs=-1)]: Using backend LokyBackend with 4 concurrent workers.\n",
      "[Parallel(n_jobs=-1)]: Done  24 tasks      | elapsed:   46.8s\n",
      "[Parallel(n_jobs=-1)]: Done 120 tasks      | elapsed:  3.8min\n",
      "[Parallel(n_jobs=-1)]: Done 280 tasks      | elapsed:  8.9min\n",
      "[Parallel(n_jobs=-1)]: Done 357 out of 357 | elapsed: 11.2min finished\n",
      "[Parallel(n_jobs=4)]: Using backend ThreadingBackend with 4 concurrent workers.\n",
      "[Parallel(n_jobs=4)]: Done  24 tasks      | elapsed:    0.4s\n",
      "[Parallel(n_jobs=4)]: Done 120 tasks      | elapsed:    2.1s\n",
      "[Parallel(n_jobs=4)]: Done 280 tasks      | elapsed:    4.8s\n",
      "[Parallel(n_jobs=4)]: Done 357 out of 357 | elapsed:    6.2s finished\n"
     ]
    },
    {
     "name": "stdout",
     "output_type": "stream",
     "text": [
      "[CV] .................................... , score=0.627, total=11.3min\n",
      "[CV]  ................................................................\n"
     ]
    },
    {
     "name": "stderr",
     "output_type": "stream",
     "text": [
      "[Parallel(n_jobs=-1)]: Using backend LokyBackend with 4 concurrent workers.\n",
      "[Parallel(n_jobs=-1)]: Done  24 tasks      | elapsed:   45.6s\n",
      "[Parallel(n_jobs=-1)]: Done 120 tasks      | elapsed:  3.8min\n",
      "[Parallel(n_jobs=-1)]: Done 280 tasks      | elapsed:  8.9min\n",
      "[Parallel(n_jobs=-1)]: Done 357 out of 357 | elapsed: 11.3min finished\n",
      "[Parallel(n_jobs=4)]: Using backend ThreadingBackend with 4 concurrent workers.\n",
      "[Parallel(n_jobs=4)]: Done  24 tasks      | elapsed:    0.4s\n",
      "[Parallel(n_jobs=4)]: Done 120 tasks      | elapsed:    2.1s\n",
      "[Parallel(n_jobs=4)]: Done 280 tasks      | elapsed:    4.9s\n",
      "[Parallel(n_jobs=4)]: Done 357 out of 357 | elapsed:    6.2s finished\n"
     ]
    },
    {
     "name": "stdout",
     "output_type": "stream",
     "text": [
      "[CV] .................................... , score=0.642, total=11.4min\n",
      "[CV]  ................................................................\n"
     ]
    },
    {
     "name": "stderr",
     "output_type": "stream",
     "text": [
      "[Parallel(n_jobs=-1)]: Using backend LokyBackend with 4 concurrent workers.\n",
      "[Parallel(n_jobs=-1)]: Done  24 tasks      | elapsed:   46.1s\n",
      "[Parallel(n_jobs=-1)]: Done 120 tasks      | elapsed:  3.8min\n",
      "[Parallel(n_jobs=-1)]: Done 280 tasks      | elapsed:  8.8min\n",
      "[Parallel(n_jobs=-1)]: Done 357 out of 357 | elapsed: 11.2min finished\n",
      "[Parallel(n_jobs=4)]: Using backend ThreadingBackend with 4 concurrent workers.\n",
      "[Parallel(n_jobs=4)]: Done  24 tasks      | elapsed:    0.5s\n",
      "[Parallel(n_jobs=4)]: Done 120 tasks      | elapsed:    2.1s\n",
      "[Parallel(n_jobs=4)]: Done 280 tasks      | elapsed:    4.8s\n",
      "[Parallel(n_jobs=4)]: Done 357 out of 357 | elapsed:    6.1s finished\n"
     ]
    },
    {
     "name": "stdout",
     "output_type": "stream",
     "text": [
      "[CV] .................................... , score=0.641, total=11.3min\n",
      "| \u001b[0m 19      \u001b[0m | \u001b[0m 0.6271  \u001b[0m | \u001b[0m 42.03   \u001b[0m | \u001b[0m 9.998   \u001b[0m | \u001b[0m 9.503   \u001b[0m | \u001b[0m 357.7   \u001b[0m |\n"
     ]
    },
    {
     "name": "stderr",
     "output_type": "stream",
     "text": [
      "[Parallel(n_jobs=1)]: Done   5 out of   5 | elapsed: 56.7min finished\n",
      "[Parallel(n_jobs=1)]: Using backend SequentialBackend with 1 concurrent workers.\n"
     ]
    },
    {
     "name": "stdout",
     "output_type": "stream",
     "text": [
      "[CV]  ................................................................\n"
     ]
    },
    {
     "name": "stderr",
     "output_type": "stream",
     "text": [
      "[Parallel(n_jobs=-1)]: Using backend LokyBackend with 4 concurrent workers.\n",
      "[Parallel(n_jobs=-1)]: Done  24 tasks      | elapsed:   52.7s\n",
      "[Parallel(n_jobs=-1)]: Done 120 tasks      | elapsed:  4.2min\n",
      "[Parallel(n_jobs=-1)]: Done 280 tasks      | elapsed:  9.7min\n",
      "[Parallel(n_jobs=-1)]: Done 466 out of 466 | elapsed: 16.0min finished\n",
      "[Parallel(n_jobs=4)]: Using backend ThreadingBackend with 4 concurrent workers.\n",
      "[Parallel(n_jobs=4)]: Done  24 tasks      | elapsed:    0.5s\n",
      "[Parallel(n_jobs=4)]: Done 120 tasks      | elapsed:    2.3s\n",
      "[Parallel(n_jobs=4)]: Done 280 tasks      | elapsed:    5.1s\n",
      "[Parallel(n_jobs=4)]: Done 466 out of 466 | elapsed:    8.4s finished\n"
     ]
    },
    {
     "name": "stdout",
     "output_type": "stream",
     "text": [
      "[CV] .................................... , score=0.616, total=16.2min\n",
      "[CV]  ................................................................\n"
     ]
    },
    {
     "name": "stderr",
     "output_type": "stream",
     "text": [
      "[Parallel(n_jobs=1)]: Done   1 out of   1 | elapsed: 16.2min remaining:    0.0s\n",
      "[Parallel(n_jobs=-1)]: Using backend LokyBackend with 4 concurrent workers.\n",
      "[Parallel(n_jobs=-1)]: Done  24 tasks      | elapsed:   54.4s\n",
      "[Parallel(n_jobs=-1)]: Done 120 tasks      | elapsed:  4.2min\n",
      "[Parallel(n_jobs=-1)]: Done 280 tasks      | elapsed:  9.8min\n",
      "[Parallel(n_jobs=-1)]: Done 466 out of 466 | elapsed: 16.2min finished\n",
      "[Parallel(n_jobs=4)]: Using backend ThreadingBackend with 4 concurrent workers.\n",
      "[Parallel(n_jobs=4)]: Done  24 tasks      | elapsed:    0.4s\n",
      "[Parallel(n_jobs=4)]: Done 120 tasks      | elapsed:    2.1s\n",
      "[Parallel(n_jobs=4)]: Done 280 tasks      | elapsed:    4.9s\n",
      "[Parallel(n_jobs=4)]: Done 466 out of 466 | elapsed:    8.1s finished\n"
     ]
    },
    {
     "name": "stdout",
     "output_type": "stream",
     "text": [
      "[CV] .................................... , score=0.614, total=16.3min\n",
      "[CV]  ................................................................\n"
     ]
    },
    {
     "name": "stderr",
     "output_type": "stream",
     "text": [
      "[Parallel(n_jobs=1)]: Done   2 out of   2 | elapsed: 32.5min remaining:    0.0s\n",
      "[Parallel(n_jobs=-1)]: Using backend LokyBackend with 4 concurrent workers.\n",
      "[Parallel(n_jobs=-1)]: Done  24 tasks      | elapsed:   50.8s\n",
      "[Parallel(n_jobs=-1)]: Done 120 tasks      | elapsed:  4.2min\n",
      "[Parallel(n_jobs=-1)]: Done 280 tasks      | elapsed:  9.7min\n",
      "[Parallel(n_jobs=-1)]: Done 466 out of 466 | elapsed: 15.9min finished\n",
      "[Parallel(n_jobs=4)]: Using backend ThreadingBackend with 4 concurrent workers.\n",
      "[Parallel(n_jobs=4)]: Done  24 tasks      | elapsed:    0.4s\n",
      "[Parallel(n_jobs=4)]: Done 120 tasks      | elapsed:    2.1s\n",
      "[Parallel(n_jobs=4)]: Done 280 tasks      | elapsed:    4.9s\n",
      "[Parallel(n_jobs=4)]: Done 466 out of 466 | elapsed:    8.1s finished\n"
     ]
    },
    {
     "name": "stdout",
     "output_type": "stream",
     "text": [
      "[CV] .................................... , score=0.629, total=16.1min\n",
      "[CV]  ................................................................\n"
     ]
    },
    {
     "name": "stderr",
     "output_type": "stream",
     "text": [
      "[Parallel(n_jobs=-1)]: Using backend LokyBackend with 4 concurrent workers.\n",
      "[Parallel(n_jobs=-1)]: Done  24 tasks      | elapsed:   50.5s\n",
      "[Parallel(n_jobs=-1)]: Done 120 tasks      | elapsed:  4.2min\n",
      "[Parallel(n_jobs=-1)]: Done 280 tasks      | elapsed:  9.8min\n",
      "[Parallel(n_jobs=-1)]: Done 466 out of 466 | elapsed: 16.3min finished\n",
      "[Parallel(n_jobs=4)]: Using backend ThreadingBackend with 4 concurrent workers.\n",
      "[Parallel(n_jobs=4)]: Done  24 tasks      | elapsed:    0.4s\n",
      "[Parallel(n_jobs=4)]: Done 120 tasks      | elapsed:    2.1s\n",
      "[Parallel(n_jobs=4)]: Done 280 tasks      | elapsed:    4.8s\n",
      "[Parallel(n_jobs=4)]: Done 466 out of 466 | elapsed:    8.0s finished\n"
     ]
    },
    {
     "name": "stdout",
     "output_type": "stream",
     "text": [
      "[CV] .................................... , score=0.638, total=16.4min\n",
      "[CV]  ................................................................\n"
     ]
    },
    {
     "name": "stderr",
     "output_type": "stream",
     "text": [
      "[Parallel(n_jobs=-1)]: Using backend LokyBackend with 4 concurrent workers.\n",
      "[Parallel(n_jobs=-1)]: Done  24 tasks      | elapsed:   52.8s\n",
      "[Parallel(n_jobs=-1)]: Done 120 tasks      | elapsed:  4.2min\n",
      "[Parallel(n_jobs=-1)]: Done 280 tasks      | elapsed:  9.7min\n",
      "[Parallel(n_jobs=-1)]: Done 466 out of 466 | elapsed: 16.0min finished\n",
      "[Parallel(n_jobs=4)]: Using backend ThreadingBackend with 4 concurrent workers.\n",
      "[Parallel(n_jobs=4)]: Done  24 tasks      | elapsed:    0.4s\n",
      "[Parallel(n_jobs=4)]: Done 120 tasks      | elapsed:    2.1s\n",
      "[Parallel(n_jobs=4)]: Done 280 tasks      | elapsed:    4.9s\n",
      "[Parallel(n_jobs=4)]: Done 466 out of 466 | elapsed:    8.2s finished\n"
     ]
    },
    {
     "name": "stdout",
     "output_type": "stream",
     "text": [
      "[CV] .................................... , score=0.642, total=16.1min\n",
      "| \u001b[0m 20      \u001b[0m | \u001b[0m 0.6276  \u001b[0m | \u001b[0m 48.04   \u001b[0m | \u001b[0m 9.585   \u001b[0m | \u001b[0m 2.671   \u001b[0m | \u001b[0m 466.9   \u001b[0m |\n"
     ]
    },
    {
     "name": "stderr",
     "output_type": "stream",
     "text": [
      "[Parallel(n_jobs=1)]: Done   5 out of   5 | elapsed: 81.1min finished\n",
      "[Parallel(n_jobs=1)]: Using backend SequentialBackend with 1 concurrent workers.\n",
      "[Parallel(n_jobs=-1)]: Using backend LokyBackend with 4 concurrent workers.\n"
     ]
    },
    {
     "name": "stdout",
     "output_type": "stream",
     "text": [
      "[CV]  ................................................................\n"
     ]
    },
    {
     "name": "stderr",
     "output_type": "stream",
     "text": [
      "[Parallel(n_jobs=-1)]: Done  24 tasks      | elapsed:   40.0s\n",
      "[Parallel(n_jobs=-1)]: Done 120 tasks      | elapsed:  3.3min\n",
      "[Parallel(n_jobs=-1)]: Done 280 tasks      | elapsed:  7.6min\n",
      "[Parallel(n_jobs=-1)]: Done 329 out of 329 | elapsed:  8.9min finished\n",
      "[Parallel(n_jobs=4)]: Using backend ThreadingBackend with 4 concurrent workers.\n",
      "[Parallel(n_jobs=4)]: Done  24 tasks      | elapsed:    0.4s\n",
      "[Parallel(n_jobs=4)]: Done 120 tasks      | elapsed:    2.1s\n",
      "[Parallel(n_jobs=4)]: Done 280 tasks      | elapsed:    4.8s\n",
      "[Parallel(n_jobs=4)]: Done 329 out of 329 | elapsed:    5.7s finished\n"
     ]
    },
    {
     "name": "stdout",
     "output_type": "stream",
     "text": [
      "[CV] .................................... , score=0.616, total= 9.0min\n",
      "[CV]  ................................................................\n"
     ]
    },
    {
     "name": "stderr",
     "output_type": "stream",
     "text": [
      "[Parallel(n_jobs=1)]: Done   1 out of   1 | elapsed:  9.0min remaining:    0.0s\n",
      "[Parallel(n_jobs=-1)]: Using backend LokyBackend with 4 concurrent workers.\n",
      "[Parallel(n_jobs=-1)]: Done  24 tasks      | elapsed:   39.6s\n",
      "[Parallel(n_jobs=-1)]: Done 120 tasks      | elapsed:  3.3min\n",
      "[Parallel(n_jobs=-1)]: Done 280 tasks      | elapsed:  7.7min\n",
      "[Parallel(n_jobs=-1)]: Done 329 out of 329 | elapsed:  9.0min finished\n",
      "[Parallel(n_jobs=4)]: Using backend ThreadingBackend with 4 concurrent workers.\n",
      "[Parallel(n_jobs=4)]: Done  24 tasks      | elapsed:    0.4s\n",
      "[Parallel(n_jobs=4)]: Done 120 tasks      | elapsed:    2.1s\n",
      "[Parallel(n_jobs=4)]: Done 280 tasks      | elapsed:    4.9s\n",
      "[Parallel(n_jobs=4)]: Done 329 out of 329 | elapsed:    5.7s finished\n"
     ]
    },
    {
     "name": "stdout",
     "output_type": "stream",
     "text": [
      "[CV] .................................... , score=0.610, total= 9.1min\n",
      "[CV]  ................................................................\n"
     ]
    },
    {
     "name": "stderr",
     "output_type": "stream",
     "text": [
      "[Parallel(n_jobs=1)]: Done   2 out of   2 | elapsed: 18.1min remaining:    0.0s\n",
      "[Parallel(n_jobs=-1)]: Using backend LokyBackend with 4 concurrent workers.\n",
      "[Parallel(n_jobs=-1)]: Done  24 tasks      | elapsed:   39.9s\n",
      "[Parallel(n_jobs=-1)]: Done 120 tasks      | elapsed:  3.3min\n",
      "[Parallel(n_jobs=-1)]: Done 280 tasks      | elapsed:  7.7min\n",
      "[Parallel(n_jobs=-1)]: Done 329 out of 329 | elapsed:  8.9min finished\n",
      "[Parallel(n_jobs=4)]: Using backend ThreadingBackend with 4 concurrent workers.\n",
      "[Parallel(n_jobs=4)]: Done  24 tasks      | elapsed:    0.4s\n",
      "[Parallel(n_jobs=4)]: Done 120 tasks      | elapsed:    2.1s\n",
      "[Parallel(n_jobs=4)]: Done 280 tasks      | elapsed:    4.9s\n",
      "[Parallel(n_jobs=4)]: Done 329 out of 329 | elapsed:    5.7s finished\n"
     ]
    },
    {
     "name": "stdout",
     "output_type": "stream",
     "text": [
      "[CV] .................................... , score=0.622, total= 9.0min\n",
      "[CV]  ................................................................\n"
     ]
    },
    {
     "name": "stderr",
     "output_type": "stream",
     "text": [
      "[Parallel(n_jobs=-1)]: Using backend LokyBackend with 4 concurrent workers.\n",
      "[Parallel(n_jobs=-1)]: Done  24 tasks      | elapsed:   39.3s\n",
      "[Parallel(n_jobs=-1)]: Done 120 tasks      | elapsed:  3.2min\n",
      "[Parallel(n_jobs=-1)]: Done 280 tasks      | elapsed:  7.6min\n",
      "[Parallel(n_jobs=-1)]: Done 329 out of 329 | elapsed:  8.9min finished\n",
      "[Parallel(n_jobs=4)]: Using backend ThreadingBackend with 4 concurrent workers.\n",
      "[Parallel(n_jobs=4)]: Done  24 tasks      | elapsed:    0.4s\n",
      "[Parallel(n_jobs=4)]: Done 120 tasks      | elapsed:    2.1s\n",
      "[Parallel(n_jobs=4)]: Done 280 tasks      | elapsed:    4.8s\n",
      "[Parallel(n_jobs=4)]: Done 329 out of 329 | elapsed:    5.6s finished\n"
     ]
    },
    {
     "name": "stdout",
     "output_type": "stream",
     "text": [
      "[CV] .................................... , score=0.634, total= 9.0min\n",
      "[CV]  ................................................................\n"
     ]
    },
    {
     "name": "stderr",
     "output_type": "stream",
     "text": [
      "[Parallel(n_jobs=-1)]: Using backend LokyBackend with 4 concurrent workers.\n",
      "[Parallel(n_jobs=-1)]: Done  24 tasks      | elapsed:   39.5s\n",
      "[Parallel(n_jobs=-1)]: Done 120 tasks      | elapsed:  3.3min\n",
      "[Parallel(n_jobs=-1)]: Done 280 tasks      | elapsed:  7.7min\n",
      "[Parallel(n_jobs=-1)]: Done 329 out of 329 | elapsed:  9.0min finished\n",
      "[Parallel(n_jobs=4)]: Using backend ThreadingBackend with 4 concurrent workers.\n",
      "[Parallel(n_jobs=4)]: Done  24 tasks      | elapsed:    0.5s\n",
      "[Parallel(n_jobs=4)]: Done 120 tasks      | elapsed:    2.2s\n",
      "[Parallel(n_jobs=4)]: Done 280 tasks      | elapsed:    4.9s\n",
      "[Parallel(n_jobs=4)]: Done 329 out of 329 | elapsed:    5.8s finished\n"
     ]
    },
    {
     "name": "stdout",
     "output_type": "stream",
     "text": [
      "[CV] .................................... , score=0.637, total= 9.1min\n",
      "| \u001b[0m 21      \u001b[0m | \u001b[0m 0.6237  \u001b[0m | \u001b[0m 34.47   \u001b[0m | \u001b[0m 9.952   \u001b[0m | \u001b[0m 2.732   \u001b[0m | \u001b[0m 330.0   \u001b[0m |\n"
     ]
    },
    {
     "name": "stderr",
     "output_type": "stream",
     "text": [
      "[Parallel(n_jobs=1)]: Done   5 out of   5 | elapsed: 45.2min finished\n",
      "[Parallel(n_jobs=1)]: Using backend SequentialBackend with 1 concurrent workers.\n",
      "[Parallel(n_jobs=-1)]: Using backend LokyBackend with 4 concurrent workers.\n"
     ]
    },
    {
     "name": "stdout",
     "output_type": "stream",
     "text": [
      "[CV]  ................................................................\n"
     ]
    },
    {
     "name": "stderr",
     "output_type": "stream",
     "text": [
      "[Parallel(n_jobs=-1)]: Done  24 tasks      | elapsed:   30.4s\n",
      "[Parallel(n_jobs=-1)]: Done 120 tasks      | elapsed:  2.5min\n",
      "[Parallel(n_jobs=-1)]: Done 187 out of 187 | elapsed:  3.9min finished\n",
      "[Parallel(n_jobs=4)]: Using backend ThreadingBackend with 4 concurrent workers.\n",
      "[Parallel(n_jobs=4)]: Done  24 tasks      | elapsed:    0.4s\n",
      "[Parallel(n_jobs=4)]: Done 120 tasks      | elapsed:    2.1s\n",
      "[Parallel(n_jobs=4)]: Done 187 out of 187 | elapsed:    3.2s finished\n"
     ]
    },
    {
     "name": "stdout",
     "output_type": "stream",
     "text": [
      "[CV] .................................... , score=0.613, total= 3.9min\n",
      "[CV]  ................................................................\n"
     ]
    },
    {
     "name": "stderr",
     "output_type": "stream",
     "text": [
      "[Parallel(n_jobs=1)]: Done   1 out of   1 | elapsed:  3.9min remaining:    0.0s\n",
      "[Parallel(n_jobs=-1)]: Using backend LokyBackend with 4 concurrent workers.\n",
      "[Parallel(n_jobs=-1)]: Done  24 tasks      | elapsed:   30.0s\n",
      "[Parallel(n_jobs=-1)]: Done 120 tasks      | elapsed:  2.5min\n",
      "[Parallel(n_jobs=-1)]: Done 187 out of 187 | elapsed:  3.9min finished\n",
      "[Parallel(n_jobs=4)]: Using backend ThreadingBackend with 4 concurrent workers.\n",
      "[Parallel(n_jobs=4)]: Done  24 tasks      | elapsed:    0.4s\n",
      "[Parallel(n_jobs=4)]: Done 120 tasks      | elapsed:    2.0s\n",
      "[Parallel(n_jobs=4)]: Done 187 out of 187 | elapsed:    3.2s finished\n"
     ]
    },
    {
     "name": "stdout",
     "output_type": "stream",
     "text": [
      "[CV] .................................... , score=0.604, total= 3.9min\n",
      "[CV]  ................................................................\n"
     ]
    },
    {
     "name": "stderr",
     "output_type": "stream",
     "text": [
      "[Parallel(n_jobs=1)]: Done   2 out of   2 | elapsed:  7.9min remaining:    0.0s\n",
      "[Parallel(n_jobs=-1)]: Using backend LokyBackend with 4 concurrent workers.\n",
      "[Parallel(n_jobs=-1)]: Done  24 tasks      | elapsed:   30.3s\n",
      "[Parallel(n_jobs=-1)]: Done 120 tasks      | elapsed:  2.5min\n",
      "[Parallel(n_jobs=-1)]: Done 187 out of 187 | elapsed:  3.9min finished\n",
      "[Parallel(n_jobs=4)]: Using backend ThreadingBackend with 4 concurrent workers.\n",
      "[Parallel(n_jobs=4)]: Done  24 tasks      | elapsed:    0.4s\n",
      "[Parallel(n_jobs=4)]: Done 120 tasks      | elapsed:    2.1s\n",
      "[Parallel(n_jobs=4)]: Done 187 out of 187 | elapsed:    3.2s finished\n"
     ]
    },
    {
     "name": "stdout",
     "output_type": "stream",
     "text": [
      "[CV] .................................... , score=0.619, total= 3.9min\n",
      "[CV]  ................................................................\n"
     ]
    },
    {
     "name": "stderr",
     "output_type": "stream",
     "text": [
      "[Parallel(n_jobs=-1)]: Using backend LokyBackend with 4 concurrent workers.\n",
      "[Parallel(n_jobs=-1)]: Done  24 tasks      | elapsed:   29.9s\n",
      "[Parallel(n_jobs=-1)]: Done 120 tasks      | elapsed:  2.5min\n",
      "[Parallel(n_jobs=-1)]: Done 187 out of 187 | elapsed:  3.9min finished\n",
      "[Parallel(n_jobs=4)]: Using backend ThreadingBackend with 4 concurrent workers.\n",
      "[Parallel(n_jobs=4)]: Done  24 tasks      | elapsed:    0.4s\n",
      "[Parallel(n_jobs=4)]: Done 120 tasks      | elapsed:    2.1s\n",
      "[Parallel(n_jobs=4)]: Done 187 out of 187 | elapsed:    3.2s finished\n"
     ]
    },
    {
     "name": "stdout",
     "output_type": "stream",
     "text": [
      "[CV] .................................... , score=0.627, total= 3.9min\n",
      "[CV]  ................................................................\n"
     ]
    },
    {
     "name": "stderr",
     "output_type": "stream",
     "text": [
      "[Parallel(n_jobs=-1)]: Using backend LokyBackend with 4 concurrent workers.\n",
      "[Parallel(n_jobs=-1)]: Done  24 tasks      | elapsed:   29.9s\n",
      "[Parallel(n_jobs=-1)]: Done 120 tasks      | elapsed: 37.8min\n",
      "[Parallel(n_jobs=-1)]: Done 187 out of 187 | elapsed: 56.7min finished\n",
      "[Parallel(n_jobs=4)]: Using backend ThreadingBackend with 4 concurrent workers.\n",
      "[Parallel(n_jobs=4)]: Done  24 tasks      | elapsed:    0.5s\n",
      "[Parallel(n_jobs=4)]: Done 120 tasks      | elapsed:    2.1s\n",
      "[Parallel(n_jobs=4)]: Done 187 out of 187 | elapsed:    3.2s finished\n"
     ]
    },
    {
     "name": "stdout",
     "output_type": "stream",
     "text": [
      "[CV] .................................... , score=0.630, total=56.7min\n",
      "| \u001b[0m 22      \u001b[0m | \u001b[0m 0.6186  \u001b[0m | \u001b[0m 24.45   \u001b[0m | \u001b[0m 9.941   \u001b[0m | \u001b[0m 9.935   \u001b[0m | \u001b[0m 187.3   \u001b[0m |\n"
     ]
    },
    {
     "name": "stderr",
     "output_type": "stream",
     "text": [
      "[Parallel(n_jobs=1)]: Done   5 out of   5 | elapsed: 72.5min finished\n",
      "[Parallel(n_jobs=1)]: Using backend SequentialBackend with 1 concurrent workers.\n"
     ]
    },
    {
     "name": "stdout",
     "output_type": "stream",
     "text": [
      "[CV]  ................................................................\n"
     ]
    },
    {
     "name": "stderr",
     "output_type": "stream",
     "text": [
      "[Parallel(n_jobs=-1)]: Using backend LokyBackend with 4 concurrent workers.\n",
      "[Parallel(n_jobs=-1)]: Done  24 tasks      | elapsed:  9.7min\n",
      "[Parallel(n_jobs=-1)]: Done 120 tasks      | elapsed: 56.3min\n",
      "[Parallel(n_jobs=-1)]: Done 272 out of 272 | elapsed: 89.5min finished\n",
      "[Parallel(n_jobs=4)]: Using backend ThreadingBackend with 4 concurrent workers.\n",
      "[Parallel(n_jobs=4)]: Done  24 tasks      | elapsed:    0.5s\n",
      "[Parallel(n_jobs=4)]: Done 120 tasks      | elapsed:    2.6s\n",
      "[Parallel(n_jobs=4)]: Done 272 out of 272 | elapsed:    6.0s finished\n"
     ]
    },
    {
     "name": "stdout",
     "output_type": "stream",
     "text": [
      "[CV] .................................... , score=0.615, total=89.7min\n",
      "[CV]  ................................................................\n"
     ]
    },
    {
     "name": "stderr",
     "output_type": "stream",
     "text": [
      "[Parallel(n_jobs=1)]: Done   1 out of   1 | elapsed: 89.7min remaining:    0.0s\n",
      "[Parallel(n_jobs=-1)]: Using backend LokyBackend with 4 concurrent workers.\n",
      "[Parallel(n_jobs=-1)]: Done  24 tasks      | elapsed: 17.2min\n",
      "[Parallel(n_jobs=-1)]: Done 120 tasks      | elapsed: 58.2min\n",
      "[Parallel(n_jobs=-1)]: Done 272 out of 272 | elapsed: 123.1min finished\n",
      "[Parallel(n_jobs=4)]: Using backend ThreadingBackend with 4 concurrent workers.\n",
      "[Parallel(n_jobs=4)]: Done  24 tasks      | elapsed:    0.5s\n",
      "[Parallel(n_jobs=4)]: Done 120 tasks      | elapsed:    2.2s\n",
      "[Parallel(n_jobs=4)]: Done 272 out of 272 | elapsed:    4.8s finished\n"
     ]
    },
    {
     "name": "stdout",
     "output_type": "stream",
     "text": [
      "[CV] ................................... , score=0.609, total=123.2min\n",
      "[CV]  ................................................................\n"
     ]
    },
    {
     "name": "stderr",
     "output_type": "stream",
     "text": [
      "[Parallel(n_jobs=1)]: Done   2 out of   2 | elapsed: 212.9min remaining:    0.0s\n",
      "[Parallel(n_jobs=-1)]: Using backend LokyBackend with 4 concurrent workers.\n",
      "[Parallel(n_jobs=-1)]: Done  24 tasks      | elapsed:  4.2min\n",
      "[Parallel(n_jobs=-1)]: Done 120 tasks      | elapsed: 389.7min\n",
      "[Parallel(n_jobs=-1)]: Done 272 out of 272 | elapsed: 560.5min finished\n",
      "[Parallel(n_jobs=4)]: Using backend ThreadingBackend with 4 concurrent workers.\n",
      "[Parallel(n_jobs=4)]: Done  24 tasks      | elapsed:    0.5s\n",
      "[Parallel(n_jobs=4)]: Done 120 tasks      | elapsed:    2.2s\n",
      "[Parallel(n_jobs=4)]: Done 272 out of 272 | elapsed:    4.8s finished\n"
     ]
    },
    {
     "name": "stdout",
     "output_type": "stream",
     "text": [
      "[CV] ................................... , score=0.625, total=560.6min\n",
      "[CV]  ................................................................\n"
     ]
    },
    {
     "name": "stderr",
     "output_type": "stream",
     "text": [
      "[Parallel(n_jobs=-1)]: Using backend LokyBackend with 4 concurrent workers.\n",
      "[Parallel(n_jobs=-1)]: Done  24 tasks      | elapsed:   51.6s\n",
      "[Parallel(n_jobs=-1)]: Done 120 tasks      | elapsed:  4.3min\n",
      "[Parallel(n_jobs=-1)]: Done 272 out of 272 | elapsed: 90.0min finished\n",
      "[Parallel(n_jobs=4)]: Using backend ThreadingBackend with 4 concurrent workers.\n",
      "[Parallel(n_jobs=4)]: Done  24 tasks      | elapsed:    0.5s\n",
      "[Parallel(n_jobs=4)]: Done 120 tasks      | elapsed:    2.3s\n",
      "[Parallel(n_jobs=4)]: Done 272 out of 272 | elapsed:    5.0s finished\n"
     ]
    },
    {
     "name": "stdout",
     "output_type": "stream",
     "text": [
      "[CV] .................................... , score=0.639, total=90.1min\n",
      "[CV]  ................................................................\n"
     ]
    },
    {
     "name": "stderr",
     "output_type": "stream",
     "text": [
      "[Parallel(n_jobs=-1)]: Using backend LokyBackend with 4 concurrent workers.\n",
      "[Parallel(n_jobs=-1)]: Done  24 tasks      | elapsed: 100.9min\n",
      "[Parallel(n_jobs=-1)]: Done 120 tasks      | elapsed: 105.4min\n",
      "[Parallel(n_jobs=-1)]: Done 272 out of 272 | elapsed: 112.3min finished\n",
      "[Parallel(n_jobs=4)]: Using backend ThreadingBackend with 4 concurrent workers.\n",
      "[Parallel(n_jobs=4)]: Done  24 tasks      | elapsed:    0.5s\n",
      "[Parallel(n_jobs=4)]: Done 120 tasks      | elapsed:    2.5s\n",
      "[Parallel(n_jobs=4)]: Done 272 out of 272 | elapsed:    5.5s finished\n"
     ]
    },
    {
     "name": "stdout",
     "output_type": "stream",
     "text": [
      "[CV] ................................... , score=0.637, total=112.4min\n",
      "| \u001b[0m 23      \u001b[0m | \u001b[0m 0.625   \u001b[0m | \u001b[0m 49.44   \u001b[0m | \u001b[0m 9.264   \u001b[0m | \u001b[0m 2.53    \u001b[0m | \u001b[0m 272.4   \u001b[0m |\n",
      "[CV]  ................................................................\n"
     ]
    },
    {
     "name": "stderr",
     "output_type": "stream",
     "text": [
      "[Parallel(n_jobs=1)]: Done   5 out of   5 | elapsed: 976.0min finished\n",
      "[Parallel(n_jobs=1)]: Using backend SequentialBackend with 1 concurrent workers.\n",
      "[Parallel(n_jobs=-1)]: Using backend LokyBackend with 4 concurrent workers.\n",
      "[Parallel(n_jobs=-1)]: Done  24 tasks      | elapsed:  1.1min\n",
      "[Parallel(n_jobs=-1)]: Done 120 tasks      | elapsed:  5.5min\n",
      "[Parallel(n_jobs=-1)]: Done 280 tasks      | elapsed: 17.9min\n",
      "[Parallel(n_jobs=-1)]: Done 493 out of 493 | elapsed: 40.4min finished\n",
      "[Parallel(n_jobs=4)]: Using backend ThreadingBackend with 4 concurrent workers.\n",
      "[Parallel(n_jobs=4)]: Done  24 tasks      | elapsed:    1.2s\n",
      "[Parallel(n_jobs=4)]: Done 120 tasks      | elapsed:    5.6s\n",
      "[Parallel(n_jobs=4)]: Done 280 tasks      | elapsed:   12.6s\n",
      "[Parallel(n_jobs=4)]: Done 493 out of 493 | elapsed:   22.3s finished\n"
     ]
    },
    {
     "name": "stdout",
     "output_type": "stream",
     "text": [
      "[CV] .................................... , score=0.616, total=40.8min\n",
      "[CV]  ................................................................\n"
     ]
    },
    {
     "name": "stderr",
     "output_type": "stream",
     "text": [
      "[Parallel(n_jobs=1)]: Done   1 out of   1 | elapsed: 40.8min remaining:    0.0s\n",
      "[Parallel(n_jobs=-1)]: Using backend LokyBackend with 4 concurrent workers.\n",
      "[Parallel(n_jobs=-1)]: Done  24 tasks      | elapsed:  2.5min\n",
      "[Parallel(n_jobs=-1)]: Done 120 tasks      | elapsed: 30.4min\n",
      "[Parallel(n_jobs=-1)]: Done 280 tasks      | elapsed: 386.5min\n",
      "[Parallel(n_jobs=-1)]: Done 493 out of 493 | elapsed: 482.4min finished\n",
      "[Parallel(n_jobs=4)]: Using backend ThreadingBackend with 4 concurrent workers.\n",
      "[Parallel(n_jobs=4)]: Done  24 tasks      | elapsed:    0.7s\n",
      "[Parallel(n_jobs=4)]: Done 120 tasks      | elapsed:  2.8min\n",
      "[Parallel(n_jobs=4)]: Done 280 tasks      | elapsed:  2.8min\n",
      "[Parallel(n_jobs=4)]: Done 493 out of 493 | elapsed:  2.9min finished\n"
     ]
    },
    {
     "name": "stdout",
     "output_type": "stream",
     "text": [
      "[CV] ................................... , score=0.615, total=485.3min\n",
      "[CV]  ................................................................\n"
     ]
    },
    {
     "name": "stderr",
     "output_type": "stream",
     "text": [
      "[Parallel(n_jobs=1)]: Done   2 out of   2 | elapsed: 526.1min remaining:    0.0s\n",
      "[Parallel(n_jobs=-1)]: Using backend LokyBackend with 4 concurrent workers.\n",
      "[Parallel(n_jobs=-1)]: Done  24 tasks      | elapsed: 11.0min\n",
      "[Parallel(n_jobs=-1)]: Done 120 tasks      | elapsed: 50.1min\n",
      "[Parallel(n_jobs=-1)]: Done 280 tasks      | elapsed: 129.0min\n",
      "[Parallel(n_jobs=-1)]: Done 493 out of 493 | elapsed: 781.9min finished\n",
      "[Parallel(n_jobs=4)]: Using backend ThreadingBackend with 4 concurrent workers.\n",
      "[Parallel(n_jobs=4)]: Done  24 tasks      | elapsed:    0.5s\n",
      "[Parallel(n_jobs=4)]: Done 120 tasks      | elapsed:    2.4s\n",
      "[Parallel(n_jobs=4)]: Done 280 tasks      | elapsed:    5.4s\n",
      "[Parallel(n_jobs=4)]: Done 493 out of 493 | elapsed:    9.5s finished\n"
     ]
    },
    {
     "name": "stdout",
     "output_type": "stream",
     "text": [
      "[CV] ................................... , score=0.625, total=782.1min\n",
      "[CV]  ................................................................\n"
     ]
    },
    {
     "name": "stderr",
     "output_type": "stream",
     "text": [
      "[Parallel(n_jobs=-1)]: Using backend LokyBackend with 4 concurrent workers.\n",
      "[Parallel(n_jobs=-1)]: Done  24 tasks      | elapsed: 241.1min\n",
      "[Parallel(n_jobs=-1)]: Done 120 tasks      | elapsed: 405.9min\n",
      "[Parallel(n_jobs=-1)]: Done 280 tasks      | elapsed: 413.2min\n",
      "[Parallel(n_jobs=-1)]: Done 493 out of 493 | elapsed: 422.5min finished\n",
      "[Parallel(n_jobs=4)]: Using backend ThreadingBackend with 4 concurrent workers.\n",
      "[Parallel(n_jobs=4)]: Done  24 tasks      | elapsed:    0.6s\n",
      "[Parallel(n_jobs=4)]: Done 120 tasks      | elapsed:    2.9s\n",
      "[Parallel(n_jobs=4)]: Done 280 tasks      | elapsed:    6.3s\n",
      "[Parallel(n_jobs=4)]: Done 493 out of 493 | elapsed:   11.3s finished\n"
     ]
    },
    {
     "name": "stdout",
     "output_type": "stream",
     "text": [
      "[CV] ................................... , score=0.640, total=422.8min\n",
      "[CV]  ................................................................\n"
     ]
    },
    {
     "name": "stderr",
     "output_type": "stream",
     "text": [
      "[Parallel(n_jobs=-1)]: Using backend LokyBackend with 4 concurrent workers.\n",
      "[Parallel(n_jobs=-1)]: Done  24 tasks      | elapsed:   58.9s\n",
      "[Parallel(n_jobs=-1)]: Done 120 tasks      | elapsed:  5.1min\n",
      "[Parallel(n_jobs=-1)]: Done 280 tasks      | elapsed: 12.5min\n",
      "[Parallel(n_jobs=-1)]: Done 493 out of 493 | elapsed: 19.7min finished\n",
      "[Parallel(n_jobs=4)]: Using backend ThreadingBackend with 4 concurrent workers.\n",
      "[Parallel(n_jobs=4)]: Done  24 tasks      | elapsed:    0.6s\n",
      "[Parallel(n_jobs=4)]: Done 120 tasks      | elapsed:    2.4s\n",
      "[Parallel(n_jobs=4)]: Done 280 tasks      | elapsed:    5.5s\n",
      "[Parallel(n_jobs=4)]: Done 493 out of 493 | elapsed:    9.1s finished\n"
     ]
    },
    {
     "name": "stdout",
     "output_type": "stream",
     "text": [
      "[CV] .................................... , score=0.640, total=19.9min\n"
     ]
    },
    {
     "name": "stderr",
     "output_type": "stream",
     "text": [
      "[Parallel(n_jobs=1)]: Done   5 out of   5 | elapsed: 1750.9min finished\n"
     ]
    },
    {
     "name": "stdout",
     "output_type": "stream",
     "text": [
      "| \u001b[0m 24      \u001b[0m | \u001b[0m 0.6274  \u001b[0m | \u001b[0m 46.45   \u001b[0m | \u001b[0m 8.281   \u001b[0m | \u001b[0m 3.967   \u001b[0m | \u001b[0m 493.9   \u001b[0m |\n"
     ]
    },
    {
     "name": "stderr",
     "output_type": "stream",
     "text": [
      "[Parallel(n_jobs=1)]: Using backend SequentialBackend with 1 concurrent workers.\n"
     ]
    },
    {
     "name": "stdout",
     "output_type": "stream",
     "text": [
      "[CV]  ................................................................\n"
     ]
    },
    {
     "name": "stderr",
     "output_type": "stream",
     "text": [
      "[Parallel(n_jobs=-1)]: Using backend LokyBackend with 4 concurrent workers.\n",
      "[Parallel(n_jobs=-1)]: Done  24 tasks      | elapsed:   35.8s\n",
      "[Parallel(n_jobs=-1)]: Done 120 tasks      | elapsed:  3.0min\n",
      "[Parallel(n_jobs=-1)]: Done 280 tasks      | elapsed:  6.9min\n",
      "[Parallel(n_jobs=-1)]: Done 417 out of 417 | elapsed: 10.2min finished\n",
      "[Parallel(n_jobs=4)]: Using backend ThreadingBackend with 4 concurrent workers.\n",
      "[Parallel(n_jobs=4)]: Done  24 tasks      | elapsed:    0.4s\n",
      "[Parallel(n_jobs=4)]: Done 120 tasks      | elapsed:    2.1s\n",
      "[Parallel(n_jobs=4)]: Done 280 tasks      | elapsed:    4.9s\n",
      "[Parallel(n_jobs=4)]: Done 417 out of 417 | elapsed:    7.2s finished\n"
     ]
    },
    {
     "name": "stdout",
     "output_type": "stream",
     "text": [
      "[CV] .................................... , score=0.614, total=10.4min\n",
      "[CV]  ................................................................\n"
     ]
    },
    {
     "name": "stderr",
     "output_type": "stream",
     "text": [
      "[Parallel(n_jobs=1)]: Done   1 out of   1 | elapsed: 10.4min remaining:    0.0s\n",
      "[Parallel(n_jobs=-1)]: Using backend LokyBackend with 4 concurrent workers.\n",
      "[Parallel(n_jobs=-1)]: Done  24 tasks      | elapsed:   35.5s\n",
      "[Parallel(n_jobs=-1)]: Done 120 tasks      | elapsed:  2.9min\n",
      "[Parallel(n_jobs=-1)]: Done 280 tasks      | elapsed:  6.9min\n",
      "[Parallel(n_jobs=-1)]: Done 417 out of 417 | elapsed: 10.3min finished\n",
      "[Parallel(n_jobs=4)]: Using backend ThreadingBackend with 4 concurrent workers.\n",
      "[Parallel(n_jobs=4)]: Done  24 tasks      | elapsed:    0.4s\n",
      "[Parallel(n_jobs=4)]: Done 120 tasks      | elapsed:    2.1s\n",
      "[Parallel(n_jobs=4)]: Done 280 tasks      | elapsed:    4.9s\n",
      "[Parallel(n_jobs=4)]: Done 417 out of 417 | elapsed:    7.2s finished\n"
     ]
    },
    {
     "name": "stdout",
     "output_type": "stream",
     "text": [
      "[CV] .................................... , score=0.611, total=10.4min\n",
      "[CV]  ................................................................\n"
     ]
    },
    {
     "name": "stderr",
     "output_type": "stream",
     "text": [
      "[Parallel(n_jobs=1)]: Done   2 out of   2 | elapsed: 20.8min remaining:    0.0s\n",
      "[Parallel(n_jobs=-1)]: Using backend LokyBackend with 4 concurrent workers.\n",
      "[Parallel(n_jobs=-1)]: Done  24 tasks      | elapsed:   36.8s\n",
      "[Parallel(n_jobs=-1)]: Done 120 tasks      | elapsed:  3.0min\n",
      "[Parallel(n_jobs=-1)]: Done 280 tasks      | elapsed:  6.9min\n",
      "[Parallel(n_jobs=-1)]: Done 417 out of 417 | elapsed: 10.2min finished\n",
      "[Parallel(n_jobs=4)]: Using backend ThreadingBackend with 4 concurrent workers.\n",
      "[Parallel(n_jobs=4)]: Done  24 tasks      | elapsed:    0.4s\n",
      "[Parallel(n_jobs=4)]: Done 120 tasks      | elapsed:    2.0s\n",
      "[Parallel(n_jobs=4)]: Done 280 tasks      | elapsed:    4.8s\n",
      "[Parallel(n_jobs=4)]: Done 417 out of 417 | elapsed:    7.1s finished\n"
     ]
    },
    {
     "name": "stdout",
     "output_type": "stream",
     "text": [
      "[CV] .................................... , score=0.622, total=10.3min\n",
      "[CV]  ................................................................\n"
     ]
    },
    {
     "name": "stderr",
     "output_type": "stream",
     "text": [
      "[Parallel(n_jobs=-1)]: Using backend LokyBackend with 4 concurrent workers.\n",
      "[Parallel(n_jobs=-1)]: Done  24 tasks      | elapsed:   36.6s\n",
      "[Parallel(n_jobs=-1)]: Done 120 tasks      | elapsed:  3.0min\n",
      "[Parallel(n_jobs=-1)]: Done 280 tasks      | elapsed:  6.9min\n",
      "[Parallel(n_jobs=-1)]: Done 417 out of 417 | elapsed: 10.2min finished\n",
      "[Parallel(n_jobs=4)]: Using backend ThreadingBackend with 4 concurrent workers.\n",
      "[Parallel(n_jobs=4)]: Done  24 tasks      | elapsed:    0.4s\n",
      "[Parallel(n_jobs=4)]: Done 120 tasks      | elapsed:    2.1s\n",
      "[Parallel(n_jobs=4)]: Done 280 tasks      | elapsed:    4.8s\n",
      "[Parallel(n_jobs=4)]: Done 417 out of 417 | elapsed:    7.1s finished\n"
     ]
    },
    {
     "name": "stdout",
     "output_type": "stream",
     "text": [
      "[CV] .................................... , score=0.633, total=10.4min\n",
      "[CV]  ................................................................\n"
     ]
    },
    {
     "name": "stderr",
     "output_type": "stream",
     "text": [
      "[Parallel(n_jobs=-1)]: Using backend LokyBackend with 4 concurrent workers.\n",
      "[Parallel(n_jobs=-1)]: Done  24 tasks      | elapsed:   36.1s\n",
      "[Parallel(n_jobs=-1)]: Done 120 tasks      | elapsed:  2.9min\n",
      "[Parallel(n_jobs=-1)]: Done 280 tasks      | elapsed:  6.9min\n",
      "[Parallel(n_jobs=-1)]: Done 417 out of 417 | elapsed: 10.2min finished\n",
      "[Parallel(n_jobs=4)]: Using backend ThreadingBackend with 4 concurrent workers.\n",
      "[Parallel(n_jobs=4)]: Done  24 tasks      | elapsed:    0.5s\n",
      "[Parallel(n_jobs=4)]: Done 120 tasks      | elapsed:    2.3s\n",
      "[Parallel(n_jobs=4)]: Done 280 tasks      | elapsed:    5.5s\n",
      "[Parallel(n_jobs=4)]: Done 417 out of 417 | elapsed:    8.1s finished\n"
     ]
    },
    {
     "name": "stdout",
     "output_type": "stream",
     "text": [
      "[CV] .................................... , score=0.640, total=10.4min\n",
      "| \u001b[0m 25      \u001b[0m | \u001b[0m 0.6243  \u001b[0m | \u001b[0m 30.86   \u001b[0m | \u001b[0m 9.978   \u001b[0m | \u001b[0m 5.457   \u001b[0m | \u001b[0m 417.6   \u001b[0m |\n"
     ]
    },
    {
     "name": "stderr",
     "output_type": "stream",
     "text": [
      "[Parallel(n_jobs=1)]: Done   5 out of   5 | elapsed: 51.8min finished\n",
      "[Parallel(n_jobs=1)]: Using backend SequentialBackend with 1 concurrent workers.\n"
     ]
    },
    {
     "name": "stdout",
     "output_type": "stream",
     "text": [
      "[CV]  ................................................................\n"
     ]
    },
    {
     "name": "stderr",
     "output_type": "stream",
     "text": [
      "[Parallel(n_jobs=-1)]: Using backend LokyBackend with 4 concurrent workers.\n",
      "[Parallel(n_jobs=-1)]: Done  24 tasks      | elapsed:   52.2s\n",
      "[Parallel(n_jobs=-1)]: Done 120 tasks      | elapsed:  4.2min\n",
      "[Parallel(n_jobs=-1)]: Done 280 tasks      | elapsed:  9.7min\n",
      "[Parallel(n_jobs=-1)]: Done 462 out of 462 | elapsed: 16.0min finished\n",
      "[Parallel(n_jobs=4)]: Using backend ThreadingBackend with 4 concurrent workers.\n",
      "[Parallel(n_jobs=4)]: Done  24 tasks      | elapsed:    0.4s\n",
      "[Parallel(n_jobs=4)]: Done 120 tasks      | elapsed:    2.1s\n",
      "[Parallel(n_jobs=4)]: Done 280 tasks      | elapsed:    4.9s\n",
      "[Parallel(n_jobs=4)]: Done 462 out of 462 | elapsed:    8.0s finished\n"
     ]
    },
    {
     "name": "stdout",
     "output_type": "stream",
     "text": [
      "[CV] .................................... , score=0.617, total=16.1min\n",
      "[CV]  ................................................................\n"
     ]
    },
    {
     "name": "stderr",
     "output_type": "stream",
     "text": [
      "[Parallel(n_jobs=1)]: Done   1 out of   1 | elapsed: 16.1min remaining:    0.0s\n",
      "[Parallel(n_jobs=-1)]: Using backend LokyBackend with 4 concurrent workers.\n",
      "[Parallel(n_jobs=-1)]: Done  24 tasks      | elapsed:   50.5s\n",
      "[Parallel(n_jobs=-1)]: Done 120 tasks      | elapsed:  4.2min\n",
      "[Parallel(n_jobs=-1)]: Done 280 tasks      | elapsed:  9.8min\n",
      "[Parallel(n_jobs=-1)]: Done 462 out of 462 | elapsed: 16.1min finished\n",
      "[Parallel(n_jobs=4)]: Using backend ThreadingBackend with 4 concurrent workers.\n",
      "[Parallel(n_jobs=4)]: Done  24 tasks      | elapsed:    0.4s\n",
      "[Parallel(n_jobs=4)]: Done 120 tasks      | elapsed:    2.1s\n",
      "[Parallel(n_jobs=4)]: Done 280 tasks      | elapsed:    4.8s\n",
      "[Parallel(n_jobs=4)]: Done 462 out of 462 | elapsed:    8.0s finished\n"
     ]
    },
    {
     "name": "stdout",
     "output_type": "stream",
     "text": [
      "[CV] .................................... , score=0.614, total=16.3min\n",
      "[CV]  ................................................................\n"
     ]
    },
    {
     "name": "stderr",
     "output_type": "stream",
     "text": [
      "[Parallel(n_jobs=1)]: Done   2 out of   2 | elapsed: 32.4min remaining:    0.0s\n",
      "[Parallel(n_jobs=-1)]: Using backend LokyBackend with 4 concurrent workers.\n",
      "[Parallel(n_jobs=-1)]: Done  24 tasks      | elapsed:   52.3s\n",
      "[Parallel(n_jobs=-1)]: Done 120 tasks      | elapsed:  4.2min\n",
      "[Parallel(n_jobs=-1)]: Done 280 tasks      | elapsed:  9.8min\n",
      "[Parallel(n_jobs=-1)]: Done 462 out of 462 | elapsed: 16.0min finished\n",
      "[Parallel(n_jobs=4)]: Using backend ThreadingBackend with 4 concurrent workers.\n",
      "[Parallel(n_jobs=4)]: Done  24 tasks      | elapsed:    0.4s\n",
      "[Parallel(n_jobs=4)]: Done 120 tasks      | elapsed:    2.1s\n",
      "[Parallel(n_jobs=4)]: Done 280 tasks      | elapsed:    5.0s\n",
      "[Parallel(n_jobs=4)]: Done 462 out of 462 | elapsed:    8.1s finished\n"
     ]
    },
    {
     "name": "stdout",
     "output_type": "stream",
     "text": [
      "[CV] .................................... , score=0.626, total=16.2min\n",
      "[CV]  ................................................................\n"
     ]
    },
    {
     "name": "stderr",
     "output_type": "stream",
     "text": [
      "[Parallel(n_jobs=-1)]: Using backend LokyBackend with 4 concurrent workers.\n",
      "[Parallel(n_jobs=-1)]: Done  24 tasks      | elapsed:   51.0s\n",
      "[Parallel(n_jobs=-1)]: Done 120 tasks      | elapsed:  4.3min\n",
      "[Parallel(n_jobs=-1)]: Done 280 tasks      | elapsed: 10.1min\n",
      "[Parallel(n_jobs=-1)]: Done 462 out of 462 | elapsed: 18.2min finished\n",
      "[Parallel(n_jobs=4)]: Using backend ThreadingBackend with 4 concurrent workers.\n",
      "[Parallel(n_jobs=4)]: Done  24 tasks      | elapsed:    0.5s\n",
      "[Parallel(n_jobs=4)]: Done 120 tasks      | elapsed:    2.3s\n",
      "[Parallel(n_jobs=4)]: Done 280 tasks      | elapsed:    5.2s\n",
      "[Parallel(n_jobs=4)]: Done 462 out of 462 | elapsed:    8.4s finished\n"
     ]
    },
    {
     "name": "stdout",
     "output_type": "stream",
     "text": [
      "[CV] .................................... , score=0.640, total=18.3min\n",
      "[CV]  ................................................................\n"
     ]
    },
    {
     "name": "stderr",
     "output_type": "stream",
     "text": [
      "[Parallel(n_jobs=-1)]: Using backend LokyBackend with 4 concurrent workers.\n",
      "[Parallel(n_jobs=-1)]: Done  24 tasks      | elapsed:   59.3s\n",
      "[Parallel(n_jobs=-1)]: Done 120 tasks      | elapsed:  5.2min\n",
      "[Parallel(n_jobs=-1)]: Done 280 tasks      | elapsed: 11.2min\n",
      "[Parallel(n_jobs=-1)]: Done 462 out of 462 | elapsed: 19.0min finished\n",
      "[Parallel(n_jobs=4)]: Using backend ThreadingBackend with 4 concurrent workers.\n",
      "[Parallel(n_jobs=4)]: Done  24 tasks      | elapsed:    0.6s\n",
      "[Parallel(n_jobs=4)]: Done 120 tasks      | elapsed:    3.8s\n",
      "[Parallel(n_jobs=4)]: Done 280 tasks      | elapsed:    7.4s\n",
      "[Parallel(n_jobs=4)]: Done 462 out of 462 | elapsed:   11.0s finished\n"
     ]
    },
    {
     "name": "stdout",
     "output_type": "stream",
     "text": [
      "[CV] .................................... , score=0.641, total=19.2min\n",
      "| \u001b[0m 26      \u001b[0m | \u001b[0m 0.6273  \u001b[0m | \u001b[0m 49.09   \u001b[0m | \u001b[0m 9.879   \u001b[0m | \u001b[0m 9.6     \u001b[0m | \u001b[0m 462.2   \u001b[0m |\n"
     ]
    },
    {
     "name": "stderr",
     "output_type": "stream",
     "text": [
      "[Parallel(n_jobs=1)]: Done   5 out of   5 | elapsed: 86.1min finished\n",
      "[Parallel(n_jobs=1)]: Using backend SequentialBackend with 1 concurrent workers.\n"
     ]
    },
    {
     "name": "stdout",
     "output_type": "stream",
     "text": [
      "[CV]  ................................................................\n"
     ]
    },
    {
     "name": "stderr",
     "output_type": "stream",
     "text": [
      "[Parallel(n_jobs=-1)]: Using backend LokyBackend with 4 concurrent workers.\n",
      "[Parallel(n_jobs=-1)]: Done  24 tasks      | elapsed:   37.1s\n",
      "[Parallel(n_jobs=-1)]: Done 120 tasks      | elapsed:  3.1min\n",
      "[Parallel(n_jobs=-1)]: Done 130 out of 130 | elapsed:  3.4min finished\n",
      "[Parallel(n_jobs=4)]: Using backend ThreadingBackend with 4 concurrent workers.\n",
      "[Parallel(n_jobs=4)]: Done  24 tasks      | elapsed:    0.5s\n",
      "[Parallel(n_jobs=4)]: Done 120 tasks      | elapsed:    2.9s\n",
      "[Parallel(n_jobs=4)]: Done 130 out of 130 | elapsed:    3.1s finished\n"
     ]
    },
    {
     "name": "stdout",
     "output_type": "stream",
     "text": [
      "[CV] .................................... , score=0.613, total= 3.4min\n",
      "[CV]  ................................................................\n"
     ]
    },
    {
     "name": "stderr",
     "output_type": "stream",
     "text": [
      "[Parallel(n_jobs=1)]: Done   1 out of   1 | elapsed:  3.4min remaining:    0.0s\n",
      "[Parallel(n_jobs=-1)]: Using backend LokyBackend with 4 concurrent workers.\n",
      "[Parallel(n_jobs=-1)]: Done  24 tasks      | elapsed:   40.8s\n",
      "[Parallel(n_jobs=-1)]: Done 120 tasks      | elapsed:  3.2min\n",
      "[Parallel(n_jobs=-1)]: Done 130 out of 130 | elapsed:  3.4min finished\n",
      "[Parallel(n_jobs=4)]: Using backend ThreadingBackend with 4 concurrent workers.\n",
      "[Parallel(n_jobs=4)]: Done  24 tasks      | elapsed:    0.6s\n",
      "[Parallel(n_jobs=4)]: Done 120 tasks      | elapsed:    2.8s\n",
      "[Parallel(n_jobs=4)]: Done 130 out of 130 | elapsed:    3.1s finished\n"
     ]
    },
    {
     "name": "stdout",
     "output_type": "stream",
     "text": [
      "[CV] .................................... , score=0.603, total= 3.5min\n",
      "[CV]  ................................................................\n"
     ]
    },
    {
     "name": "stderr",
     "output_type": "stream",
     "text": [
      "[Parallel(n_jobs=1)]: Done   2 out of   2 | elapsed:  6.9min remaining:    0.0s\n",
      "[Parallel(n_jobs=-1)]: Using backend LokyBackend with 4 concurrent workers.\n",
      "[Parallel(n_jobs=-1)]: Done  24 tasks      | elapsed:   37.7s\n",
      "[Parallel(n_jobs=-1)]: Done 120 tasks      | elapsed:  3.1min\n",
      "[Parallel(n_jobs=-1)]: Done 130 out of 130 | elapsed:  3.3min finished\n",
      "[Parallel(n_jobs=4)]: Using backend ThreadingBackend with 4 concurrent workers.\n",
      "[Parallel(n_jobs=4)]: Done  24 tasks      | elapsed:    0.5s\n",
      "[Parallel(n_jobs=4)]: Done 120 tasks      | elapsed:    3.0s\n",
      "[Parallel(n_jobs=4)]: Done 130 out of 130 | elapsed:    3.2s finished\n"
     ]
    },
    {
     "name": "stdout",
     "output_type": "stream",
     "text": [
      "[CV] .................................... , score=0.619, total= 3.4min\n",
      "[CV]  ................................................................\n"
     ]
    },
    {
     "name": "stderr",
     "output_type": "stream",
     "text": [
      "[Parallel(n_jobs=-1)]: Using backend LokyBackend with 4 concurrent workers.\n",
      "[Parallel(n_jobs=-1)]: Done  24 tasks      | elapsed:   41.2s\n",
      "[Parallel(n_jobs=-1)]: Done 120 tasks      | elapsed:  3.2min\n",
      "[Parallel(n_jobs=-1)]: Done 130 out of 130 | elapsed:  3.4min finished\n",
      "[Parallel(n_jobs=4)]: Using backend ThreadingBackend with 4 concurrent workers.\n",
      "[Parallel(n_jobs=4)]: Done  24 tasks      | elapsed:    0.9s\n",
      "[Parallel(n_jobs=4)]: Done 120 tasks      | elapsed:    2.8s\n",
      "[Parallel(n_jobs=4)]: Done 130 out of 130 | elapsed:    3.1s finished\n"
     ]
    },
    {
     "name": "stdout",
     "output_type": "stream",
     "text": [
      "[CV] .................................... , score=0.626, total= 3.5min\n",
      "[CV]  ................................................................\n"
     ]
    },
    {
     "name": "stderr",
     "output_type": "stream",
     "text": [
      "[Parallel(n_jobs=-1)]: Using backend LokyBackend with 4 concurrent workers.\n",
      "[Parallel(n_jobs=-1)]: Done  24 tasks      | elapsed:   31.1s\n",
      "[Parallel(n_jobs=-1)]: Done 120 tasks      | elapsed:  3.1min\n",
      "[Parallel(n_jobs=-1)]: Done 130 out of 130 | elapsed:  3.3min finished\n",
      "[Parallel(n_jobs=4)]: Using backend ThreadingBackend with 4 concurrent workers.\n",
      "[Parallel(n_jobs=4)]: Done  24 tasks      | elapsed:    0.8s\n",
      "[Parallel(n_jobs=4)]: Done 120 tasks      | elapsed:    3.1s\n",
      "[Parallel(n_jobs=4)]: Done 130 out of 130 | elapsed:    3.3s finished\n"
     ]
    },
    {
     "name": "stdout",
     "output_type": "stream",
     "text": [
      "[CV] .................................... , score=0.630, total= 3.4min\n",
      "| \u001b[0m 27      \u001b[0m | \u001b[0m 0.6183  \u001b[0m | \u001b[0m 24.56   \u001b[0m | \u001b[0m 9.977   \u001b[0m | \u001b[0m 2.585   \u001b[0m | \u001b[0m 130.9   \u001b[0m |\n"
     ]
    },
    {
     "name": "stderr",
     "output_type": "stream",
     "text": [
      "[Parallel(n_jobs=1)]: Done   5 out of   5 | elapsed: 17.1min finished\n",
      "[Parallel(n_jobs=1)]: Using backend SequentialBackend with 1 concurrent workers.\n"
     ]
    },
    {
     "name": "stdout",
     "output_type": "stream",
     "text": [
      "[CV]  ................................................................\n"
     ]
    },
    {
     "name": "stderr",
     "output_type": "stream",
     "text": [
      "[Parallel(n_jobs=-1)]: Using backend LokyBackend with 4 concurrent workers.\n",
      "[Parallel(n_jobs=-1)]: Done  24 tasks      | elapsed:  1.1min\n",
      "[Parallel(n_jobs=-1)]: Done 120 tasks      | elapsed:  4.6min\n",
      "[Parallel(n_jobs=-1)]: Done 280 tasks      | elapsed: 11.0min\n",
      "[Parallel(n_jobs=-1)]: Done 372 out of 372 | elapsed: 14.6min finished\n",
      "[Parallel(n_jobs=4)]: Using backend ThreadingBackend with 4 concurrent workers.\n",
      "[Parallel(n_jobs=4)]: Done  24 tasks      | elapsed:    0.7s\n",
      "[Parallel(n_jobs=4)]: Done 120 tasks      | elapsed:    3.2s\n",
      "[Parallel(n_jobs=4)]: Done 280 tasks      | elapsed:    7.0s\n",
      "[Parallel(n_jobs=4)]: Done 372 out of 372 | elapsed:    9.2s finished\n"
     ]
    },
    {
     "name": "stdout",
     "output_type": "stream",
     "text": [
      "[CV] .................................... , score=0.619, total=14.8min\n",
      "[CV]  ................................................................\n"
     ]
    },
    {
     "name": "stderr",
     "output_type": "stream",
     "text": [
      "[Parallel(n_jobs=1)]: Done   1 out of   1 | elapsed: 14.8min remaining:    0.0s\n",
      "[Parallel(n_jobs=-1)]: Using backend LokyBackend with 4 concurrent workers.\n",
      "[Parallel(n_jobs=-1)]: Done  24 tasks      | elapsed:   50.0s\n",
      "[Parallel(n_jobs=-1)]: Done 120 tasks      | elapsed:  4.6min\n",
      "[Parallel(n_jobs=-1)]: Done 280 tasks      | elapsed: 11.3min\n",
      "[Parallel(n_jobs=-1)]: Done 372 out of 372 | elapsed: 15.2min finished\n",
      "[Parallel(n_jobs=4)]: Using backend ThreadingBackend with 4 concurrent workers.\n",
      "[Parallel(n_jobs=4)]: Done  24 tasks      | elapsed:    0.8s\n",
      "[Parallel(n_jobs=4)]: Done 120 tasks      | elapsed:    3.7s\n",
      "[Parallel(n_jobs=4)]: Done 280 tasks      | elapsed:    7.5s\n",
      "[Parallel(n_jobs=4)]: Done 372 out of 372 | elapsed:    9.8s finished\n"
     ]
    },
    {
     "name": "stdout",
     "output_type": "stream",
     "text": [
      "[CV] .................................... , score=0.613, total=15.4min\n",
      "[CV]  ................................................................\n"
     ]
    },
    {
     "name": "stderr",
     "output_type": "stream",
     "text": [
      "[Parallel(n_jobs=1)]: Done   2 out of   2 | elapsed: 30.1min remaining:    0.0s\n",
      "[Parallel(n_jobs=-1)]: Using backend LokyBackend with 4 concurrent workers.\n",
      "[Parallel(n_jobs=-1)]: Done  24 tasks      | elapsed:   59.1s\n",
      "[Parallel(n_jobs=-1)]: Done 120 tasks      | elapsed:  4.5min\n",
      "[Parallel(n_jobs=-1)]: Done 280 tasks      | elapsed: 11.4min\n",
      "[Parallel(n_jobs=-1)]: Done 372 out of 372 | elapsed: 15.3min finished\n",
      "[Parallel(n_jobs=4)]: Using backend ThreadingBackend with 4 concurrent workers.\n",
      "[Parallel(n_jobs=4)]: Done  24 tasks      | elapsed:    0.5s\n",
      "[Parallel(n_jobs=4)]: Done 120 tasks      | elapsed:    2.2s\n",
      "[Parallel(n_jobs=4)]: Done 280 tasks      | elapsed:    5.0s\n",
      "[Parallel(n_jobs=4)]: Done 372 out of 372 | elapsed:    6.6s finished\n"
     ]
    },
    {
     "name": "stdout",
     "output_type": "stream",
     "text": [
      "[CV] .................................... , score=0.627, total=15.4min\n",
      "[CV]  ................................................................\n"
     ]
    },
    {
     "name": "stderr",
     "output_type": "stream",
     "text": [
      "[Parallel(n_jobs=-1)]: Using backend LokyBackend with 4 concurrent workers.\n",
      "[Parallel(n_jobs=-1)]: Done  24 tasks      | elapsed:   47.1s\n",
      "[Parallel(n_jobs=-1)]: Done 120 tasks      | elapsed:  5.1min\n",
      "[Parallel(n_jobs=-1)]: Done 280 tasks      | elapsed: 11.9min\n",
      "[Parallel(n_jobs=-1)]: Done 372 out of 372 | elapsed: 15.5min finished\n",
      "[Parallel(n_jobs=4)]: Using backend ThreadingBackend with 4 concurrent workers.\n",
      "[Parallel(n_jobs=4)]: Done  24 tasks      | elapsed:    0.6s\n",
      "[Parallel(n_jobs=4)]: Done 120 tasks      | elapsed:    2.7s\n",
      "[Parallel(n_jobs=4)]: Done 280 tasks      | elapsed:    7.2s\n",
      "[Parallel(n_jobs=4)]: Done 372 out of 372 | elapsed:    9.4s finished\n"
     ]
    },
    {
     "name": "stdout",
     "output_type": "stream",
     "text": [
      "[CV] .................................... , score=0.638, total=15.7min\n",
      "[CV]  ................................................................\n"
     ]
    },
    {
     "name": "stderr",
     "output_type": "stream",
     "text": [
      "[Parallel(n_jobs=-1)]: Using backend LokyBackend with 4 concurrent workers.\n",
      "[Parallel(n_jobs=-1)]: Done  24 tasks      | elapsed:  1.3min\n",
      "[Parallel(n_jobs=-1)]: Done 120 tasks      | elapsed:  6.3min\n",
      "[Parallel(n_jobs=-1)]: Done 280 tasks      | elapsed: 12.6min\n",
      "[Parallel(n_jobs=-1)]: Done 372 out of 372 | elapsed: 16.4min finished\n",
      "[Parallel(n_jobs=4)]: Using backend ThreadingBackend with 4 concurrent workers.\n",
      "[Parallel(n_jobs=4)]: Done  24 tasks      | elapsed:    0.7s\n",
      "[Parallel(n_jobs=4)]: Done 120 tasks      | elapsed:    2.9s\n",
      "[Parallel(n_jobs=4)]: Done 280 tasks      | elapsed:    6.1s\n",
      "[Parallel(n_jobs=4)]: Done 372 out of 372 | elapsed:    7.7s finished\n"
     ]
    },
    {
     "name": "stdout",
     "output_type": "stream",
     "text": [
      "[CV] .................................... , score=0.643, total=16.5min\n",
      "| \u001b[0m 28      \u001b[0m | \u001b[0m 0.6281  \u001b[0m | \u001b[0m 41.65   \u001b[0m | \u001b[0m 9.963   \u001b[0m | \u001b[0m 2.391   \u001b[0m | \u001b[0m 372.8   \u001b[0m |\n"
     ]
    },
    {
     "name": "stderr",
     "output_type": "stream",
     "text": [
      "[Parallel(n_jobs=1)]: Done   5 out of   5 | elapsed: 77.8min finished\n",
      "[Parallel(n_jobs=1)]: Using backend SequentialBackend with 1 concurrent workers.\n"
     ]
    },
    {
     "name": "stdout",
     "output_type": "stream",
     "text": [
      "[CV]  ................................................................\n"
     ]
    },
    {
     "name": "stderr",
     "output_type": "stream",
     "text": [
      "[Parallel(n_jobs=-1)]: Using backend LokyBackend with 4 concurrent workers.\n",
      "[Parallel(n_jobs=-1)]: Done  24 tasks      | elapsed:  1.0min\n",
      "[Parallel(n_jobs=-1)]: Done 120 tasks      | elapsed:  5.0min\n",
      "[Parallel(n_jobs=-1)]: Done 280 tasks      | elapsed: 11.1min\n",
      "[Parallel(n_jobs=-1)]: Done 484 out of 484 | elapsed: 18.4min finished\n",
      "[Parallel(n_jobs=4)]: Using backend ThreadingBackend with 4 concurrent workers.\n",
      "[Parallel(n_jobs=4)]: Done  24 tasks      | elapsed:    0.5s\n",
      "[Parallel(n_jobs=4)]: Done 120 tasks      | elapsed:    2.7s\n",
      "[Parallel(n_jobs=4)]: Done 280 tasks      | elapsed:    5.7s\n",
      "[Parallel(n_jobs=4)]: Done 484 out of 484 | elapsed:    9.2s finished\n"
     ]
    },
    {
     "name": "stdout",
     "output_type": "stream",
     "text": [
      "[CV] .................................... , score=0.616, total=18.6min\n",
      "[CV]  ................................................................\n"
     ]
    },
    {
     "name": "stderr",
     "output_type": "stream",
     "text": [
      "[Parallel(n_jobs=1)]: Done   1 out of   1 | elapsed: 18.6min remaining:    0.0s\n",
      "[Parallel(n_jobs=-1)]: Using backend LokyBackend with 4 concurrent workers.\n",
      "[Parallel(n_jobs=-1)]: Done  24 tasks      | elapsed:   54.6s\n",
      "[Parallel(n_jobs=-1)]: Done 120 tasks      | elapsed:  4.4min\n",
      "[Parallel(n_jobs=-1)]: Done 280 tasks      | elapsed: 10.2min\n",
      "[Parallel(n_jobs=-1)]: Done 484 out of 484 | elapsed: 17.5min finished\n",
      "[Parallel(n_jobs=4)]: Using backend ThreadingBackend with 4 concurrent workers.\n",
      "[Parallel(n_jobs=4)]: Done  24 tasks      | elapsed:    0.4s\n",
      "[Parallel(n_jobs=4)]: Done 120 tasks      | elapsed:    2.2s\n",
      "[Parallel(n_jobs=4)]: Done 280 tasks      | elapsed:    5.1s\n",
      "[Parallel(n_jobs=4)]: Done 484 out of 484 | elapsed:    8.6s finished\n"
     ]
    },
    {
     "name": "stdout",
     "output_type": "stream",
     "text": [
      "[CV] .................................... , score=0.614, total=17.7min\n",
      "[CV]  ................................................................\n"
     ]
    },
    {
     "name": "stderr",
     "output_type": "stream",
     "text": [
      "[Parallel(n_jobs=1)]: Done   2 out of   2 | elapsed: 36.3min remaining:    0.0s\n",
      "[Parallel(n_jobs=-1)]: Using backend LokyBackend with 4 concurrent workers.\n",
      "[Parallel(n_jobs=-1)]: Done  24 tasks      | elapsed:   52.7s\n",
      "[Parallel(n_jobs=-1)]: Done 120 tasks      | elapsed:  4.3min\n",
      "[Parallel(n_jobs=-1)]: Done 280 tasks      | elapsed: 10.1min\n",
      "[Parallel(n_jobs=-1)]: Done 484 out of 484 | elapsed: 17.4min finished\n",
      "[Parallel(n_jobs=4)]: Using backend ThreadingBackend with 4 concurrent workers.\n",
      "[Parallel(n_jobs=4)]: Done  24 tasks      | elapsed:    0.4s\n",
      "[Parallel(n_jobs=4)]: Done 120 tasks      | elapsed:    2.1s\n",
      "[Parallel(n_jobs=4)]: Done 280 tasks      | elapsed:    4.9s\n",
      "[Parallel(n_jobs=4)]: Done 484 out of 484 | elapsed:    8.6s finished\n"
     ]
    },
    {
     "name": "stdout",
     "output_type": "stream",
     "text": [
      "[CV] .................................... , score=0.627, total=17.5min\n",
      "[CV]  ................................................................\n"
     ]
    },
    {
     "name": "stderr",
     "output_type": "stream",
     "text": [
      "[Parallel(n_jobs=-1)]: Using backend LokyBackend with 4 concurrent workers.\n",
      "[Parallel(n_jobs=-1)]: Done  24 tasks      | elapsed:   52.3s\n",
      "[Parallel(n_jobs=-1)]: Done 120 tasks      | elapsed:  4.4min\n",
      "[Parallel(n_jobs=-1)]: Done 280 tasks      | elapsed: 10.2min\n",
      "[Parallel(n_jobs=-1)]: Done 484 out of 484 | elapsed: 17.4min finished\n",
      "[Parallel(n_jobs=4)]: Using backend ThreadingBackend with 4 concurrent workers.\n",
      "[Parallel(n_jobs=4)]: Done  24 tasks      | elapsed:    0.4s\n",
      "[Parallel(n_jobs=4)]: Done 120 tasks      | elapsed:    2.1s\n",
      "[Parallel(n_jobs=4)]: Done 280 tasks      | elapsed:    4.9s\n",
      "[Parallel(n_jobs=4)]: Done 484 out of 484 | elapsed:    8.4s finished\n"
     ]
    },
    {
     "name": "stdout",
     "output_type": "stream",
     "text": [
      "[CV] .................................... , score=0.646, total=17.6min\n",
      "[CV]  ................................................................\n"
     ]
    },
    {
     "name": "stderr",
     "output_type": "stream",
     "text": [
      "[Parallel(n_jobs=-1)]: Using backend LokyBackend with 4 concurrent workers.\n",
      "[Parallel(n_jobs=-1)]: Done  24 tasks      | elapsed:   53.0s\n",
      "[Parallel(n_jobs=-1)]: Done 120 tasks      | elapsed:  4.3min\n",
      "[Parallel(n_jobs=-1)]: Done 280 tasks      | elapsed: 10.1min\n",
      "[Parallel(n_jobs=-1)]: Done 484 out of 484 | elapsed: 17.3min finished\n",
      "[Parallel(n_jobs=4)]: Using backend ThreadingBackend with 4 concurrent workers.\n",
      "[Parallel(n_jobs=4)]: Done  24 tasks      | elapsed:    0.4s\n",
      "[Parallel(n_jobs=4)]: Done 120 tasks      | elapsed:    2.1s\n",
      "[Parallel(n_jobs=4)]: Done 280 tasks      | elapsed:    4.9s\n",
      "[Parallel(n_jobs=4)]: Done 484 out of 484 | elapsed:    8.7s finished\n"
     ]
    },
    {
     "name": "stdout",
     "output_type": "stream",
     "text": [
      "[CV] .................................... , score=0.642, total=17.5min\n",
      "| \u001b[0m 29      \u001b[0m | \u001b[0m 0.629   \u001b[0m | \u001b[0m 49.65   \u001b[0m | \u001b[0m 8.777   \u001b[0m | \u001b[0m 3.816   \u001b[0m | \u001b[0m 484.4   \u001b[0m |\n"
     ]
    },
    {
     "name": "stderr",
     "output_type": "stream",
     "text": [
      "[Parallel(n_jobs=1)]: Done   5 out of   5 | elapsed: 88.8min finished\n",
      "[Parallel(n_jobs=1)]: Using backend SequentialBackend with 1 concurrent workers.\n"
     ]
    },
    {
     "name": "stdout",
     "output_type": "stream",
     "text": [
      "[CV]  ................................................................\n"
     ]
    },
    {
     "name": "stderr",
     "output_type": "stream",
     "text": [
      "[Parallel(n_jobs=-1)]: Using backend LokyBackend with 4 concurrent workers.\n",
      "[Parallel(n_jobs=-1)]: Done  24 tasks      | elapsed:   55.4s\n",
      "[Parallel(n_jobs=-1)]: Done 120 tasks      | elapsed:  4.3min\n",
      "[Parallel(n_jobs=-1)]: Done 280 tasks      | elapsed:  9.9min\n",
      "[Parallel(n_jobs=-1)]: Done 492 out of 492 | elapsed: 17.9min finished\n",
      "[Parallel(n_jobs=4)]: Using backend ThreadingBackend with 4 concurrent workers.\n",
      "[Parallel(n_jobs=4)]: Done  24 tasks      | elapsed:    0.5s\n",
      "[Parallel(n_jobs=4)]: Done 120 tasks      | elapsed:    2.7s\n",
      "[Parallel(n_jobs=4)]: Done 280 tasks      | elapsed:    6.2s\n",
      "[Parallel(n_jobs=4)]: Done 492 out of 492 | elapsed:   11.3s finished\n"
     ]
    },
    {
     "name": "stdout",
     "output_type": "stream",
     "text": [
      "[CV] .................................... , score=0.618, total=18.1min\n",
      "[CV]  ................................................................\n"
     ]
    },
    {
     "name": "stderr",
     "output_type": "stream",
     "text": [
      "[Parallel(n_jobs=1)]: Done   1 out of   1 | elapsed: 18.1min remaining:    0.0s\n",
      "[Parallel(n_jobs=-1)]: Using backend LokyBackend with 4 concurrent workers.\n",
      "[Parallel(n_jobs=-1)]: Done  24 tasks      | elapsed:  1.3min\n",
      "[Parallel(n_jobs=-1)]: Done 120 tasks      | elapsed:  6.2min\n",
      "[Parallel(n_jobs=-1)]: Done 280 tasks      | elapsed: 12.5min\n",
      "[Parallel(n_jobs=-1)]: Done 492 out of 492 | elapsed: 21.4min finished\n",
      "[Parallel(n_jobs=4)]: Using backend ThreadingBackend with 4 concurrent workers.\n",
      "[Parallel(n_jobs=4)]: Done  24 tasks      | elapsed:    0.5s\n",
      "[Parallel(n_jobs=4)]: Done 120 tasks      | elapsed:    2.2s\n",
      "[Parallel(n_jobs=4)]: Done 280 tasks      | elapsed:    4.8s\n",
      "[Parallel(n_jobs=4)]: Done 492 out of 492 | elapsed:    8.3s finished\n"
     ]
    },
    {
     "name": "stdout",
     "output_type": "stream",
     "text": [
      "[CV] .................................... , score=0.613, total=21.5min\n",
      "[CV]  ................................................................\n"
     ]
    },
    {
     "name": "stderr",
     "output_type": "stream",
     "text": [
      "[Parallel(n_jobs=1)]: Done   2 out of   2 | elapsed: 39.7min remaining:    0.0s\n",
      "[Parallel(n_jobs=-1)]: Using backend LokyBackend with 4 concurrent workers.\n",
      "[Parallel(n_jobs=-1)]: Done  24 tasks      | elapsed:  1.1min\n",
      "[Parallel(n_jobs=-1)]: Done 120 tasks      | elapsed:  5.2min\n",
      "[Parallel(n_jobs=-1)]: Done 280 tasks      | elapsed: 12.2min\n",
      "[Parallel(n_jobs=-1)]: Done 492 out of 492 | elapsed: 21.4min finished\n",
      "[Parallel(n_jobs=4)]: Using backend ThreadingBackend with 4 concurrent workers.\n",
      "[Parallel(n_jobs=4)]: Done  24 tasks      | elapsed:    0.5s\n",
      "[Parallel(n_jobs=4)]: Done 120 tasks      | elapsed:    2.3s\n",
      "[Parallel(n_jobs=4)]: Done 280 tasks      | elapsed:    5.0s\n",
      "[Parallel(n_jobs=4)]: Done 492 out of 492 | elapsed:    8.6s finished\n"
     ]
    },
    {
     "name": "stdout",
     "output_type": "stream",
     "text": [
      "[CV] .................................... , score=0.626, total=21.5min\n",
      "[CV]  ................................................................\n"
     ]
    },
    {
     "name": "stderr",
     "output_type": "stream",
     "text": [
      "[Parallel(n_jobs=-1)]: Using backend LokyBackend with 4 concurrent workers.\n",
      "[Parallel(n_jobs=-1)]: Done  24 tasks      | elapsed:  1.0min\n",
      "[Parallel(n_jobs=-1)]: Done 120 tasks      | elapsed:  5.2min\n",
      "[Parallel(n_jobs=-1)]: Done 280 tasks      | elapsed: 12.1min\n",
      "[Parallel(n_jobs=-1)]: Done 492 out of 492 | elapsed: 21.1min finished\n",
      "[Parallel(n_jobs=4)]: Using backend ThreadingBackend with 4 concurrent workers.\n",
      "[Parallel(n_jobs=4)]: Done  24 tasks      | elapsed:    0.5s\n",
      "[Parallel(n_jobs=4)]: Done 120 tasks      | elapsed:    2.1s\n",
      "[Parallel(n_jobs=4)]: Done 280 tasks      | elapsed:    4.8s\n",
      "[Parallel(n_jobs=4)]: Done 492 out of 492 | elapsed:    8.4s finished\n"
     ]
    },
    {
     "name": "stdout",
     "output_type": "stream",
     "text": [
      "[CV] .................................... , score=0.640, total=21.3min\n",
      "[CV]  ................................................................\n"
     ]
    },
    {
     "name": "stderr",
     "output_type": "stream",
     "text": [
      "[Parallel(n_jobs=-1)]: Using backend LokyBackend with 4 concurrent workers.\n",
      "[Parallel(n_jobs=-1)]: Done  24 tasks      | elapsed:  1.1min\n",
      "[Parallel(n_jobs=-1)]: Done 120 tasks      | elapsed:  5.2min\n",
      "[Parallel(n_jobs=-1)]: Done 280 tasks      | elapsed: 12.1min\n",
      "[Parallel(n_jobs=-1)]: Done 492 out of 492 | elapsed: 21.0min finished\n",
      "[Parallel(n_jobs=4)]: Using backend ThreadingBackend with 4 concurrent workers.\n",
      "[Parallel(n_jobs=4)]: Done  24 tasks      | elapsed:    0.5s\n",
      "[Parallel(n_jobs=4)]: Done 120 tasks      | elapsed:    2.1s\n",
      "[Parallel(n_jobs=4)]: Done 280 tasks      | elapsed:    4.8s\n",
      "[Parallel(n_jobs=4)]: Done 492 out of 492 | elapsed:    8.4s finished\n"
     ]
    },
    {
     "name": "stdout",
     "output_type": "stream",
     "text": [
      "[CV] .................................... , score=0.641, total=21.1min\n",
      "| \u001b[0m 30      \u001b[0m | \u001b[0m 0.6276  \u001b[0m | \u001b[0m 49.49   \u001b[0m | \u001b[0m 9.503   \u001b[0m | \u001b[0m 9.668   \u001b[0m | \u001b[0m 492.1   \u001b[0m |\n"
     ]
    },
    {
     "name": "stderr",
     "output_type": "stream",
     "text": [
      "[Parallel(n_jobs=1)]: Done   5 out of   5 | elapsed: 103.6min finished\n",
      "[Parallel(n_jobs=1)]: Using backend SequentialBackend with 1 concurrent workers.\n",
      "[Parallel(n_jobs=-1)]: Using backend LokyBackend with 4 concurrent workers.\n"
     ]
    },
    {
     "name": "stdout",
     "output_type": "stream",
     "text": [
      "[CV]  ................................................................\n"
     ]
    },
    {
     "name": "stderr",
     "output_type": "stream",
     "text": [
      "[Parallel(n_jobs=-1)]: Done  24 tasks      | elapsed:  1.0min\n",
      "[Parallel(n_jobs=-1)]: Done 120 tasks      | elapsed:  5.0min\n",
      "[Parallel(n_jobs=-1)]: Done 222 out of 222 | elapsed:  9.1min finished\n",
      "[Parallel(n_jobs=4)]: Using backend ThreadingBackend with 4 concurrent workers.\n",
      "[Parallel(n_jobs=4)]: Done  24 tasks      | elapsed:    0.5s\n",
      "[Parallel(n_jobs=4)]: Done 120 tasks      | elapsed:    2.1s\n",
      "[Parallel(n_jobs=4)]: Done 222 out of 222 | elapsed:    3.8s finished\n"
     ]
    },
    {
     "name": "stdout",
     "output_type": "stream",
     "text": [
      "[CV] .................................... , score=0.611, total= 9.1min\n",
      "[CV]  ................................................................\n"
     ]
    },
    {
     "name": "stderr",
     "output_type": "stream",
     "text": [
      "[Parallel(n_jobs=1)]: Done   1 out of   1 | elapsed:  9.1min remaining:    0.0s\n",
      "[Parallel(n_jobs=-1)]: Using backend LokyBackend with 4 concurrent workers.\n",
      "[Parallel(n_jobs=-1)]: Done  24 tasks      | elapsed:  1.0min\n",
      "[Parallel(n_jobs=-1)]: Done 120 tasks      | elapsed:  5.0min\n",
      "[Parallel(n_jobs=-1)]: Done 222 out of 222 | elapsed:  9.2min finished\n",
      "[Parallel(n_jobs=4)]: Using backend ThreadingBackend with 4 concurrent workers.\n",
      "[Parallel(n_jobs=4)]: Done  24 tasks      | elapsed:    0.4s\n",
      "[Parallel(n_jobs=4)]: Done 120 tasks      | elapsed:    2.1s\n",
      "[Parallel(n_jobs=4)]: Done 222 out of 222 | elapsed:    3.8s finished\n"
     ]
    },
    {
     "name": "stdout",
     "output_type": "stream",
     "text": [
      "[CV] .................................... , score=0.607, total= 9.2min\n",
      "[CV]  ................................................................\n"
     ]
    },
    {
     "name": "stderr",
     "output_type": "stream",
     "text": [
      "[Parallel(n_jobs=1)]: Done   2 out of   2 | elapsed: 18.4min remaining:    0.0s\n",
      "[Parallel(n_jobs=-1)]: Using backend LokyBackend with 4 concurrent workers.\n",
      "[Parallel(n_jobs=-1)]: Done  24 tasks      | elapsed:   60.0s\n",
      "[Parallel(n_jobs=-1)]: Done 120 tasks      | elapsed:  5.0min\n",
      "[Parallel(n_jobs=-1)]: Done 222 out of 222 | elapsed:  9.2min finished\n",
      "[Parallel(n_jobs=4)]: Using backend ThreadingBackend with 4 concurrent workers.\n",
      "[Parallel(n_jobs=4)]: Done  24 tasks      | elapsed:    0.5s\n",
      "[Parallel(n_jobs=4)]: Done 120 tasks      | elapsed:    2.2s\n",
      "[Parallel(n_jobs=4)]: Done 222 out of 222 | elapsed:    4.0s finished\n"
     ]
    },
    {
     "name": "stdout",
     "output_type": "stream",
     "text": [
      "[CV] .................................... , score=0.623, total= 9.2min\n",
      "[CV]  ................................................................\n"
     ]
    },
    {
     "name": "stderr",
     "output_type": "stream",
     "text": [
      "[Parallel(n_jobs=-1)]: Using backend LokyBackend with 4 concurrent workers.\n",
      "[Parallel(n_jobs=-1)]: Done  24 tasks      | elapsed:  1.0min\n",
      "[Parallel(n_jobs=-1)]: Done 120 tasks      | elapsed:  5.0min\n",
      "[Parallel(n_jobs=-1)]: Done 222 out of 222 | elapsed:  9.2min finished\n",
      "[Parallel(n_jobs=4)]: Using backend ThreadingBackend with 4 concurrent workers.\n",
      "[Parallel(n_jobs=4)]: Done  24 tasks      | elapsed:    0.5s\n",
      "[Parallel(n_jobs=4)]: Done 120 tasks      | elapsed:    2.1s\n",
      "[Parallel(n_jobs=4)]: Done 222 out of 222 | elapsed:    3.8s finished\n"
     ]
    },
    {
     "name": "stdout",
     "output_type": "stream",
     "text": [
      "[CV] .................................... , score=0.634, total= 9.3min\n",
      "[CV]  ................................................................\n"
     ]
    },
    {
     "name": "stderr",
     "output_type": "stream",
     "text": [
      "[Parallel(n_jobs=-1)]: Using backend LokyBackend with 4 concurrent workers.\n",
      "[Parallel(n_jobs=-1)]: Done  24 tasks      | elapsed:   59.3s\n",
      "[Parallel(n_jobs=-1)]: Done 120 tasks      | elapsed:  5.0min\n",
      "[Parallel(n_jobs=-1)]: Done 222 out of 222 | elapsed:  9.2min finished\n",
      "[Parallel(n_jobs=4)]: Using backend ThreadingBackend with 4 concurrent workers.\n",
      "[Parallel(n_jobs=4)]: Done  24 tasks      | elapsed:    0.5s\n",
      "[Parallel(n_jobs=4)]: Done 120 tasks      | elapsed:    2.4s\n",
      "[Parallel(n_jobs=4)]: Done 222 out of 222 | elapsed:    4.1s finished\n"
     ]
    },
    {
     "name": "stdout",
     "output_type": "stream",
     "text": [
      "[CV] .................................... , score=0.635, total= 9.3min\n",
      "| \u001b[0m 31      \u001b[0m | \u001b[0m 0.6222  \u001b[0m | \u001b[0m 46.56   \u001b[0m | \u001b[0m 9.364   \u001b[0m | \u001b[0m 2.143   \u001b[0m | \u001b[0m 222.9   \u001b[0m |\n"
     ]
    },
    {
     "name": "stderr",
     "output_type": "stream",
     "text": [
      "[Parallel(n_jobs=1)]: Done   5 out of   5 | elapsed: 46.2min finished\n",
      "[Parallel(n_jobs=1)]: Using backend SequentialBackend with 1 concurrent workers.\n"
     ]
    },
    {
     "name": "stdout",
     "output_type": "stream",
     "text": [
      "[CV]  ................................................................\n"
     ]
    },
    {
     "name": "stderr",
     "output_type": "stream",
     "text": [
      "[Parallel(n_jobs=-1)]: Using backend LokyBackend with 4 concurrent workers.\n",
      "[Parallel(n_jobs=-1)]: Done  24 tasks      | elapsed:  1.1min\n",
      "[Parallel(n_jobs=-1)]: Done 120 tasks      | elapsed:  5.2min\n",
      "[Parallel(n_jobs=-1)]: Done 280 tasks      | elapsed: 11.9min\n",
      "[Parallel(n_jobs=-1)]: Done 478 out of 478 | elapsed: 20.2min finished\n",
      "[Parallel(n_jobs=4)]: Using backend ThreadingBackend with 4 concurrent workers.\n",
      "[Parallel(n_jobs=4)]: Done  24 tasks      | elapsed:    0.5s\n",
      "[Parallel(n_jobs=4)]: Done 120 tasks      | elapsed:    2.1s\n",
      "[Parallel(n_jobs=4)]: Done 280 tasks      | elapsed:    4.8s\n",
      "[Parallel(n_jobs=4)]: Done 478 out of 478 | elapsed:    8.2s finished\n"
     ]
    },
    {
     "name": "stdout",
     "output_type": "stream",
     "text": [
      "[CV] .................................... , score=0.617, total=20.3min\n",
      "[CV]  ................................................................\n"
     ]
    },
    {
     "name": "stderr",
     "output_type": "stream",
     "text": [
      "[Parallel(n_jobs=1)]: Done   1 out of   1 | elapsed: 20.3min remaining:    0.0s\n",
      "[Parallel(n_jobs=-1)]: Using backend LokyBackend with 4 concurrent workers.\n",
      "[Parallel(n_jobs=-1)]: Done  24 tasks      | elapsed:  1.0min\n",
      "[Parallel(n_jobs=-1)]: Done 120 tasks      | elapsed:  5.1min\n",
      "[Parallel(n_jobs=-1)]: Done 280 tasks      | elapsed: 12.0min\n",
      "[Parallel(n_jobs=-1)]: Done 478 out of 478 | elapsed: 20.5min finished\n",
      "[Parallel(n_jobs=4)]: Using backend ThreadingBackend with 4 concurrent workers.\n",
      "[Parallel(n_jobs=4)]: Done  24 tasks      | elapsed:    0.5s\n",
      "[Parallel(n_jobs=4)]: Done 120 tasks      | elapsed:    2.1s\n",
      "[Parallel(n_jobs=4)]: Done 280 tasks      | elapsed:    4.8s\n",
      "[Parallel(n_jobs=4)]: Done 478 out of 478 | elapsed:    8.1s finished\n"
     ]
    },
    {
     "name": "stdout",
     "output_type": "stream",
     "text": [
      "[CV] .................................... , score=0.614, total=20.6min\n",
      "[CV]  ................................................................\n"
     ]
    },
    {
     "name": "stderr",
     "output_type": "stream",
     "text": [
      "[Parallel(n_jobs=1)]: Done   2 out of   2 | elapsed: 41.0min remaining:    0.0s\n",
      "[Parallel(n_jobs=-1)]: Using backend LokyBackend with 4 concurrent workers.\n",
      "[Parallel(n_jobs=-1)]: Done  24 tasks      | elapsed:  1.0min\n",
      "[Parallel(n_jobs=-1)]: Done 120 tasks      | elapsed:  4.6min\n",
      "[Parallel(n_jobs=-1)]: Done 280 tasks      | elapsed: 10.1min\n",
      "[Parallel(n_jobs=-1)]: Done 478 out of 478 | elapsed: 16.8min finished\n",
      "[Parallel(n_jobs=4)]: Using backend ThreadingBackend with 4 concurrent workers.\n",
      "[Parallel(n_jobs=4)]: Done  24 tasks      | elapsed:    0.4s\n",
      "[Parallel(n_jobs=4)]: Done 120 tasks      | elapsed:    2.1s\n",
      "[Parallel(n_jobs=4)]: Done 280 tasks      | elapsed:    4.9s\n",
      "[Parallel(n_jobs=4)]: Done 478 out of 478 | elapsed:    8.2s finished\n"
     ]
    },
    {
     "name": "stdout",
     "output_type": "stream",
     "text": [
      "[CV] .................................... , score=0.629, total=16.9min\n",
      "[CV]  ................................................................\n"
     ]
    },
    {
     "name": "stderr",
     "output_type": "stream",
     "text": [
      "[Parallel(n_jobs=-1)]: Using backend LokyBackend with 4 concurrent workers.\n",
      "[Parallel(n_jobs=-1)]: Done  24 tasks      | elapsed:   50.7s\n",
      "[Parallel(n_jobs=-1)]: Done 120 tasks      | elapsed:  4.2min\n",
      "[Parallel(n_jobs=-1)]: Done 280 tasks      | elapsed:  9.8min\n",
      "[Parallel(n_jobs=-1)]: Done 478 out of 478 | elapsed: 16.7min finished\n",
      "[Parallel(n_jobs=4)]: Using backend ThreadingBackend with 4 concurrent workers.\n",
      "[Parallel(n_jobs=4)]: Done  24 tasks      | elapsed:    0.5s\n",
      "[Parallel(n_jobs=4)]: Done 120 tasks      | elapsed:    2.1s\n",
      "[Parallel(n_jobs=4)]: Done 280 tasks      | elapsed:    4.9s\n",
      "[Parallel(n_jobs=4)]: Done 478 out of 478 | elapsed:    8.3s finished\n"
     ]
    },
    {
     "name": "stdout",
     "output_type": "stream",
     "text": [
      "[CV] .................................... , score=0.638, total=16.9min\n",
      "[CV]  ................................................................\n"
     ]
    },
    {
     "name": "stderr",
     "output_type": "stream",
     "text": [
      "[Parallel(n_jobs=-1)]: Using backend LokyBackend with 4 concurrent workers.\n",
      "[Parallel(n_jobs=-1)]: Done  24 tasks      | elapsed:   50.6s\n",
      "[Parallel(n_jobs=-1)]: Done 120 tasks      | elapsed:  4.2min\n",
      "[Parallel(n_jobs=-1)]: Done 280 tasks      | elapsed:  9.7min\n",
      "[Parallel(n_jobs=-1)]: Done 478 out of 478 | elapsed: 17.3min finished\n",
      "[Parallel(n_jobs=4)]: Using backend ThreadingBackend with 4 concurrent workers.\n",
      "[Parallel(n_jobs=4)]: Done  24 tasks      | elapsed:    0.5s\n",
      "[Parallel(n_jobs=4)]: Done 120 tasks      | elapsed:    2.2s\n",
      "[Parallel(n_jobs=4)]: Done 280 tasks      | elapsed:    4.9s\n",
      "[Parallel(n_jobs=4)]: Done 478 out of 478 | elapsed:    8.2s finished\n"
     ]
    },
    {
     "name": "stdout",
     "output_type": "stream",
     "text": [
      "[CV] .................................... , score=0.642, total=17.4min\n",
      "| \u001b[0m 32      \u001b[0m | \u001b[0m 0.6279  \u001b[0m | \u001b[0m 48.81   \u001b[0m | \u001b[0m 9.777   \u001b[0m | \u001b[0m 2.398   \u001b[0m | \u001b[0m 478.3   \u001b[0m |\n"
     ]
    },
    {
     "name": "stderr",
     "output_type": "stream",
     "text": [
      "[Parallel(n_jobs=1)]: Done   5 out of   5 | elapsed: 92.2min finished\n",
      "[Parallel(n_jobs=1)]: Using backend SequentialBackend with 1 concurrent workers.\n"
     ]
    },
    {
     "name": "stdout",
     "output_type": "stream",
     "text": [
      "[CV]  ................................................................\n"
     ]
    },
    {
     "name": "stderr",
     "output_type": "stream",
     "text": [
      "[Parallel(n_jobs=-1)]: Using backend LokyBackend with 4 concurrent workers.\n",
      "[Parallel(n_jobs=-1)]: Done  24 tasks      | elapsed:  1.1min\n",
      "[Parallel(n_jobs=-1)]: Done 120 tasks      | elapsed:  5.3min\n",
      "[Parallel(n_jobs=-1)]: Done 280 tasks      | elapsed: 12.1min\n",
      "[Parallel(n_jobs=-1)]: Done 493 out of 493 | elapsed: 21.3min finished\n",
      "[Parallel(n_jobs=4)]: Using backend ThreadingBackend with 4 concurrent workers.\n",
      "[Parallel(n_jobs=4)]: Done  24 tasks      | elapsed:    0.5s\n",
      "[Parallel(n_jobs=4)]: Done 120 tasks      | elapsed:    2.1s\n",
      "[Parallel(n_jobs=4)]: Done 280 tasks      | elapsed:    4.9s\n",
      "[Parallel(n_jobs=4)]: Done 493 out of 493 | elapsed:    8.5s finished\n"
     ]
    },
    {
     "name": "stdout",
     "output_type": "stream",
     "text": [
      "[CV] .................................... , score=0.618, total=21.4min\n",
      "[CV]  ................................................................\n"
     ]
    },
    {
     "name": "stderr",
     "output_type": "stream",
     "text": [
      "[Parallel(n_jobs=1)]: Done   1 out of   1 | elapsed: 21.4min remaining:    0.0s\n",
      "[Parallel(n_jobs=-1)]: Using backend LokyBackend with 4 concurrent workers.\n",
      "[Parallel(n_jobs=-1)]: Done  24 tasks      | elapsed:  1.1min\n",
      "[Parallel(n_jobs=-1)]: Done 120 tasks      | elapsed:  5.5min\n",
      "[Parallel(n_jobs=-1)]: Done 280 tasks      | elapsed: 13.5min\n",
      "[Parallel(n_jobs=-1)]: Done 493 out of 493 | elapsed: 22.7min finished\n",
      "[Parallel(n_jobs=4)]: Using backend ThreadingBackend with 4 concurrent workers.\n",
      "[Parallel(n_jobs=4)]: Done  24 tasks      | elapsed:    0.5s\n",
      "[Parallel(n_jobs=4)]: Done 120 tasks      | elapsed:    2.2s\n",
      "[Parallel(n_jobs=4)]: Done 280 tasks      | elapsed:    5.0s\n",
      "[Parallel(n_jobs=4)]: Done 493 out of 493 | elapsed:    8.6s finished\n"
     ]
    },
    {
     "name": "stdout",
     "output_type": "stream",
     "text": [
      "[CV] .................................... , score=0.614, total=22.9min\n",
      "[CV]  ................................................................\n"
     ]
    },
    {
     "name": "stderr",
     "output_type": "stream",
     "text": [
      "[Parallel(n_jobs=1)]: Done   2 out of   2 | elapsed: 44.3min remaining:    0.0s\n",
      "[Parallel(n_jobs=-1)]: Using backend LokyBackend with 4 concurrent workers.\n",
      "[Parallel(n_jobs=-1)]: Done  24 tasks      | elapsed:  1.1min\n",
      "[Parallel(n_jobs=-1)]: Done 120 tasks      | elapsed:  5.3min\n",
      "[Parallel(n_jobs=-1)]: Done 280 tasks      | elapsed: 12.6min\n",
      "[Parallel(n_jobs=-1)]: Done 493 out of 493 | elapsed: 21.6min finished\n",
      "[Parallel(n_jobs=4)]: Using backend ThreadingBackend with 4 concurrent workers.\n",
      "[Parallel(n_jobs=4)]: Done  24 tasks      | elapsed:    0.4s\n",
      "[Parallel(n_jobs=4)]: Done 120 tasks      | elapsed:    2.2s\n",
      "[Parallel(n_jobs=4)]: Done 280 tasks      | elapsed:    5.0s\n",
      "[Parallel(n_jobs=4)]: Done 493 out of 493 | elapsed:    8.7s finished\n"
     ]
    },
    {
     "name": "stdout",
     "output_type": "stream",
     "text": [
      "[CV] .................................... , score=0.626, total=21.7min\n",
      "[CV]  ................................................................\n"
     ]
    },
    {
     "name": "stderr",
     "output_type": "stream",
     "text": [
      "[Parallel(n_jobs=-1)]: Using backend LokyBackend with 4 concurrent workers.\n",
      "[Parallel(n_jobs=-1)]: Done  24 tasks      | elapsed:  1.0min\n",
      "[Parallel(n_jobs=-1)]: Done 120 tasks      | elapsed:  5.2min\n",
      "[Parallel(n_jobs=-1)]: Done 280 tasks      | elapsed: 12.2min\n",
      "[Parallel(n_jobs=-1)]: Done 493 out of 493 | elapsed: 21.7min finished\n",
      "[Parallel(n_jobs=4)]: Using backend ThreadingBackend with 4 concurrent workers.\n",
      "[Parallel(n_jobs=4)]: Done  24 tasks      | elapsed:    0.5s\n",
      "[Parallel(n_jobs=4)]: Done 120 tasks      | elapsed:    2.3s\n",
      "[Parallel(n_jobs=4)]: Done 280 tasks      | elapsed:    5.0s\n",
      "[Parallel(n_jobs=4)]: Done 493 out of 493 | elapsed:    8.7s finished\n"
     ]
    },
    {
     "name": "stdout",
     "output_type": "stream",
     "text": [
      "[CV] .................................... , score=0.641, total=21.9min\n",
      "[CV]  ................................................................\n"
     ]
    },
    {
     "name": "stderr",
     "output_type": "stream",
     "text": [
      "[Parallel(n_jobs=-1)]: Using backend LokyBackend with 4 concurrent workers.\n",
      "[Parallel(n_jobs=-1)]: Done  24 tasks      | elapsed:  1.1min\n",
      "[Parallel(n_jobs=-1)]: Done 120 tasks      | elapsed:  5.2min\n",
      "[Parallel(n_jobs=-1)]: Done 280 tasks      | elapsed: 12.2min\n",
      "[Parallel(n_jobs=-1)]: Done 493 out of 493 | elapsed: 21.3min finished\n",
      "[Parallel(n_jobs=4)]: Using backend ThreadingBackend with 4 concurrent workers.\n",
      "[Parallel(n_jobs=4)]: Done  24 tasks      | elapsed:    0.4s\n",
      "[Parallel(n_jobs=4)]: Done 120 tasks      | elapsed:    2.1s\n",
      "[Parallel(n_jobs=4)]: Done 280 tasks      | elapsed:    4.8s\n",
      "[Parallel(n_jobs=4)]: Done 493 out of 493 | elapsed:    8.3s finished\n"
     ]
    },
    {
     "name": "stdout",
     "output_type": "stream",
     "text": [
      "[CV] .................................... , score=0.641, total=21.4min\n",
      "| \u001b[0m 33      \u001b[0m | \u001b[0m 0.6276  \u001b[0m | \u001b[0m 49.78   \u001b[0m | \u001b[0m 9.876   \u001b[0m | \u001b[0m 3.504   \u001b[0m | \u001b[0m 493.4   \u001b[0m |\n"
     ]
    },
    {
     "name": "stderr",
     "output_type": "stream",
     "text": [
      "[Parallel(n_jobs=1)]: Done   5 out of   5 | elapsed: 109.4min finished\n",
      "[Parallel(n_jobs=1)]: Using backend SequentialBackend with 1 concurrent workers.\n"
     ]
    },
    {
     "name": "stdout",
     "output_type": "stream",
     "text": [
      "[CV]  ................................................................\n"
     ]
    },
    {
     "name": "stderr",
     "output_type": "stream",
     "text": [
      "[Parallel(n_jobs=-1)]: Using backend LokyBackend with 4 concurrent workers.\n",
      "[Parallel(n_jobs=-1)]: Done  24 tasks      | elapsed:  1.1min\n",
      "[Parallel(n_jobs=-1)]: Done 120 tasks      | elapsed:  5.3min\n",
      "[Parallel(n_jobs=-1)]: Done 280 tasks      | elapsed: 12.2min\n",
      "[Parallel(n_jobs=-1)]: Done 499 out of 499 | elapsed: 21.6min finished\n",
      "[Parallel(n_jobs=4)]: Using backend ThreadingBackend with 4 concurrent workers.\n",
      "[Parallel(n_jobs=4)]: Done  24 tasks      | elapsed:    0.5s\n",
      "[Parallel(n_jobs=4)]: Done 120 tasks      | elapsed:    2.1s\n",
      "[Parallel(n_jobs=4)]: Done 280 tasks      | elapsed:    4.9s\n",
      "[Parallel(n_jobs=4)]: Done 499 out of 499 | elapsed:    8.6s finished\n"
     ]
    },
    {
     "name": "stdout",
     "output_type": "stream",
     "text": [
      "[CV] .................................... , score=0.618, total=21.7min\n",
      "[CV]  ................................................................\n"
     ]
    },
    {
     "name": "stderr",
     "output_type": "stream",
     "text": [
      "[Parallel(n_jobs=1)]: Done   1 out of   1 | elapsed: 21.7min remaining:    0.0s\n",
      "[Parallel(n_jobs=-1)]: Using backend LokyBackend with 4 concurrent workers.\n",
      "[Parallel(n_jobs=-1)]: Done  24 tasks      | elapsed:  1.0min\n",
      "[Parallel(n_jobs=-1)]: Done 120 tasks      | elapsed:  5.2min\n",
      "[Parallel(n_jobs=-1)]: Done 280 tasks      | elapsed: 12.3min\n",
      "[Parallel(n_jobs=-1)]: Done 499 out of 499 | elapsed: 22.0min finished\n",
      "[Parallel(n_jobs=4)]: Using backend ThreadingBackend with 4 concurrent workers.\n",
      "[Parallel(n_jobs=4)]: Done  24 tasks      | elapsed:    0.5s\n",
      "[Parallel(n_jobs=4)]: Done 120 tasks      | elapsed:    2.3s\n",
      "[Parallel(n_jobs=4)]: Done 280 tasks      | elapsed:    5.1s\n",
      "[Parallel(n_jobs=4)]: Done 499 out of 499 | elapsed:    9.0s finished\n"
     ]
    },
    {
     "name": "stdout",
     "output_type": "stream",
     "text": [
      "[CV] .................................... , score=0.613, total=22.2min\n",
      "[CV]  ................................................................\n"
     ]
    },
    {
     "name": "stderr",
     "output_type": "stream",
     "text": [
      "[Parallel(n_jobs=1)]: Done   2 out of   2 | elapsed: 43.9min remaining:    0.0s\n",
      "[Parallel(n_jobs=-1)]: Using backend LokyBackend with 4 concurrent workers.\n",
      "[Parallel(n_jobs=-1)]: Done  24 tasks      | elapsed:  1.1min\n",
      "[Parallel(n_jobs=-1)]: Done 120 tasks      | elapsed:  5.4min\n",
      "[Parallel(n_jobs=-1)]: Done 280 tasks      | elapsed: 12.3min\n",
      "[Parallel(n_jobs=-1)]: Done 499 out of 499 | elapsed: 21.7min finished\n",
      "[Parallel(n_jobs=4)]: Using backend ThreadingBackend with 4 concurrent workers.\n",
      "[Parallel(n_jobs=4)]: Done  24 tasks      | elapsed:    0.5s\n",
      "[Parallel(n_jobs=4)]: Done 120 tasks      | elapsed:    2.3s\n",
      "[Parallel(n_jobs=4)]: Done 280 tasks      | elapsed:    5.1s\n",
      "[Parallel(n_jobs=4)]: Done 499 out of 499 | elapsed:    8.8s finished\n"
     ]
    },
    {
     "name": "stdout",
     "output_type": "stream",
     "text": [
      "[CV] .................................... , score=0.626, total=21.8min\n",
      "[CV]  ................................................................\n"
     ]
    },
    {
     "name": "stderr",
     "output_type": "stream",
     "text": [
      "[Parallel(n_jobs=-1)]: Using backend LokyBackend with 4 concurrent workers.\n",
      "[Parallel(n_jobs=-1)]: Done  24 tasks      | elapsed:  1.1min\n",
      "[Parallel(n_jobs=-1)]: Done 120 tasks      | elapsed:  4.7min\n",
      "[Parallel(n_jobs=-1)]: Done 280 tasks      | elapsed: 10.4min\n",
      "[Parallel(n_jobs=-1)]: Done 499 out of 499 | elapsed: 18.0min finished\n",
      "[Parallel(n_jobs=4)]: Using backend ThreadingBackend with 4 concurrent workers.\n",
      "[Parallel(n_jobs=4)]: Done  24 tasks      | elapsed:    0.6s\n",
      "[Parallel(n_jobs=4)]: Done 120 tasks      | elapsed:    2.2s\n",
      "[Parallel(n_jobs=4)]: Done 280 tasks      | elapsed:    5.0s\n",
      "[Parallel(n_jobs=4)]: Done 499 out of 499 | elapsed:    8.8s finished\n"
     ]
    },
    {
     "name": "stdout",
     "output_type": "stream",
     "text": [
      "[CV] .................................... , score=0.641, total=18.2min\n",
      "[CV]  ................................................................\n"
     ]
    },
    {
     "name": "stderr",
     "output_type": "stream",
     "text": [
      "[Parallel(n_jobs=-1)]: Using backend LokyBackend with 4 concurrent workers.\n",
      "[Parallel(n_jobs=-1)]: Done  24 tasks      | elapsed:   52.9s\n",
      "[Parallel(n_jobs=-1)]: Done 120 tasks      | elapsed:  4.3min\n",
      "[Parallel(n_jobs=-1)]: Done 280 tasks      | elapsed: 10.0min\n",
      "[Parallel(n_jobs=-1)]: Done 499 out of 499 | elapsed: 17.6min finished\n",
      "[Parallel(n_jobs=4)]: Using backend ThreadingBackend with 4 concurrent workers.\n",
      "[Parallel(n_jobs=4)]: Done  24 tasks      | elapsed:    0.4s\n",
      "[Parallel(n_jobs=4)]: Done 120 tasks      | elapsed:    2.1s\n",
      "[Parallel(n_jobs=4)]: Done 280 tasks      | elapsed:    4.9s\n",
      "[Parallel(n_jobs=4)]: Done 499 out of 499 | elapsed:    8.7s finished\n"
     ]
    },
    {
     "name": "stdout",
     "output_type": "stream",
     "text": [
      "[CV] .................................... , score=0.641, total=17.7min\n",
      "| \u001b[0m 34      \u001b[0m | \u001b[0m 0.6278  \u001b[0m | \u001b[0m 49.85   \u001b[0m | \u001b[0m 9.891   \u001b[0m | \u001b[0m 2.071   \u001b[0m | \u001b[0m 500.0   \u001b[0m |\n"
     ]
    },
    {
     "name": "stderr",
     "output_type": "stream",
     "text": [
      "[Parallel(n_jobs=1)]: Done   5 out of   5 | elapsed: 101.7min finished\n",
      "[Parallel(n_jobs=1)]: Using backend SequentialBackend with 1 concurrent workers.\n"
     ]
    },
    {
     "name": "stdout",
     "output_type": "stream",
     "text": [
      "[CV]  ................................................................\n"
     ]
    },
    {
     "name": "stderr",
     "output_type": "stream",
     "text": [
      "[Parallel(n_jobs=-1)]: Using backend LokyBackend with 4 concurrent workers.\n",
      "[Parallel(n_jobs=-1)]: Done  24 tasks      | elapsed:  1.1min\n",
      "[Parallel(n_jobs=-1)]: Done 120 tasks      | elapsed:  5.5min\n",
      "[Parallel(n_jobs=-1)]: Done 280 tasks      | elapsed: 12.7min\n",
      "[Parallel(n_jobs=-1)]: Done 491 out of 491 | elapsed: 22.1min finished\n",
      "[Parallel(n_jobs=4)]: Using backend ThreadingBackend with 4 concurrent workers.\n",
      "[Parallel(n_jobs=4)]: Done  24 tasks      | elapsed:    0.4s\n",
      "[Parallel(n_jobs=4)]: Done 120 tasks      | elapsed:    2.1s\n",
      "[Parallel(n_jobs=4)]: Done 280 tasks      | elapsed:    4.9s\n",
      "[Parallel(n_jobs=4)]: Done 491 out of 491 | elapsed:    8.7s finished\n"
     ]
    },
    {
     "name": "stdout",
     "output_type": "stream",
     "text": [
      "[CV] .................................... , score=0.603, total=22.3min\n"
     ]
    },
    {
     "name": "stderr",
     "output_type": "stream",
     "text": [
      "[Parallel(n_jobs=1)]: Done   1 out of   1 | elapsed: 22.3min remaining:    0.0s\n"
     ]
    },
    {
     "name": "stdout",
     "output_type": "stream",
     "text": [
      "[CV]  ................................................................\n"
     ]
    },
    {
     "name": "stderr",
     "output_type": "stream",
     "text": [
      "[Parallel(n_jobs=-1)]: Using backend LokyBackend with 4 concurrent workers.\n",
      "[Parallel(n_jobs=-1)]: Done  24 tasks      | elapsed:  1.1min\n",
      "[Parallel(n_jobs=-1)]: Done 120 tasks      | elapsed:  5.5min\n",
      "[Parallel(n_jobs=-1)]: Done 280 tasks      | elapsed: 12.8min\n",
      "[Parallel(n_jobs=-1)]: Done 491 out of 491 | elapsed: 22.4min finished\n",
      "[Parallel(n_jobs=4)]: Using backend ThreadingBackend with 4 concurrent workers.\n",
      "[Parallel(n_jobs=4)]: Done  24 tasks      | elapsed:    0.5s\n",
      "[Parallel(n_jobs=4)]: Done 120 tasks      | elapsed:    2.2s\n",
      "[Parallel(n_jobs=4)]: Done 280 tasks      | elapsed:    5.1s\n",
      "[Parallel(n_jobs=4)]: Done 491 out of 491 | elapsed:    8.7s finished\n"
     ]
    },
    {
     "name": "stdout",
     "output_type": "stream",
     "text": [
      "[CV] .................................... , score=0.601, total=22.5min\n"
     ]
    },
    {
     "name": "stderr",
     "output_type": "stream",
     "text": [
      "[Parallel(n_jobs=1)]: Done   2 out of   2 | elapsed: 44.8min remaining:    0.0s\n"
     ]
    },
    {
     "name": "stdout",
     "output_type": "stream",
     "text": [
      "[CV]  ................................................................\n"
     ]
    },
    {
     "name": "stderr",
     "output_type": "stream",
     "text": [
      "[Parallel(n_jobs=-1)]: Using backend LokyBackend with 4 concurrent workers.\n",
      "[Parallel(n_jobs=-1)]: Done  24 tasks      | elapsed:  1.1min\n",
      "[Parallel(n_jobs=-1)]: Done 120 tasks      | elapsed:  5.4min\n",
      "[Parallel(n_jobs=-1)]: Done 280 tasks      | elapsed: 12.7min\n",
      "[Parallel(n_jobs=-1)]: Done 491 out of 491 | elapsed: 22.1min finished\n",
      "[Parallel(n_jobs=4)]: Using backend ThreadingBackend with 4 concurrent workers.\n",
      "[Parallel(n_jobs=4)]: Done  24 tasks      | elapsed:    0.4s\n",
      "[Parallel(n_jobs=4)]: Done 120 tasks      | elapsed:    2.1s\n",
      "[Parallel(n_jobs=4)]: Done 280 tasks      | elapsed:    4.9s\n",
      "[Parallel(n_jobs=4)]: Done 491 out of 491 | elapsed:    8.5s finished\n"
     ]
    },
    {
     "name": "stdout",
     "output_type": "stream",
     "text": [
      "[CV] .................................... , score=0.611, total=22.3min\n",
      "[CV]  ................................................................\n"
     ]
    },
    {
     "name": "stderr",
     "output_type": "stream",
     "text": [
      "[Parallel(n_jobs=-1)]: Using backend LokyBackend with 4 concurrent workers.\n",
      "[Parallel(n_jobs=-1)]: Done  24 tasks      | elapsed:  1.1min\n",
      "[Parallel(n_jobs=-1)]: Done 120 tasks      | elapsed:  5.5min\n",
      "[Parallel(n_jobs=-1)]: Done 280 tasks      | elapsed: 12.7min\n",
      "[Parallel(n_jobs=-1)]: Done 491 out of 491 | elapsed: 22.2min finished\n",
      "[Parallel(n_jobs=4)]: Using backend ThreadingBackend with 4 concurrent workers.\n",
      "[Parallel(n_jobs=4)]: Done  24 tasks      | elapsed:    0.4s\n",
      "[Parallel(n_jobs=4)]: Done 120 tasks      | elapsed:    2.1s\n",
      "[Parallel(n_jobs=4)]: Done 280 tasks      | elapsed:    4.9s\n",
      "[Parallel(n_jobs=4)]: Done 491 out of 491 | elapsed:    8.5s finished\n"
     ]
    },
    {
     "name": "stdout",
     "output_type": "stream",
     "text": [
      "[CV] .................................... , score=0.625, total=22.3min\n",
      "[CV]  ................................................................\n"
     ]
    },
    {
     "name": "stderr",
     "output_type": "stream",
     "text": [
      "[Parallel(n_jobs=-1)]: Using backend LokyBackend with 4 concurrent workers.\n",
      "[Parallel(n_jobs=-1)]: Done  24 tasks      | elapsed:  1.1min\n",
      "[Parallel(n_jobs=-1)]: Done 120 tasks      | elapsed:  5.5min\n",
      "[Parallel(n_jobs=-1)]: Done 280 tasks      | elapsed: 12.7min\n",
      "[Parallel(n_jobs=-1)]: Done 491 out of 491 | elapsed: 22.3min finished\n",
      "[Parallel(n_jobs=4)]: Using backend ThreadingBackend with 4 concurrent workers.\n",
      "[Parallel(n_jobs=4)]: Done  24 tasks      | elapsed:    0.4s\n",
      "[Parallel(n_jobs=4)]: Done 120 tasks      | elapsed:    2.1s\n",
      "[Parallel(n_jobs=4)]: Done 280 tasks      | elapsed:    4.9s\n",
      "[Parallel(n_jobs=4)]: Done 491 out of 491 | elapsed:    8.5s finished\n"
     ]
    },
    {
     "name": "stdout",
     "output_type": "stream",
     "text": [
      "[CV] .................................... , score=0.623, total=22.5min\n",
      "| \u001b[0m 35      \u001b[0m | \u001b[0m 0.6127  \u001b[0m | \u001b[0m 49.74   \u001b[0m | \u001b[0m 1.215   \u001b[0m | \u001b[0m 2.177   \u001b[0m | \u001b[0m 491.7   \u001b[0m |\n",
      "=========================================================================\n"
     ]
    },
    {
     "name": "stderr",
     "output_type": "stream",
     "text": [
      "[Parallel(n_jobs=1)]: Done   5 out of   5 | elapsed: 111.9min finished\n"
     ]
    }
   ],
   "source": [
    "optimizer.maximize(\n",
    "    init_points=5,\n",
    "    n_iter=30,\n",
    ")"
   ]
  }
 ],
 "metadata": {
  "kernelspec": {
   "display_name": "Python 3",
   "language": "python",
   "name": "python3"
  },
  "language_info": {
   "codemirror_mode": {
    "name": "ipython",
    "version": 3
   },
   "file_extension": ".py",
   "mimetype": "text/x-python",
   "name": "python",
   "nbconvert_exporter": "python",
   "pygments_lexer": "ipython3",
   "version": "3.6.9"
  }
 },
 "nbformat": 4,
 "nbformat_minor": 4
}
